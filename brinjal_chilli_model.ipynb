{
  "nbformat": 4,
  "nbformat_minor": 0,
  "metadata": {
    "colab": {
      "name": "brinjal_chilli_model.ipynb",
      "provenance": [],
      "collapsed_sections": [
        "I9x71dhcJFFs",
        "4EVfZYkdv_nG",
        "5UBx1GEPwOuY",
        "1ayR1pKyV4xm"
      ],
      "machine_shape": "hm"
    },
    "kernelspec": {
      "name": "python3",
      "display_name": "Python 3"
    },
    "language_info": {
      "name": "python"
    }
  },
  "cells": [
    {
      "cell_type": "markdown",
      "source": [
        "**Connecting to Google drive**"
      ],
      "metadata": {
        "id": "tCgYikXq9iGM"
      }
    },
    {
      "cell_type": "code",
      "source": [
        "!nvidia-smi -L"
      ],
      "metadata": {
        "colab": {
          "base_uri": "https://localhost:8080/"
        },
        "id": "bNG8PMOfZB6c",
        "outputId": "72cdc7cd-12c3-453a-c5b7-525fceed6579"
      },
      "execution_count": null,
      "outputs": [
        {
          "output_type": "stream",
          "name": "stdout",
          "text": [
            "GPU 0: Tesla T4 (UUID: GPU-95ece42e-19bc-7d95-4a3e-c448d1ef8bf9)\n"
          ]
        }
      ]
    },
    {
      "cell_type": "code",
      "source": [
        "from google.colab import drive\n",
        "drive.mount('/content/gdrive')"
      ],
      "metadata": {
        "colab": {
          "base_uri": "https://localhost:8080/"
        },
        "id": "ipASccZNBX4C",
        "outputId": "ddf49452-6833-49ad-d4e0-cc1e170d3219"
      },
      "execution_count": null,
      "outputs": [
        {
          "output_type": "stream",
          "name": "stdout",
          "text": [
            "Mounted at /content/gdrive\n"
          ]
        }
      ]
    },
    {
      "cell_type": "code",
      "source": [
        "#Extracting file from gdrive into colab\n",
        "!pip3 install patool\n",
        "import patoolib\n",
        "patoolib.extract_archive(\"/content/gdrive/MyDrive/plant disease detection project/brinjal_chili_dataset/brinjal_chilli_model_data.rar\",\n",
        "                         outdir=\"/content/\")"
      ],
      "metadata": {
        "colab": {
          "base_uri": "https://localhost:8080/",
          "height": 211
        },
        "id": "CT0NvG0F0V4e",
        "outputId": "2580c31b-9eb0-488a-c610-976cb7da479a"
      },
      "execution_count": null,
      "outputs": [
        {
          "output_type": "stream",
          "name": "stdout",
          "text": [
            "Collecting patool\n",
            "  Downloading patool-1.12-py2.py3-none-any.whl (77 kB)\n",
            "\u001b[?25l\r\u001b[K     |████▎                           | 10 kB 26.4 MB/s eta 0:00:01\r\u001b[K     |████████▌                       | 20 kB 11.5 MB/s eta 0:00:01\r\u001b[K     |████████████▊                   | 30 kB 8.7 MB/s eta 0:00:01\r\u001b[K     |█████████████████               | 40 kB 3.8 MB/s eta 0:00:01\r\u001b[K     |█████████████████████▏          | 51 kB 3.7 MB/s eta 0:00:01\r\u001b[K     |█████████████████████████▍      | 61 kB 4.4 MB/s eta 0:00:01\r\u001b[K     |█████████████████████████████▋  | 71 kB 4.6 MB/s eta 0:00:01\r\u001b[K     |████████████████████████████████| 77 kB 2.8 MB/s \n",
            "\u001b[?25hInstalling collected packages: patool\n",
            "Successfully installed patool-1.12\n",
            "patool: Extracting /content/gdrive/MyDrive/plant disease detection project/brinjal_chili_dataset/brinjal_chilli_model_data.rar ...\n",
            "patool: running /usr/bin/unrar x -- \"/content/gdrive/MyDrive/plant disease detection project/brinjal_chili_dataset/brinjal_chilli_model_data.rar\"\n",
            "patool:     with cwd='/content/'\n",
            "patool: ... /content/gdrive/MyDrive/plant disease detection project/brinjal_chili_dataset/brinjal_chilli_model_data.rar extracted to `/content/'.\n"
          ]
        },
        {
          "output_type": "execute_result",
          "data": {
            "text/plain": [
              "'/content/'"
            ],
            "application/vnd.google.colaboratory.intrinsic+json": {
              "type": "string"
            }
          },
          "metadata": {},
          "execution_count": 2
        }
      ]
    },
    {
      "cell_type": "code",
      "source": [
        " %tensorflow_version 2.x\n",
        "import tensorflow as tf\n",
        "import os\n",
        "import numpy as np\n",
        "import pandas as pd"
      ],
      "metadata": {
        "id": "y9Ng0MNHG5T3"
      },
      "execution_count": null,
      "outputs": []
    },
    {
      "cell_type": "code",
      "source": [
        "dir_path = \"/content/brinjal_chilli_model_data\""
      ],
      "metadata": {
        "id": "_VylvZHH9EYq"
      },
      "execution_count": null,
      "outputs": []
    },
    {
      "cell_type": "code",
      "execution_count": null,
      "metadata": {
        "id": "yqbuE4Cj85sA",
        "colab": {
          "base_uri": "https://localhost:8080/"
        },
        "outputId": "538b23da-605c-4b99-f988-fd009e2fd50b"
      },
      "outputs": [
        {
          "output_type": "stream",
          "name": "stdout",
          "text": [
            "/content/brinjal_chilli_model_data\n"
          ]
        }
      ],
      "source": [
        "#importing pathlib\n",
        "#please check https://docs.python.org/3/library/pathlib.html  to know about pathlib\n",
        "import pathlib\n",
        "data_root = pathlib.Path(dir_path)\n",
        "print(data_root)"
      ]
    },
    {
      "cell_type": "code",
      "source": [
        "import glob\n",
        "from multiprocessing import Pool\n",
        "from PIL import Image\n",
        "\n",
        "def CheckOne(f):\n",
        "    try:\n",
        "        im = Image.open(f)\n",
        "        im.verify()\n",
        "        im.close()\n",
        "        return\n",
        "    except (IOError, OSError, Image.DecompressionBombError):\n",
        "        return f\n",
        "\n",
        "\n",
        "p = Pool()\n",
        "files = [f for f in data_root.glob('*/*')]\n",
        "print(f\"Files to be checked: {len(files)}\")\n",
        "\n",
        "# Map the list of files to check onto the Pool\n",
        "corrupted_files = p.map(CheckOne, files)\n",
        "\n",
        "# Filter out None values representing files that are ok, leaving just corrupt ones\n",
        "corrupted_files = list(filter(None, corrupted_files)) \n",
        "print(f\"Num corrupt files: {len(corrupted_files)}\")\n",
        "corrupted_files\n"
      ],
      "metadata": {
        "colab": {
          "base_uri": "https://localhost:8080/"
        },
        "id": "OHi6ek3cdbx4",
        "outputId": "81668fe4-2911-4d74-92ef-d03ce77490a0"
      },
      "execution_count": null,
      "outputs": [
        {
          "output_type": "stream",
          "name": "stdout",
          "text": [
            "Files to be checked: 1705\n",
            "Num corrupt files: 0\n"
          ]
        },
        {
          "output_type": "execute_result",
          "data": {
            "text/plain": [
              "[]"
            ]
          },
          "metadata": {},
          "execution_count": 16
        }
      ]
    },
    {
      "cell_type": "code",
      "source": [
        "for file in corrupted_files :\n",
        "  os.remove(file) "
      ],
      "metadata": {
        "id": "aory-aqIfdlI"
      },
      "execution_count": null,
      "outputs": []
    },
    {
      "cell_type": "code",
      "source": [
        "##getting all the directories\n",
        "list(data_root.iterdir())"
      ],
      "metadata": {
        "id": "eCviPHDQ8-7j",
        "colab": {
          "base_uri": "https://localhost:8080/"
        },
        "outputId": "efaf7a7e-9fdc-478a-91fc-780c3ceebb29"
      },
      "execution_count": null,
      "outputs": [
        {
          "output_type": "execute_result",
          "data": {
            "text/plain": [
              "[PosixPath('/content/brinjal_chilli_model_data/Brinjal'),\n",
              " PosixPath('/content/brinjal_chilli_model_data/.ipynb_checkpoints'),\n",
              " PosixPath('/content/brinjal_chilli_model_data/Chilli')]"
            ]
          },
          "metadata": {},
          "execution_count": 18
        }
      ]
    },
    {
      "cell_type": "code",
      "source": [
        "\n",
        "##Getting all image paths\n",
        "import random\n",
        "all_image_paths = list(data_root.glob('*/*'))\n",
        "all_image_paths = [str(path) for path in all_image_paths]\n",
        "# ##shuffling the images \n",
        "random.shuffle(all_image_paths)\n",
        "\n",
        "image_count = len(all_image_paths)\n",
        "image_count"
      ],
      "metadata": {
        "id": "tuV-Ifm38_i6",
        "colab": {
          "base_uri": "https://localhost:8080/"
        },
        "outputId": "72f10b76-38d4-4170-fb33-651480fb70dc"
      },
      "execution_count": null,
      "outputs": [
        {
          "output_type": "execute_result",
          "data": {
            "text/plain": [
              "1705"
            ]
          },
          "metadata": {},
          "execution_count": 19
        }
      ]
    },
    {
      "cell_type": "code",
      "source": [
        "all_image_paths[:6]"
      ],
      "metadata": {
        "id": "286R3OQu8_mD",
        "colab": {
          "base_uri": "https://localhost:8080/"
        },
        "outputId": "68bf18fe-24ec-4346-a66a-41a322940c1f"
      },
      "execution_count": null,
      "outputs": [
        {
          "output_type": "execute_result",
          "data": {
            "text/plain": [
              "['/content/brinjal_chilli_model_data/Chilli/IMG_20220419_162430.jpg',\n",
              " '/content/brinjal_chilli_model_data/Chilli/IMG_20220411_111922.jpg',\n",
              " '/content/brinjal_chilli_model_data/Chilli/IMG_20220411_110651.jpg',\n",
              " '/content/brinjal_chilli_model_data/Brinjal/IMG_20220425_173455.jpg',\n",
              " '/content/brinjal_chilli_model_data/Brinjal/IMG_20220425_173401.jpg',\n",
              " '/content/brinjal_chilli_model_data/Chilli/IMG_20220425_172537.jpg']"
            ]
          },
          "metadata": {},
          "execution_count": 20
        }
      ]
    },
    {
      "cell_type": "code",
      "source": [
        "#List the available labels\n",
        "label_names = sorted(item.name for item in data_root.glob('*/') if item.is_dir())[1:]\n",
        "label_names"
      ],
      "metadata": {
        "colab": {
          "base_uri": "https://localhost:8080/"
        },
        "id": "_YqtdPzwfBTV",
        "outputId": "4bcbb3ce-24f3-4a44-bc9b-13ec12ea4776"
      },
      "execution_count": null,
      "outputs": [
        {
          "output_type": "execute_result",
          "data": {
            "text/plain": [
              "['Brinjal', 'Chilli']"
            ]
          },
          "metadata": {},
          "execution_count": 21
        }
      ]
    },
    {
      "cell_type": "code",
      "source": [
        "label_to_index = dict((name, index) for index,name in enumerate(label_names))\n",
        "label_to_index"
      ],
      "metadata": {
        "colab": {
          "base_uri": "https://localhost:8080/"
        },
        "id": "BRQOkwQc--PK",
        "outputId": "c5978bba-7ec6-457e-f1d2-132255877879"
      },
      "execution_count": null,
      "outputs": [
        {
          "output_type": "execute_result",
          "data": {
            "text/plain": [
              "{'Brinjal': 0, 'Chilli': 1}"
            ]
          },
          "metadata": {},
          "execution_count": 22
        }
      ]
    },
    {
      "cell_type": "code",
      "source": [
        "#Create a list of every file, and its label index\n",
        "all_image_labels = [label_to_index[pathlib.Path(path).parent.name] for path in all_image_paths]\n",
        "all_image_labels[0:10]"
      ],
      "metadata": {
        "id": "X5EyyxsYfSck",
        "colab": {
          "base_uri": "https://localhost:8080/"
        },
        "outputId": "2357abb9-8165-4215-a8c1-1424c4d9d2cb"
      },
      "execution_count": null,
      "outputs": [
        {
          "output_type": "execute_result",
          "data": {
            "text/plain": [
              "[1, 1, 1, 0, 0, 1, 1, 1, 1, 0]"
            ]
          },
          "metadata": {},
          "execution_count": 23
        }
      ]
    },
    {
      "cell_type": "markdown",
      "source": [
        "**Train  test cv split and shuffle**"
      ],
      "metadata": {
        "id": "mADtJxDiehDc"
      }
    },
    {
      "cell_type": "code",
      "source": [
        "from sklearn.model_selection import train_test_split\n",
        "\n",
        "x_train, x_test, y_train, y_test = train_test_split(all_image_paths, all_image_labels ,test_size=0.10, train_size=0.90, shuffle = True, stratify =all_image_labels )\n",
        "# x_test, x_cv, y_test, y_cv = train_test_split(x, y, test_size = 0.50,train_size =0.50, shuffle = True)"
      ],
      "metadata": {
        "id": "qhNR5SSoe73k"
      },
      "execution_count": null,
      "outputs": []
    },
    {
      "cell_type": "code",
      "source": [
        "print(\"training size:\",len(x_train))\n",
        "# print(\"cross val size:\",len(x_cv))\n",
        "print(\"testing size:\",len(x_test))"
      ],
      "metadata": {
        "colab": {
          "base_uri": "https://localhost:8080/"
        },
        "id": "qMGah0GV_OwJ",
        "outputId": "ec9cb440-6ce2-4eb8-dfc6-67d5bc48a1c5"
      },
      "execution_count": null,
      "outputs": [
        {
          "output_type": "stream",
          "name": "stdout",
          "text": [
            "training size: 1534\n",
            "testing size: 171\n"
          ]
        }
      ]
    },
    {
      "cell_type": "code",
      "source": [
        "\n",
        "steps_per_epoch_tr=np.ceil(len(x_train)/32)\n",
        "steps_per_epoch_te=np.ceil(len(x_test)/4)\n",
        "\n",
        "# steps_per_epoch_cv=np.ceil(len(x_cv)/32)\n",
        "steps_per_epoch_tr"
      ],
      "metadata": {
        "colab": {
          "base_uri": "https://localhost:8080/"
        },
        "id": "44TmutHkkWWL",
        "outputId": "7db8b247-ddfe-4227-f5d8-b317fd54de10"
      },
      "execution_count": null,
      "outputs": [
        {
          "output_type": "execute_result",
          "data": {
            "text/plain": [
              "48.0"
            ]
          },
          "metadata": {},
          "execution_count": 26
        }
      ]
    },
    {
      "cell_type": "code",
      "source": [
        "def tfdata_generator(images, labels, is_training, batch_size=32):\n",
        "    '''Construct a data generator using tf.Dataset'''\n",
        "    \n",
        "    def parse_function(filename, label):\n",
        "        #reading path \n",
        "        image_string = tf.io.read_file(filename)\n",
        "        #decoding image\n",
        "        image = tf.image.decode_jpeg(image_string, channels=3)\n",
        "\n",
        "        # This will convert to float values in [0, 1]\n",
        "        image = tf.image.convert_image_dtype(image, tf.float32)\n",
        "        #resize the image\n",
        "        image = tf.image.resize(image, [224, 224])\n",
        "        #one hot coding for label\n",
        "        y = tf.one_hot(tf.cast(label, tf.uint8), 2)\n",
        "        return image, y\n",
        "    \n",
        "    def flip(image,labels):\n",
        "        \n",
        "        image = tf.image.random_flip_left_right(image)\n",
        "        image = tf.image.random_flip_up_down(image)\n",
        "        \n",
        "        return image,labels\n",
        "\n",
        "    # def zoom(image, labels):\n",
        "    #     image = tf.image.central_crop(image,central_fraction=0.8)\n",
        "    #     return image, labels\n",
        "    \n",
        "    def rotate(image,labels):\n",
        "\n",
        "        return tf.image.rot90(image, tf.random.uniform(shape=[], minval=0, maxval=4, dtype=tf.int32)), labels\n",
        "    \n",
        "    def color(image,labels):\n",
        "        image = tf.image.random_hue(image, 0.08)\n",
        "        image = tf.image.random_saturation(image, 0.6, 1.6)\n",
        "        image = tf.image.random_brightness(image, 0.05)\n",
        "        image = tf.image.random_contrast(image, 0.7, 1.3)\n",
        "        return image,labels\n",
        "\n",
        "    \n",
        "    ##creating a dataset from tensorslices\n",
        "    dataset = tf.data.Dataset.from_tensor_slices((images, labels))\n",
        "    \n",
        "    if is_training:\n",
        "        dataset = dataset.shuffle(len(all_image_paths))  # depends on sample size\n",
        "\n",
        "\n",
        "    # Transform and batch data at the same time\n",
        "    dataset = dataset.map(parse_function,  num_parallel_calls=4)\n",
        "\n",
        "    augmentations = [flip, rotate, color]\n",
        "    if is_training:   \n",
        "        for augmentation in augmentations:\n",
        "            if np.random.uniform(0, 1) < 0.5:\n",
        "                dataset = dataset.map(augmentation, num_parallel_calls=4)\n",
        "\n",
        "\n",
        "    dataset = dataset.batch(batch_size, drop_remainder=True if is_training else False)  \\\n",
        "                      .repeat()  \\\n",
        "                      .prefetch(tf.data.AUTOTUNE)  \\\n",
        "                      .cache()\n",
        "\n",
        "    return dataset"
      ],
      "metadata": {
        "id": "y6uB96wV8_16"
      },
      "execution_count": null,
      "outputs": []
    },
    {
      "cell_type": "code",
      "source": [
        "# all_dataset = tfdata_generator(all_image_paths, all_image_labels, is_training=True, batch_size=32)"
      ],
      "metadata": {
        "id": "488MwTt63v6w"
      },
      "execution_count": null,
      "outputs": []
    },
    {
      "cell_type": "code",
      "source": [
        "#creating a generator\n",
        "tr_dataset = tfdata_generator(x_train, y_train, is_training=True, batch_size=32)\n",
        "# cv_dataset = tfdata_generator(x_cv, y_cv, is_training=True, batch_size=32)\n",
        "te_dataset = tfdata_generator(x_test, y_test, is_training=True, batch_size=4)"
      ],
      "metadata": {
        "id": "qBlb0RHj8_5j"
      },
      "execution_count": null,
      "outputs": []
    },
    {
      "cell_type": "code",
      "source": [
        "##Time taken to load the images\n",
        "import time\n",
        "t = 0\n",
        "start = time.time()\n",
        "for x, y in tr_dataset.take(steps_per_epoch_tr):\n",
        "    pass\n",
        "end = time.time()\n",
        "duration = end-start\n",
        "print(\"{} batches: {} s\".format(steps_per_epoch_tr, duration))\n",
        "print(\"{:0.5f} Images/s\".format(32*steps_per_epoch_tr/duration))"
      ],
      "metadata": {
        "id": "zBaDy6t-9ADy",
        "colab": {
          "base_uri": "https://localhost:8080/",
          "height": 398
        },
        "outputId": "ba042140-5da5-45d9-d382-bc4fb40f696d"
      },
      "execution_count": null,
      "outputs": [
        {
          "output_type": "error",
          "ename": "KeyboardInterrupt",
          "evalue": "ignored",
          "traceback": [
            "\u001b[0;31m---------------------------------------------------------------------------\u001b[0m",
            "\u001b[0;31mKeyboardInterrupt\u001b[0m                         Traceback (most recent call last)",
            "\u001b[0;32m<ipython-input-25-1aeb654f41ca>\u001b[0m in \u001b[0;36m<module>\u001b[0;34m()\u001b[0m\n\u001b[1;32m      3\u001b[0m \u001b[0mt\u001b[0m \u001b[0;34m=\u001b[0m \u001b[0;36m0\u001b[0m\u001b[0;34m\u001b[0m\u001b[0;34m\u001b[0m\u001b[0m\n\u001b[1;32m      4\u001b[0m \u001b[0mstart\u001b[0m \u001b[0;34m=\u001b[0m \u001b[0mtime\u001b[0m\u001b[0;34m.\u001b[0m\u001b[0mtime\u001b[0m\u001b[0;34m(\u001b[0m\u001b[0;34m)\u001b[0m\u001b[0;34m\u001b[0m\u001b[0;34m\u001b[0m\u001b[0m\n\u001b[0;32m----> 5\u001b[0;31m \u001b[0;32mfor\u001b[0m \u001b[0mx\u001b[0m\u001b[0;34m,\u001b[0m \u001b[0my\u001b[0m \u001b[0;32min\u001b[0m \u001b[0mtr_dataset\u001b[0m\u001b[0;34m.\u001b[0m\u001b[0mtake\u001b[0m\u001b[0;34m(\u001b[0m\u001b[0msteps_per_epoch_tr\u001b[0m\u001b[0;34m)\u001b[0m\u001b[0;34m:\u001b[0m\u001b[0;34m\u001b[0m\u001b[0;34m\u001b[0m\u001b[0m\n\u001b[0m\u001b[1;32m      6\u001b[0m     \u001b[0;32mpass\u001b[0m\u001b[0;34m\u001b[0m\u001b[0;34m\u001b[0m\u001b[0m\n\u001b[1;32m      7\u001b[0m \u001b[0mend\u001b[0m \u001b[0;34m=\u001b[0m \u001b[0mtime\u001b[0m\u001b[0;34m.\u001b[0m\u001b[0mtime\u001b[0m\u001b[0;34m(\u001b[0m\u001b[0;34m)\u001b[0m\u001b[0;34m\u001b[0m\u001b[0;34m\u001b[0m\u001b[0m\n",
            "\u001b[0;32m/usr/local/lib/python3.7/dist-packages/tensorflow/python/data/ops/iterator_ops.py\u001b[0m in \u001b[0;36m__next__\u001b[0;34m(self)\u001b[0m\n\u001b[1;32m    834\u001b[0m   \u001b[0;32mdef\u001b[0m \u001b[0m__next__\u001b[0m\u001b[0;34m(\u001b[0m\u001b[0mself\u001b[0m\u001b[0;34m)\u001b[0m\u001b[0;34m:\u001b[0m\u001b[0;34m\u001b[0m\u001b[0;34m\u001b[0m\u001b[0m\n\u001b[1;32m    835\u001b[0m     \u001b[0;32mtry\u001b[0m\u001b[0;34m:\u001b[0m\u001b[0;34m\u001b[0m\u001b[0;34m\u001b[0m\u001b[0m\n\u001b[0;32m--> 836\u001b[0;31m       \u001b[0;32mreturn\u001b[0m \u001b[0mself\u001b[0m\u001b[0;34m.\u001b[0m\u001b[0m_next_internal\u001b[0m\u001b[0;34m(\u001b[0m\u001b[0;34m)\u001b[0m\u001b[0;34m\u001b[0m\u001b[0;34m\u001b[0m\u001b[0m\n\u001b[0m\u001b[1;32m    837\u001b[0m     \u001b[0;32mexcept\u001b[0m \u001b[0merrors\u001b[0m\u001b[0;34m.\u001b[0m\u001b[0mOutOfRangeError\u001b[0m\u001b[0;34m:\u001b[0m\u001b[0;34m\u001b[0m\u001b[0;34m\u001b[0m\u001b[0m\n\u001b[1;32m    838\u001b[0m       \u001b[0;32mraise\u001b[0m \u001b[0mStopIteration\u001b[0m\u001b[0;34m\u001b[0m\u001b[0;34m\u001b[0m\u001b[0m\n",
            "\u001b[0;32m/usr/local/lib/python3.7/dist-packages/tensorflow/python/data/ops/iterator_ops.py\u001b[0m in \u001b[0;36m_next_internal\u001b[0;34m(self)\u001b[0m\n\u001b[1;32m    820\u001b[0m           \u001b[0mself\u001b[0m\u001b[0;34m.\u001b[0m\u001b[0m_iterator_resource\u001b[0m\u001b[0;34m,\u001b[0m\u001b[0;34m\u001b[0m\u001b[0;34m\u001b[0m\u001b[0m\n\u001b[1;32m    821\u001b[0m           \u001b[0moutput_types\u001b[0m\u001b[0;34m=\u001b[0m\u001b[0mself\u001b[0m\u001b[0;34m.\u001b[0m\u001b[0m_flat_output_types\u001b[0m\u001b[0;34m,\u001b[0m\u001b[0;34m\u001b[0m\u001b[0;34m\u001b[0m\u001b[0m\n\u001b[0;32m--> 822\u001b[0;31m           output_shapes=self._flat_output_shapes)\n\u001b[0m\u001b[1;32m    823\u001b[0m \u001b[0;34m\u001b[0m\u001b[0m\n\u001b[1;32m    824\u001b[0m       \u001b[0;32mtry\u001b[0m\u001b[0;34m:\u001b[0m\u001b[0;34m\u001b[0m\u001b[0;34m\u001b[0m\u001b[0m\n",
            "\u001b[0;32m/usr/local/lib/python3.7/dist-packages/tensorflow/python/ops/gen_dataset_ops.py\u001b[0m in \u001b[0;36miterator_get_next\u001b[0;34m(iterator, output_types, output_shapes, name)\u001b[0m\n\u001b[1;32m   2918\u001b[0m       _result = pywrap_tfe.TFE_Py_FastPathExecute(\n\u001b[1;32m   2919\u001b[0m         \u001b[0m_ctx\u001b[0m\u001b[0;34m,\u001b[0m \u001b[0;34m\"IteratorGetNext\"\u001b[0m\u001b[0;34m,\u001b[0m \u001b[0mname\u001b[0m\u001b[0;34m,\u001b[0m \u001b[0miterator\u001b[0m\u001b[0;34m,\u001b[0m \u001b[0;34m\"output_types\"\u001b[0m\u001b[0;34m,\u001b[0m \u001b[0moutput_types\u001b[0m\u001b[0;34m,\u001b[0m\u001b[0;34m\u001b[0m\u001b[0;34m\u001b[0m\u001b[0m\n\u001b[0;32m-> 2920\u001b[0;31m         \"output_shapes\", output_shapes)\n\u001b[0m\u001b[1;32m   2921\u001b[0m       \u001b[0;32mreturn\u001b[0m \u001b[0m_result\u001b[0m\u001b[0;34m\u001b[0m\u001b[0;34m\u001b[0m\u001b[0m\n\u001b[1;32m   2922\u001b[0m     \u001b[0;32mexcept\u001b[0m \u001b[0m_core\u001b[0m\u001b[0;34m.\u001b[0m\u001b[0m_NotOkStatusException\u001b[0m \u001b[0;32mas\u001b[0m \u001b[0me\u001b[0m\u001b[0;34m:\u001b[0m\u001b[0;34m\u001b[0m\u001b[0;34m\u001b[0m\u001b[0m\n",
            "\u001b[0;31mKeyboardInterrupt\u001b[0m: "
          ]
        }
      ]
    },
    {
      "cell_type": "code",
      "source": [
        "# import os\n",
        "# os.environ['PYTHONHASHSEED'] = '0'\n",
        "\n",
        "# ##https://keras.io/getting-started/faq/#how-can-i-obtain-reproducible-results-using-keras-during-development\n",
        "# ## Have to clear the session. If you are not clearing, Graph will create again and again and graph size will increses. \n",
        "# ## Varibles will also set to some value from before session\n",
        "# tf.keras.backend.clear_session()\n",
        "\n",
        "# ## Set the random seed values to regenerate the model.\n",
        "# np.random.seed(0)\n",
        "# rn.seed(0)\n",
        "\n",
        "# #Input layer\n",
        "# input_layer = Input(shape=(256,256,3),name='Input_Layer')\n",
        "\n",
        "# #Conv Layer\n",
        "# Conv1 = Conv2D(filters=32,kernel_size=(3,3),strides=(1,1),padding='valid',data_format='channels_last',\n",
        "#               activation='relu',kernel_initializer=tf.keras.initializers.he_normal(seed=0),name='Conv1')(input_layer)\n",
        "# #MaxPool Layer\n",
        "# Pool1 = MaxPool2D(pool_size=(2,2),strides=(2,2),padding='valid',data_format='channels_last',name='Pool1')(Conv1)\n",
        "\n",
        "\n",
        "# Conv2 = Conv2D(filters=64,kernel_size=(3,3),strides=(1,1),padding='valid',data_format='channels_last',\n",
        "#               activation='relu',kernel_initializer=tf.keras.initializers.he_normal(seed=3),name='Conv2')(Pool1)\n",
        "# Conv3 = Conv2D(filters=64,kernel_size=(3,3),strides=(2,2),padding='valid',data_format='channels_last',\n",
        "#               activation='relu',kernel_initializer=tf.keras.initializers.he_normal(seed=5),name='Conv3')(Conv2)\n",
        "# #MaxPool Layer\n",
        "# Pool2 = MaxPool2D(pool_size=(2,2),strides=(1,1),padding='valid',data_format='channels_last',name='Pool2')(Conv3)\n",
        "\n",
        "\n",
        "# Conv4 = Conv2D(filters=128,kernel_size=(3,3),strides=(2,2),padding='valid',data_format='channels_last',\n",
        "#               activation='relu',kernel_initializer=tf.keras.initializers.he_normal(seed=9),name='Conv4')(Pool2)\n",
        "# #MaxPool Layer\n",
        "# Pool3 = MaxPool2D(pool_size=(2,2),strides=(2,2),padding='valid',data_format='channels_last',name='Pool3')(Conv4)\n",
        "\n",
        "\n",
        "\n",
        "# #Flatten\n",
        "# flatten = Flatten(data_format='channels_last',name='Flatten')(Pool3)\n",
        "\n",
        "# #FC layer\n",
        "# FC1 = Dense(units=30,activation='relu',kernel_initializer=tf.keras.initializers.glorot_normal(seed=32),name='FC1')(flatten)\n",
        "\n",
        "# #FC layer\n",
        "# FC2 = Dense(units=15,activation='relu',kernel_initializer=tf.keras.initializers.glorot_normal(seed=33),name='FC2')(FC1)\n",
        "\n",
        "# #output layer\n",
        "# Out = Dense(units=2, activation='softmax',kernel_initializer=tf.keras.initializers.glorot_normal(seed=3),name='Output')(FC2)\n",
        "\n",
        "# #Creating a model\n",
        "# model = Model(inputs=input_layer,outputs=Out)\n",
        "\n",
        "# model.compile(optimizer=tf.keras.optimizers.Adam(learning_rate=0.1),loss='categorical_crossentropy',metrics=['accuracy'])"
      ],
      "metadata": {
        "id": "xvFnTiZe9AHq"
      },
      "execution_count": null,
      "outputs": []
    },
    {
      "cell_type": "markdown",
      "source": [
        "### **Callbacks**"
      ],
      "metadata": {
        "id": "I9x71dhcJFFs"
      }
    },
    {
      "cell_type": "code",
      "source": [
        "from sklearn.metrics import roc_auc_score\n",
        "from sklearn.metrics import f1_score\n",
        "from sklearn.metrics import recall_score\n",
        "\n",
        "def is_weights_invalid(model_weights, epoch):\n",
        "    if model_weights is not None:\n",
        "        if np.any([np.any(np.isnan(x)) for x in model_weights]):\n",
        "            print(\"\\nInvalid weights and terminated at epoch {}\".format(epoch))\n",
        "            return True\n",
        "    return False\n",
        "\n",
        "def is_loss_invalid(loss, epoch):\n",
        "    if loss is not None:\n",
        "        if np.isnan(loss) or np.isinf(loss):\n",
        "            print(\"\\nInvalid loss and terminated at epoch {}\".format(epoch))\n",
        "            return True\n",
        "    return False\n",
        "\n",
        "\n",
        "\n",
        "#Write your own callback function, that has to print the micro F1 score and AUC score after each epoch.\n",
        "#Save your model at every epoch if your validation accuracy is improved from previous epoch.\n",
        "      \n",
        "from sklearn.metrics import recall_score\n",
        "\n",
        "class LossHistory(tf.keras.callbacks.Callback):\n",
        "    \n",
        "    def __init__(self,validation_data):\n",
        "        self.x_cv = validation_data[0]\n",
        "        print(validation_data[0])\n",
        "        self.y_cv= validation_data[1]\n",
        "        \n",
        "    def on_train_begin(self, logs={}):\n",
        "        ## on begin of training, we are creating a instance varible called history\n",
        "        ## it is a dict with keys [loss, acc, val_loss, val_acc]\n",
        "        self.history={'loss': [],'accuracy': [],'val_loss': [],'val_accuracy': [],'val_auc': [] , 'val_f1':[]}\n",
        "        \n",
        "    def on_epoch_end(self, epoch, logs={}):\n",
        "        \n",
        "        # If you are getting any NaN values(either weigths or loss) while training, you have to terminate your training.\n",
        "        loss = logs.get('loss')\n",
        "        model_weights = self.model.get_weights()\n",
        "        \n",
        "        \n",
        "        if is_weights_invalid(model_weights, epoch) or is_loss_invalid(loss, epoch):\n",
        "            self.model.stop_training = True\n",
        "\n",
        "        true_positives=0\n",
        "        ## on end of each epoch, we will get logs and update the self.history dict\n",
        "        self.history['loss'].append(logs.get('loss'))\n",
        "        self.history['accuracy'].append(logs.get('accuracy'))\n",
        "      \n",
        "        if logs.get('val_loss', -1) != -1:\n",
        "            self.history['val_loss'].append(logs.get('val_loss'))\n",
        "        if logs.get('val_accuracy', -1) != -1:\n",
        "            self.history['val_accuracy'].append(logs.get('val_accuracy'))\n",
        "\n",
        "        y_pred= self.model.predict(self.x_cv)\n",
        "        y_label_pred=np.argmax(y_pred,axis=1)\n",
        "\n",
        "        \n",
        "        auc = roc_auc_score(y_cv, y_label_pred,average='micro')\n",
        "        f1 = f1_score(y_cv, y_label_pred,average='micro')\n",
        "        \n",
        "        \n",
        "        self.history['val_auc'].append(auc)\n",
        "        self.history['val_f1'].append(f1)\n",
        "\n",
        "\n",
        "        print('\\nauc: ',auc)\n",
        "        print('f1: ',f1)\n",
        "        print(\"\\n\")\n",
        "        \n",
        "     "
      ],
      "metadata": {
        "id": "2ZhoKe3WJDCz"
      },
      "execution_count": null,
      "outputs": []
    },
    {
      "cell_type": "code",
      "source": [
        "from tensorflow.keras.callbacks import LearningRateScheduler\n",
        "\n",
        "\n",
        "#  Cond1. If your validation accuracy at that epoch is less than previous epoch accuracy, you have to decrese the\n",
        "#         learning rate by 10%. \n",
        "\n",
        "decay = 0.1\n",
        "reduceLROnPlateau = tf.keras.callbacks.ReduceLROnPlateau(\n",
        "  monitor='val_accuracy',\n",
        "  factor= 1-decay,\n",
        "  patience=0,\n",
        "  cooldown = 0,\n",
        "  verbose = 2\n",
        ")\n",
        "\n",
        "\n",
        "#  Cond2. For every 3rd epoch, decay your learning rate by 5%.\n",
        "\n",
        "def changeLearningRate(epoch, lr):\n",
        "    if epoch%3==0 and epoch!=0:\n",
        "        decay = 0.05\n",
        "        decayed_lr = lr*(1-decay)\n",
        "        return decayed_lr\n",
        "    return lr\n",
        "\n",
        "\n",
        "lrschedule = LearningRateScheduler(changeLearningRate, verbose=0)\n",
        "\n"
      ],
      "metadata": {
        "id": "n8zL0FQsJC7r"
      },
      "execution_count": null,
      "outputs": []
    },
    {
      "cell_type": "code",
      "source": [
        "#callbacks\n",
        "from tensorflow.keras.callbacks import EarlyStopping\n",
        "from tensorflow.keras.callbacks import LearningRateScheduler\n",
        "from tensorflow.keras.callbacks import ModelCheckpoint\n",
        "import datetime\n",
        "\n",
        "\n",
        "\n",
        "\n",
        "#Write your own callback function, that has to print the micro F1 score and AUC score after each epoch.\n",
        "#Save your model at every epoch if your validation accuracy is improved from previous epoch.\n",
        "# history_own =LossHistory(validation_data=[x_cv, y_cv])   \n",
        "\n",
        "\n",
        "\n",
        "# Save your model at every epoch if your validation accuracy is improved from previous epoch.\n",
        "# ---------->  Checkpoint Best Neural Network Model saved Only in the same location i.e it is overwritten\n",
        "# filepath=\"model_save_final/weights.best.hdf5\"\n",
        "# ---------->  Checkpoint of Neural Network Model saved only if there are improvements\n",
        "filepath=\"model_save_final/mobileNet_v3/weights-{epoch:02d}-{val_accuracy:.2f}.hdf5\"\n",
        "checkpoint = ModelCheckpoint(filepath, monitor='val_loss', verbose=1, save_best_only=True, mode='min')\n",
        "\n",
        "\n",
        "\n",
        "# You have to stop the training if your validation accuracy \n",
        "# is not increased ( |prev_acc - current_acc| <= 0.0---> considered no improvement here) \n",
        "# in last 2 epochs==> (patience=2).\n",
        "# Often, the first sign of no further improvement may not be the best time to stop training. \n",
        "# This is because the model may coast into a plateau of no improvement \n",
        "# or even get slightly worse before getting much better. ==> (patient should be high)\n",
        "earlystop = EarlyStopping(monitor='val_loss', min_delta=0, patience=2, verbose=2, mode = 'min')\n",
        "\n",
        "\n",
        "\n",
        "lrschedule = LearningRateScheduler(changeLearningRate, verbose=0)\n",
        "\n",
        "\n",
        "\n",
        "#tensor board logging/viz\n",
        "log_dir = os.path.join(\"logs\",'fits', \"mobileNet_v3\",datetime.datetime.now().strftime(\"%Y%m%d-%H%M%S\"))\n",
        "tensorboard_callback = tf.keras.callbacks.TensorBoard(log_dir=log_dir,histogram_freq=1,write_graph=True)\n",
        "\n",
        "\n",
        "\n",
        "#all callbacks\n",
        "# callbacks=[history_own, checkpoint, lrschedule, reduceLROnPlateau, earlystop, tensorboard_callback]\n",
        "callbacks=[checkpoint, lrschedule, reduceLROnPlateau, earlystop, tensorboard_callback]\n"
      ],
      "metadata": {
        "id": "NsxANMfsJCzD"
      },
      "execution_count": null,
      "outputs": []
    },
    {
      "cell_type": "code",
      "source": [
        "#importing tensorflow\n",
        "from tensorflow.keras.layers import Dense,Input,Conv2D,MaxPool2D,Activation,Dropout,Flatten, BatchNormalization, GlobalMaxPooling2D\n",
        "from tensorflow.keras.applications import VGG16\n",
        "from tensorflow.keras.models import Model\n",
        "from tensorflow.keras import regularizers\n",
        "import random as rn\n",
        "import os\n",
        "import datetime\n",
        "import matplotlib.pyplot as plt\n",
        "import seaborn as sns\n"
      ],
      "metadata": {
        "id": "qswccEgFCNCI"
      },
      "execution_count": null,
      "outputs": []
    },
    {
      "cell_type": "markdown",
      "source": [
        "### **VGG16**"
      ],
      "metadata": {
        "id": "4EVfZYkdv_nG"
      }
    },
    {
      "cell_type": "code",
      "source": [
        "import os\n",
        "os.environ['PYTHONHASHSEED'] = '0'\n",
        "\n",
        "##https://keras.io/getting-started/faq/#how-can-i-obtain-reproducible-results-using-keras-during-development\n",
        "## Have to clear the session. If you are not clearing, Graph will create again and again and graph size will increses. \n",
        "## Varibles will also set to some value from before session\n",
        "tf.keras.backend.clear_session()\n",
        "\n",
        "## Set the random seed values to regenerate the model.\n",
        "np.random.seed(0)\n",
        "rn.seed(0)\n",
        "\n",
        "vgg16_base = VGG16(weights='imagenet', include_top=False, input_shape= (224,224, 3))\n",
        "\n",
        "# Freezing 1st 13 VGG16 weights.\n",
        "for i, layer in enumerate(vgg16_base.layers[:13]):\n",
        "  layer.trainable = False\n",
        "\n",
        "vgg16_base_output = vgg16_base.output\n",
        "\n",
        "# Conv1 = Conv2D(filters = 64,\n",
        "#                kernel_size=(7,7),strides=(1,1),\n",
        "#                padding='valid' , data_format='channels_last',\n",
        "#                activation='relu',kernel_initializer=tf.keras.initializers.he_normal(seed=0),name='Conv1',\n",
        "#                kernel_regularizer=regularizers.l1(0.01), bias_regularizer=regularizers.l2(0.01)\n",
        "#                 )(vgg16_base_output)\n",
        "\n",
        "\n",
        "bn = BatchNormalization()(vgg16_base_output)\n",
        "\n",
        "dropout = Dropout(rate = 0.50, noise_shape=None, seed=6)(bn)\n",
        "\n",
        "\n",
        "# Conv2 = Conv2D(filters=32,kernel_size=(1,1),strides=(1,1), padding='valid',data_format='channels_last',\n",
        "#               activation='relu',kernel_initializer=tf.keras.initializers.he_normal(seed=0),name='Conv2')(dropout)\n",
        "\n",
        "# bn1 = BatchNormalization()(Conv2)\n",
        "\n",
        "\n",
        "# Conv3 = Conv2D(filters=16, kernel_size=(1, 1),strides=(1,1), padding='valid',data_format='channels_last',\n",
        "#               activation='softmax',kernel_initializer=tf.keras.initializers.he_normal(seed=33),name='Conv3')(bn1)\n",
        "\n",
        "flatten = Flatten(data_format='channels_last',name='Flatten')(dropout)\n",
        "\n",
        "# bn1 = BatchNormalization()(flatten)\n",
        "\n",
        "#FC layer\n",
        "Out = Dense(units=2, activation='softmax',\n",
        "            kernel_initializer=tf.keras.initializers.HeNormal(seed=32), \n",
        "            name='output',\n",
        "            kernel_regularizer=regularizers.l1(0.01), bias_regularizer=regularizers.l2(0.01) )(flatten)\n",
        "\n",
        "model = Model(inputs=vgg16_base.input, outputs=Out)\n",
        "model.summary()"
      ],
      "metadata": {
        "colab": {
          "base_uri": "https://localhost:8080/"
        },
        "id": "n-agF5XVCNjg",
        "outputId": "102f142f-4152-48f7-fa3b-e212207a56a2"
      },
      "execution_count": null,
      "outputs": [
        {
          "output_type": "stream",
          "name": "stdout",
          "text": [
            "Model: \"model\"\n",
            "_________________________________________________________________\n",
            " Layer (type)                Output Shape              Param #   \n",
            "=================================================================\n",
            " input_1 (InputLayer)        [(None, 256, 256, 3)]     0         \n",
            "                                                                 \n",
            " block1_conv1 (Conv2D)       (None, 256, 256, 64)      1792      \n",
            "                                                                 \n",
            " block1_conv2 (Conv2D)       (None, 256, 256, 64)      36928     \n",
            "                                                                 \n",
            " block1_pool (MaxPooling2D)  (None, 128, 128, 64)      0         \n",
            "                                                                 \n",
            " block2_conv1 (Conv2D)       (None, 128, 128, 128)     73856     \n",
            "                                                                 \n",
            " block2_conv2 (Conv2D)       (None, 128, 128, 128)     147584    \n",
            "                                                                 \n",
            " block2_pool (MaxPooling2D)  (None, 64, 64, 128)       0         \n",
            "                                                                 \n",
            " block3_conv1 (Conv2D)       (None, 64, 64, 256)       295168    \n",
            "                                                                 \n",
            " block3_conv2 (Conv2D)       (None, 64, 64, 256)       590080    \n",
            "                                                                 \n",
            " block3_conv3 (Conv2D)       (None, 64, 64, 256)       590080    \n",
            "                                                                 \n",
            " block3_pool (MaxPooling2D)  (None, 32, 32, 256)       0         \n",
            "                                                                 \n",
            " block4_conv1 (Conv2D)       (None, 32, 32, 512)       1180160   \n",
            "                                                                 \n",
            " block4_conv2 (Conv2D)       (None, 32, 32, 512)       2359808   \n",
            "                                                                 \n",
            " block4_conv3 (Conv2D)       (None, 32, 32, 512)       2359808   \n",
            "                                                                 \n",
            " block4_pool (MaxPooling2D)  (None, 16, 16, 512)       0         \n",
            "                                                                 \n",
            " block5_conv1 (Conv2D)       (None, 16, 16, 512)       2359808   \n",
            "                                                                 \n",
            " block5_conv2 (Conv2D)       (None, 16, 16, 512)       2359808   \n",
            "                                                                 \n",
            " block5_conv3 (Conv2D)       (None, 16, 16, 512)       2359808   \n",
            "                                                                 \n",
            " block5_pool (MaxPooling2D)  (None, 8, 8, 512)         0         \n",
            "                                                                 \n",
            " batch_normalization (BatchN  (None, 8, 8, 512)        2048      \n",
            " ormalization)                                                   \n",
            "                                                                 \n",
            " dropout (Dropout)           (None, 8, 8, 512)         0         \n",
            "                                                                 \n",
            " Flatten (Flatten)           (None, 32768)             0         \n",
            "                                                                 \n",
            " output (Dense)              (None, 2)                 65538     \n",
            "                                                                 \n",
            "=================================================================\n",
            "Total params: 14,782,274\n",
            "Trainable params: 9,505,794\n",
            "Non-trainable params: 5,276,480\n",
            "_________________________________________________________________\n"
          ]
        }
      ]
    },
    {
      "cell_type": "code",
      "source": [
        "#compiling \n",
        "model.compile(optimizer=tf.keras.optimizers.Adam(learning_rate=0.01),\n",
        "              loss='categorical_crossentropy',\n",
        "              metrics=['accuracy'])"
      ],
      "metadata": {
        "id": "nyJ64IBjCNsA"
      },
      "execution_count": null,
      "outputs": []
    },
    {
      "cell_type": "code",
      "source": [
        "##fitting generator\n",
        "model.fit(tr_dataset, \n",
        "          steps_per_epoch=steps_per_epoch_tr, \n",
        "          epochs=15, validation_data = cv_dataset,\n",
        "          validation_steps=steps_per_epoch_cv, \n",
        "          callbacks=callbacks,\n",
        "          verbose=1)"
      ],
      "metadata": {
        "colab": {
          "base_uri": "https://localhost:8080/"
        },
        "id": "-PL4_UKRCN0o",
        "outputId": "2b059bd7-8c59-4864-acf9-de5c27adc3ae"
      },
      "execution_count": null,
      "outputs": [
        {
          "output_type": "stream",
          "name": "stdout",
          "text": [
            "Epoch 1/15\n",
            "24/24 [==============================] - ETA: 0s - loss: 19.0680 - accuracy: 0.6628\n",
            "Epoch 1: val_accuracy improved from -inf to 0.58333, saving model to model_save_final/vgg16_1/weights-01-0.58.hdf5\n",
            "24/24 [==============================] - 70s 2s/step - loss: 19.0680 - accuracy: 0.6628 - val_loss: 128.7969 - val_accuracy: 0.5833 - lr: 0.0100\n",
            "Epoch 2/15\n",
            "24/24 [==============================] - ETA: 0s - loss: 12.1039 - accuracy: 0.7878\n",
            "Epoch 2: val_accuracy did not improve from 0.58333\n",
            "\n",
            "Epoch 2: ReduceLROnPlateau reducing learning rate to 0.008999999798834325.\n",
            "24/24 [==============================] - 55s 2s/step - loss: 12.1039 - accuracy: 0.7878 - val_loss: 122.4327 - val_accuracy: 0.4167 - lr: 0.0100\n",
            "Epoch 3/15\n",
            "24/24 [==============================] - ETA: 0s - loss: 6.9516 - accuracy: 0.8646\n",
            "Epoch 3: val_accuracy improved from 0.58333 to 0.66667, saving model to model_save_final/vgg16_1/weights-03-0.67.hdf5\n",
            "24/24 [==============================] - 57s 2s/step - loss: 6.9516 - accuracy: 0.8646 - val_loss: 24.4321 - val_accuracy: 0.6667 - lr: 0.0090\n",
            "Epoch 4/15\n",
            "24/24 [==============================] - ETA: 0s - loss: 4.6026 - accuracy: 0.8984\n",
            "Epoch 4: val_accuracy improved from 0.66667 to 0.91667, saving model to model_save_final/vgg16_1/weights-04-0.92.hdf5\n",
            "24/24 [==============================] - 60s 3s/step - loss: 4.6026 - accuracy: 0.8984 - val_loss: 3.2489 - val_accuracy: 0.9167 - lr: 0.0085\n",
            "Epoch 5/15\n",
            "24/24 [==============================] - ETA: 0s - loss: 3.5032 - accuracy: 0.9076\n",
            "Epoch 5: val_accuracy did not improve from 0.91667\n",
            "\n",
            "Epoch 5: ReduceLROnPlateau reducing learning rate to 0.007694999501109123.\n",
            "24/24 [==============================] - 60s 3s/step - loss: 3.5032 - accuracy: 0.9076 - val_loss: 6.0185 - val_accuracy: 0.7500 - lr: 0.0085\n",
            "Epoch 6/15\n",
            "24/24 [==============================] - ETA: 0s - loss: 2.7165 - accuracy: 0.9336\n",
            "Epoch 6: val_accuracy improved from 0.91667 to 1.00000, saving model to model_save_final/vgg16_1/weights-06-1.00.hdf5\n",
            "24/24 [==============================] - 59s 3s/step - loss: 2.7165 - accuracy: 0.9336 - val_loss: 1.8279 - val_accuracy: 1.0000 - lr: 0.0077\n",
            "Epoch 7/15\n",
            "24/24 [==============================] - ETA: 0s - loss: 2.2478 - accuracy: 0.9323\n",
            "Epoch 7: val_accuracy did not improve from 1.00000\n",
            "\n",
            "Epoch 7: ReduceLROnPlateau reducing learning rate to 0.0065792248584330085.\n",
            "24/24 [==============================] - 65s 3s/step - loss: 2.2478 - accuracy: 0.9323 - val_loss: 4.6278 - val_accuracy: 0.8333 - lr: 0.0073\n",
            "Epoch 8/15\n",
            "24/24 [==============================] - ETA: 0s - loss: 1.5432 - accuracy: 0.9466\n",
            "Epoch 8: val_accuracy did not improve from 1.00000\n",
            "\n",
            "Epoch 8: ReduceLROnPlateau reducing learning rate to 0.00592130245640874.\n",
            "24/24 [==============================] - 67s 3s/step - loss: 1.5432 - accuracy: 0.9466 - val_loss: 2.1025 - val_accuracy: 0.8333 - lr: 0.0066\n",
            "Epoch 8: early stopping\n"
          ]
        },
        {
          "output_type": "execute_result",
          "data": {
            "text/plain": [
              "<keras.callbacks.History at 0x7ff0222b6b50>"
            ]
          },
          "metadata": {},
          "execution_count": 36
        }
      ]
    },
    {
      "cell_type": "markdown",
      "source": [
        "### **MOBILENET**"
      ],
      "metadata": {
        "id": "5UBx1GEPwOuY"
      }
    },
    {
      "cell_type": "code",
      "source": [
        "# TF2 version\n",
        "#1st attempt 98 acc\n",
        "import tensorflow.compat.v2 as tf\n",
        "import tensorflow_hub as hub\n",
        "\n",
        "import os\n",
        "os.environ['PYTHONHASHSEED'] = '0'\n",
        "\n",
        "##https://keras.io/getting-started/faq/#how-can-i-obtain-reproducible-results-using-keras-during-development\n",
        "## Have to clear the session. If you are not clearing, Graph will create again and again and graph size will increses. \n",
        "## Varibles will also set to some value from before session\n",
        "tf.keras.backend.clear_session()\n",
        "\n",
        "## Set the random seed values to regenerate the model.\n",
        "np.random.seed(0)\n",
        "rn.seed(0)\n",
        "\n",
        "model = m = tf.keras.Sequential([\n",
        "    hub.KerasLayer(\"https://tfhub.dev/google/tf2-preview/mobilenet_v2/feature_vector/4\", input_shape=(224,224,3), trainable=False),  # Can be True, see below.\n",
        "    Dropout(0.3),\n",
        "    Dense(units=32,activation='relu',kernel_initializer=tf.keras.initializers.glorot_normal(seed=32),name='FC1'),\n",
        "    Dense(units=16,activation='relu',kernel_initializer=tf.keras.initializers.glorot_normal(seed=33),name='FC2'),\n",
        "    Dense(units=2, activation='softmax',\n",
        "            kernel_initializer=tf.keras.initializers.HeNormal(seed=32), \n",
        "            name='output',\n",
        "            kernel_regularizer=regularizers.l1(0.01), bias_regularizer=regularizers.l2(0.01) )\n",
        "])\n",
        "\n",
        "model.summary()"
      ],
      "metadata": {
        "colab": {
          "base_uri": "https://localhost:8080/"
        },
        "id": "hQ9nppxDwNDF",
        "outputId": "feebb0cd-9f9d-4f34-ea18-8fe44bb9a807"
      },
      "execution_count": null,
      "outputs": [
        {
          "output_type": "stream",
          "name": "stdout",
          "text": [
            "Model: \"sequential\"\n",
            "_________________________________________________________________\n",
            " Layer (type)                Output Shape              Param #   \n",
            "=================================================================\n",
            " keras_layer (KerasLayer)    (None, 1280)              2257984   \n",
            "                                                                 \n",
            " dropout (Dropout)           (None, 1280)              0         \n",
            "                                                                 \n",
            " FC1 (Dense)                 (None, 32)                40992     \n",
            "                                                                 \n",
            " FC2 (Dense)                 (None, 16)                528       \n",
            "                                                                 \n",
            " output (Dense)              (None, 2)                 34        \n",
            "                                                                 \n",
            "=================================================================\n",
            "Total params: 2,299,538\n",
            "Trainable params: 41,554\n",
            "Non-trainable params: 2,257,984\n",
            "_________________________________________________________________\n"
          ]
        }
      ]
    },
    {
      "cell_type": "code",
      "source": [
        "#compiling \n",
        "model.compile(optimizer=tf.keras.optimizers.Adam(learning_rate=0.01),\n",
        "              loss='categorical_crossentropy',\n",
        "              metrics=['accuracy'])"
      ],
      "metadata": {
        "id": "xRc-B8bbwNTJ"
      },
      "execution_count": null,
      "outputs": []
    },
    {
      "cell_type": "code",
      "source": [
        "##fitting generator\n",
        "model.fit(tr_dataset, \n",
        "          steps_per_epoch=steps_per_epoch_tr, \n",
        "          epochs=15, validation_data = te_dataset,\n",
        "          validation_steps=steps_per_epoch_te, \n",
        "          callbacks=callbacks,\n",
        "          verbose=1)"
      ],
      "metadata": {
        "colab": {
          "base_uri": "https://localhost:8080/"
        },
        "id": "Mcst9ONbwNXc",
        "outputId": "1d4fb8c8-55ab-47fe-85f7-89c85a6627ce"
      },
      "execution_count": null,
      "outputs": [
        {
          "output_type": "stream",
          "name": "stdout",
          "text": [
            "Epoch 1/15\n",
            "24/24 [==============================] - ETA: 0s - loss: 1.7949 - accuracy: 0.9141\n",
            "Epoch 1: val_accuracy improved from -inf to 1.00000, saving model to model_save_final/vgg16_1/weights-01-1.00.hdf5\n",
            "24/24 [==============================] - 77s 2s/step - loss: 1.7949 - accuracy: 0.9141 - val_loss: 1.0083 - val_accuracy: 1.0000 - lr: 0.0080\n",
            "Epoch 2/15\n",
            "24/24 [==============================] - ETA: 0s - loss: 1.0102 - accuracy: 0.9857\n",
            "Epoch 2: val_accuracy did not improve from 1.00000\n",
            "\n",
            "Epoch 2: ReduceLROnPlateau reducing learning rate to 0.007200000341981649.\n",
            "24/24 [==============================] - 53s 2s/step - loss: 1.0102 - accuracy: 0.9857 - val_loss: 0.7573 - val_accuracy: 1.0000 - lr: 0.0080\n",
            "Epoch 3/15\n",
            "24/24 [==============================] - ETA: 0s - loss: 0.6547 - accuracy: 0.9987\n",
            "Epoch 3: val_accuracy did not improve from 1.00000\n",
            "\n",
            "Epoch 3: ReduceLROnPlateau reducing learning rate to 0.006480000307783485.\n",
            "24/24 [==============================] - 55s 2s/step - loss: 0.6547 - accuracy: 0.9987 - val_loss: 1.2391 - val_accuracy: 0.9167 - lr: 0.0072\n",
            "Epoch 4/15\n",
            "24/24 [==============================] - ETA: 0s - loss: 0.5346 - accuracy: 0.9909\n",
            "Epoch 4: val_accuracy did not improve from 1.00000\n",
            "\n",
            "Epoch 4: ReduceLROnPlateau reducing learning rate to 0.00554040027782321.\n",
            "24/24 [==============================] - 56s 2s/step - loss: 0.5346 - accuracy: 0.9909 - val_loss: 0.4310 - val_accuracy: 1.0000 - lr: 0.0062\n",
            "Epoch 5/15\n",
            "24/24 [==============================] - ETA: 0s - loss: 0.3957 - accuracy: 0.9961\n",
            "Epoch 5: val_accuracy did not improve from 1.00000\n",
            "\n",
            "Epoch 5: ReduceLROnPlateau reducing learning rate to 0.004986360250040889.\n",
            "24/24 [==============================] - 55s 2s/step - loss: 0.3957 - accuracy: 0.9961 - val_loss: 0.3218 - val_accuracy: 1.0000 - lr: 0.0055\n",
            "Epoch 5: early stopping\n"
          ]
        },
        {
          "output_type": "execute_result",
          "data": {
            "text/plain": [
              "<keras.callbacks.History at 0x7fed6fb58910>"
            ]
          },
          "metadata": {},
          "execution_count": 101
        }
      ]
    },
    {
      "cell_type": "markdown",
      "source": [
        "## MobileNet V3 custom"
      ],
      "metadata": {
        "id": "scIMcfpZ6hsH"
      }
    },
    {
      "cell_type": "code",
      "source": [
        "\n",
        "# TF2 version\n",
        "import tensorflow.compat.v2 as tf\n",
        "import tensorflow_hub as hub\n",
        "\n",
        "import os\n",
        "os.environ['PYTHONHASHSEED'] = '0'\n",
        "\n",
        "##https://keras.io/getting-started/faq/#how-can-i-obtain-reproducible-results-using-keras-during-development\n",
        "## Have to clear the session. If you are not clearing, Graph will create again and again and graph size will increses. \n",
        "## Varibles will also set to some value from before session\n",
        "tf.keras.backend.clear_session()\n",
        "\n",
        "## Set the random seed values to regenerate the model.\n",
        "np.random.seed(0)\n",
        "rn.seed(0)\n",
        "\n",
        "model = tf.keras.Sequential([\n",
        "    hub.KerasLayer(\"https://tfhub.dev/google/experts/bit/r50x1/in21k/plant/1\"),\n",
        "    Dropout(0.2),\n",
        "    # Dense(units=32,activation='relu',kernel_initializer=tf.keras.initializers.glorot_normal(seed=32),name='FC1'),\n",
        "    # Dense(units=16,activation='relu',kernel_initializer=tf.keras.initializers.glorot_normal(seed=33),name='FC2'),\n",
        "    Dense(units=2, activation='softmax',\n",
        "            kernel_initializer=tf.keras.initializers.HeNormal(seed=32), \n",
        "            name='output',\n",
        "            kernel_regularizer=regularizers.l1(0.01), bias_regularizer=regularizers.l2(0.01) )\n",
        "])\n",
        "model.build([32, 224,244,3])\n",
        "model.summary()"
      ],
      "metadata": {
        "id": "pnwjCyP8wNch",
        "colab": {
          "base_uri": "https://localhost:8080/"
        },
        "outputId": "40145402-d881-4c9b-fe9c-6fa6d859bd1a"
      },
      "execution_count": null,
      "outputs": [
        {
          "output_type": "stream",
          "name": "stdout",
          "text": [
            "Model: \"sequential\"\n",
            "_________________________________________________________________\n",
            " Layer (type)                Output Shape              Param #   \n",
            "=================================================================\n",
            " keras_layer (KerasLayer)    (32, 2048)                23500352  \n",
            "                                                                 \n",
            " dropout (Dropout)           (32, 2048)                0         \n",
            "                                                                 \n",
            " output (Dense)              (32, 2)                   4098      \n",
            "                                                                 \n",
            "=================================================================\n",
            "Total params: 23,504,450\n",
            "Trainable params: 4,098\n",
            "Non-trainable params: 23,500,352\n",
            "_________________________________________________________________\n"
          ]
        }
      ]
    },
    {
      "cell_type": "code",
      "source": [
        "!pip install keras-tuner"
      ],
      "metadata": {
        "colab": {
          "base_uri": "https://localhost:8080/"
        },
        "id": "btzNcSQBa7fa",
        "outputId": "d3827198-9d06-43e4-dbeb-e2c90889ae73"
      },
      "execution_count": null,
      "outputs": [
        {
          "output_type": "stream",
          "name": "stdout",
          "text": [
            "Requirement already satisfied: keras-tuner in /usr/local/lib/python3.7/dist-packages (1.1.2)\n",
            "Requirement already satisfied: kt-legacy in /usr/local/lib/python3.7/dist-packages (from keras-tuner) (1.0.4)\n",
            "Requirement already satisfied: numpy in /usr/local/lib/python3.7/dist-packages (from keras-tuner) (1.21.6)\n",
            "Requirement already satisfied: packaging in /usr/local/lib/python3.7/dist-packages (from keras-tuner) (21.3)\n",
            "Requirement already satisfied: tensorboard in /usr/local/lib/python3.7/dist-packages (from keras-tuner) (2.8.0)\n",
            "Requirement already satisfied: requests in /usr/local/lib/python3.7/dist-packages (from keras-tuner) (2.23.0)\n",
            "Requirement already satisfied: ipython in /usr/local/lib/python3.7/dist-packages (from keras-tuner) (5.5.0)\n",
            "Requirement already satisfied: decorator in /usr/local/lib/python3.7/dist-packages (from ipython->keras-tuner) (4.4.2)\n",
            "Requirement already satisfied: pexpect in /usr/local/lib/python3.7/dist-packages (from ipython->keras-tuner) (4.8.0)\n",
            "Requirement already satisfied: setuptools>=18.5 in /usr/local/lib/python3.7/dist-packages (from ipython->keras-tuner) (57.4.0)\n",
            "Requirement already satisfied: simplegeneric>0.8 in /usr/local/lib/python3.7/dist-packages (from ipython->keras-tuner) (0.8.1)\n",
            "Requirement already satisfied: pygments in /usr/local/lib/python3.7/dist-packages (from ipython->keras-tuner) (2.6.1)\n",
            "Requirement already satisfied: pickleshare in /usr/local/lib/python3.7/dist-packages (from ipython->keras-tuner) (0.7.5)\n",
            "Requirement already satisfied: traitlets>=4.2 in /usr/local/lib/python3.7/dist-packages (from ipython->keras-tuner) (5.1.1)\n",
            "Requirement already satisfied: prompt-toolkit<2.0.0,>=1.0.4 in /usr/local/lib/python3.7/dist-packages (from ipython->keras-tuner) (1.0.18)\n",
            "Requirement already satisfied: wcwidth in /usr/local/lib/python3.7/dist-packages (from prompt-toolkit<2.0.0,>=1.0.4->ipython->keras-tuner) (0.2.5)\n",
            "Requirement already satisfied: six>=1.9.0 in /usr/local/lib/python3.7/dist-packages (from prompt-toolkit<2.0.0,>=1.0.4->ipython->keras-tuner) (1.15.0)\n",
            "Requirement already satisfied: pyparsing!=3.0.5,>=2.0.2 in /usr/local/lib/python3.7/dist-packages (from packaging->keras-tuner) (3.0.8)\n",
            "Requirement already satisfied: ptyprocess>=0.5 in /usr/local/lib/python3.7/dist-packages (from pexpect->ipython->keras-tuner) (0.7.0)\n",
            "Requirement already satisfied: idna<3,>=2.5 in /usr/local/lib/python3.7/dist-packages (from requests->keras-tuner) (2.10)\n",
            "Requirement already satisfied: urllib3!=1.25.0,!=1.25.1,<1.26,>=1.21.1 in /usr/local/lib/python3.7/dist-packages (from requests->keras-tuner) (1.24.3)\n",
            "Requirement already satisfied: chardet<4,>=3.0.2 in /usr/local/lib/python3.7/dist-packages (from requests->keras-tuner) (3.0.4)\n",
            "Requirement already satisfied: certifi>=2017.4.17 in /usr/local/lib/python3.7/dist-packages (from requests->keras-tuner) (2021.10.8)\n",
            "Requirement already satisfied: absl-py>=0.4 in /usr/local/lib/python3.7/dist-packages (from tensorboard->keras-tuner) (1.0.0)\n",
            "Requirement already satisfied: protobuf>=3.6.0 in /usr/local/lib/python3.7/dist-packages (from tensorboard->keras-tuner) (3.17.3)\n",
            "Requirement already satisfied: wheel>=0.26 in /usr/local/lib/python3.7/dist-packages (from tensorboard->keras-tuner) (0.37.1)\n",
            "Requirement already satisfied: markdown>=2.6.8 in /usr/local/lib/python3.7/dist-packages (from tensorboard->keras-tuner) (3.3.6)\n",
            "Requirement already satisfied: google-auth<3,>=1.6.3 in /usr/local/lib/python3.7/dist-packages (from tensorboard->keras-tuner) (1.35.0)\n",
            "Requirement already satisfied: tensorboard-data-server<0.7.0,>=0.6.0 in /usr/local/lib/python3.7/dist-packages (from tensorboard->keras-tuner) (0.6.1)\n",
            "Requirement already satisfied: tensorboard-plugin-wit>=1.6.0 in /usr/local/lib/python3.7/dist-packages (from tensorboard->keras-tuner) (1.8.1)\n",
            "Requirement already satisfied: werkzeug>=0.11.15 in /usr/local/lib/python3.7/dist-packages (from tensorboard->keras-tuner) (1.0.1)\n",
            "Requirement already satisfied: google-auth-oauthlib<0.5,>=0.4.1 in /usr/local/lib/python3.7/dist-packages (from tensorboard->keras-tuner) (0.4.6)\n",
            "Requirement already satisfied: grpcio>=1.24.3 in /usr/local/lib/python3.7/dist-packages (from tensorboard->keras-tuner) (1.44.0)\n",
            "Requirement already satisfied: cachetools<5.0,>=2.0.0 in /usr/local/lib/python3.7/dist-packages (from google-auth<3,>=1.6.3->tensorboard->keras-tuner) (4.2.4)\n",
            "Requirement already satisfied: rsa<5,>=3.1.4 in /usr/local/lib/python3.7/dist-packages (from google-auth<3,>=1.6.3->tensorboard->keras-tuner) (4.8)\n",
            "Requirement already satisfied: pyasn1-modules>=0.2.1 in /usr/local/lib/python3.7/dist-packages (from google-auth<3,>=1.6.3->tensorboard->keras-tuner) (0.2.8)\n",
            "Requirement already satisfied: requests-oauthlib>=0.7.0 in /usr/local/lib/python3.7/dist-packages (from google-auth-oauthlib<0.5,>=0.4.1->tensorboard->keras-tuner) (1.3.1)\n",
            "Requirement already satisfied: importlib-metadata>=4.4 in /usr/local/lib/python3.7/dist-packages (from markdown>=2.6.8->tensorboard->keras-tuner) (4.11.3)\n",
            "Requirement already satisfied: zipp>=0.5 in /usr/local/lib/python3.7/dist-packages (from importlib-metadata>=4.4->markdown>=2.6.8->tensorboard->keras-tuner) (3.8.0)\n",
            "Requirement already satisfied: typing-extensions>=3.6.4 in /usr/local/lib/python3.7/dist-packages (from importlib-metadata>=4.4->markdown>=2.6.8->tensorboard->keras-tuner) (4.2.0)\n",
            "Requirement already satisfied: pyasn1<0.5.0,>=0.4.6 in /usr/local/lib/python3.7/dist-packages (from pyasn1-modules>=0.2.1->google-auth<3,>=1.6.3->tensorboard->keras-tuner) (0.4.8)\n",
            "Requirement already satisfied: oauthlib>=3.0.0 in /usr/local/lib/python3.7/dist-packages (from requests-oauthlib>=0.7.0->google-auth-oauthlib<0.5,>=0.4.1->tensorboard->keras-tuner) (3.2.0)\n"
          ]
        }
      ]
    },
    {
      "cell_type": "code",
      "source": [
        "import keras\n",
        "METRICS = [\n",
        "      # keras.metrics.TruePositives(name='tp'),\n",
        "      # keras.metrics.FalsePositives(name='fp'),\n",
        "      # keras.metrics.TrueNegatives(name='tn'),\n",
        "      # keras.metrics.FalseNegatives(name='fn'), \n",
        "      keras.metrics.BinaryAccuracy(name='accuracy'),\n",
        "      # keras.metrics.Precision(name='precision'),\n",
        "      # keras.metrics.Recall(name='recall'),\n",
        "      keras.metrics.AUC(name='auc')\n",
        "]"
      ],
      "metadata": {
        "id": "obvOlIR2a7H0"
      },
      "execution_count": null,
      "outputs": []
    },
    {
      "cell_type": "markdown",
      "source": [
        "# **Hyper-Param tuning MobileNetV3**"
      ],
      "metadata": {
        "id": "1ayR1pKyV4xm"
      }
    },
    {
      "cell_type": "code",
      "source": [
        "\n",
        "# TF2 version\n",
        "# try 2\n",
        "import tensorflow.compat.v2 as tf\n",
        "import tensorflow_hub as hub\n",
        "\n",
        "import os\n",
        "os.environ['PYTHONHASHSEED'] = '0'\n",
        "\n",
        "##https://keras.io/getting-started/faq/#how-can-i-obtain-reproducible-results-using-keras-during-development\n",
        "## Have to clear the session. If you are not clearing, Graph will create again and again and graph size will increses. \n",
        "## Varibles will also set to some value from before session\n",
        "tf.keras.backend.clear_session()\n",
        "\n",
        "## Set the random seed values to regenerate the model.\n",
        "np.random.seed(0)\n",
        "rn.seed(0)\n",
        "\n",
        "def build_model(hp):  \n",
        "      model = tf.keras.Sequential([\n",
        "          hub.KerasLayer(\"https://tfhub.dev/google/experts/bit/r50x1/in21k/plant/1\"),\n",
        "          Dropout(hp.Float('dropout', min_value=0.1, max_value=0.5, step=0.1)),\n",
        "          # Dense(units=32,activation='relu',kernel_initializer=tf.keras.initializers.glorot_normal(seed=32),name='FC1'),\n",
        "          # Dense(units=16,activation='relu',kernel_initializer=tf.keras.initializers.glorot_normal(seed=33),name='FC2'),\n",
        "          Dense(units=2, activation='softmax',\n",
        "                  kernel_initializer=tf.keras.initializers.HeNormal(seed=32), \n",
        "                  name='output',\n",
        "                  kernel_regularizer=regularizers.l1(0.01), bias_regularizer=regularizers.l2(0.01) )\n",
        "      ])\n",
        "\n",
        "      model.compile(optimizer=tf.keras.optimizers.Adam(hp.Choice('learning_rate', values=[ 0.01, 0.02, 0.05])),\n",
        "              loss='categorical_crossentropy',\n",
        "              metrics=METRICS\n",
        "              )\n",
        "      \n",
        "      return model\n"
      ],
      "metadata": {
        "id": "X3heAsd73_jb"
      },
      "execution_count": null,
      "outputs": []
    },
    {
      "cell_type": "code",
      "source": [
        "from kerastuner import RandomSearch\n",
        "from kerastuner.engine.hyperparameters import HyperParameters\n",
        "\n",
        "\n",
        "tuner_search=RandomSearch(build_model,\n",
        "                          objective='val_loss',\n",
        "                          max_trials = 40, directory='output',project_name=\"disease detection\")"
      ],
      "metadata": {
        "colab": {
          "base_uri": "https://localhost:8080/",
          "height": 435
        },
        "id": "3Z9qLXyfb2RJ",
        "outputId": "2f87e1fd-de2d-42a7-aa97-ebba71792203"
      },
      "execution_count": null,
      "outputs": [
        {
          "output_type": "stream",
          "name": "stdout",
          "text": [
            "INFO:tensorflow:Reloading Oracle from existing project output/disease detection/oracle.json\n"
          ]
        },
        {
          "output_type": "stream",
          "name": "stderr",
          "text": [
            "/usr/local/lib/python3.7/dist-packages/ipykernel_launcher.py:1: DeprecationWarning: `import kerastuner` is deprecated, please use `import keras_tuner`.\n",
            "  \"\"\"Entry point for launching an IPython kernel.\n",
            "INFO:tensorflow:Reloading Oracle from existing project output/disease detection/oracle.json\n"
          ]
        },
        {
          "output_type": "error",
          "ename": "KeyboardInterrupt",
          "evalue": "ignored",
          "traceback": [
            "\u001b[0;31m---------------------------------------------------------------------------\u001b[0m",
            "\u001b[0;31mKeyboardInterrupt\u001b[0m                         Traceback (most recent call last)",
            "\u001b[0;32m<ipython-input-26-06bd5ec0dd7f>\u001b[0m in \u001b[0;36m<module>\u001b[0;34m()\u001b[0m\n\u001b[1;32m      5\u001b[0m tuner_search=RandomSearch(build_model,\n\u001b[1;32m      6\u001b[0m                           \u001b[0mobjective\u001b[0m\u001b[0;34m=\u001b[0m\u001b[0;34m'val_loss'\u001b[0m\u001b[0;34m,\u001b[0m\u001b[0;34m\u001b[0m\u001b[0;34m\u001b[0m\u001b[0m\n\u001b[0;32m----> 7\u001b[0;31m                           max_trials = 40, directory='output',project_name=\"disease detection\")\n\u001b[0m",
            "\u001b[0;32m/usr/local/lib/python3.7/dist-packages/keras_tuner/tuners/randomsearch.py\u001b[0m in \u001b[0;36m__init__\u001b[0;34m(self, hypermodel, objective, max_trials, seed, hyperparameters, tune_new_entries, allow_new_entries, **kwargs)\u001b[0m\n\u001b[1;32m    143\u001b[0m             \u001b[0mallow_new_entries\u001b[0m\u001b[0;34m=\u001b[0m\u001b[0mallow_new_entries\u001b[0m\u001b[0;34m,\u001b[0m\u001b[0;34m\u001b[0m\u001b[0;34m\u001b[0m\u001b[0m\n\u001b[1;32m    144\u001b[0m         )\n\u001b[0;32m--> 145\u001b[0;31m         \u001b[0msuper\u001b[0m\u001b[0;34m(\u001b[0m\u001b[0mRandomSearch\u001b[0m\u001b[0;34m,\u001b[0m \u001b[0mself\u001b[0m\u001b[0;34m)\u001b[0m\u001b[0;34m.\u001b[0m\u001b[0m__init__\u001b[0m\u001b[0;34m(\u001b[0m\u001b[0moracle\u001b[0m\u001b[0;34m,\u001b[0m \u001b[0mhypermodel\u001b[0m\u001b[0;34m,\u001b[0m \u001b[0;34m**\u001b[0m\u001b[0mkwargs\u001b[0m\u001b[0;34m)\u001b[0m\u001b[0;34m\u001b[0m\u001b[0;34m\u001b[0m\u001b[0m\n\u001b[0m",
            "\u001b[0;32m/usr/local/lib/python3.7/dist-packages/keras_tuner/engine/tuner.py\u001b[0m in \u001b[0;36m__init__\u001b[0;34m(self, oracle, hypermodel, max_model_size, optimizer, loss, metrics, distribution_strategy, directory, project_name, logger, tuner_id, overwrite, executions_per_trial)\u001b[0m\n\u001b[1;32m    114\u001b[0m             \u001b[0mproject_name\u001b[0m\u001b[0;34m=\u001b[0m\u001b[0mproject_name\u001b[0m\u001b[0;34m,\u001b[0m\u001b[0;34m\u001b[0m\u001b[0;34m\u001b[0m\u001b[0m\n\u001b[1;32m    115\u001b[0m             \u001b[0mlogger\u001b[0m\u001b[0;34m=\u001b[0m\u001b[0mlogger\u001b[0m\u001b[0;34m,\u001b[0m\u001b[0;34m\u001b[0m\u001b[0;34m\u001b[0m\u001b[0m\n\u001b[0;32m--> 116\u001b[0;31m             \u001b[0moverwrite\u001b[0m\u001b[0;34m=\u001b[0m\u001b[0moverwrite\u001b[0m\u001b[0;34m,\u001b[0m\u001b[0;34m\u001b[0m\u001b[0;34m\u001b[0m\u001b[0m\n\u001b[0m\u001b[1;32m    117\u001b[0m         )\n\u001b[1;32m    118\u001b[0m \u001b[0;34m\u001b[0m\u001b[0m\n",
            "\u001b[0;32m/usr/local/lib/python3.7/dist-packages/keras_tuner/engine/base_tuner.py\u001b[0m in \u001b[0;36m__init__\u001b[0;34m(self, oracle, hypermodel, directory, project_name, logger, overwrite)\u001b[0m\n\u001b[1;32m    101\u001b[0m         \u001b[0mself\u001b[0m\u001b[0;34m.\u001b[0m\u001b[0m_display\u001b[0m \u001b[0;34m=\u001b[0m \u001b[0mtuner_utils\u001b[0m\u001b[0;34m.\u001b[0m\u001b[0mDisplay\u001b[0m\u001b[0;34m(\u001b[0m\u001b[0moracle\u001b[0m\u001b[0;34m=\u001b[0m\u001b[0mself\u001b[0m\u001b[0;34m.\u001b[0m\u001b[0moracle\u001b[0m\u001b[0;34m)\u001b[0m\u001b[0;34m\u001b[0m\u001b[0;34m\u001b[0m\u001b[0m\n\u001b[1;32m    102\u001b[0m \u001b[0;34m\u001b[0m\u001b[0m\n\u001b[0;32m--> 103\u001b[0;31m         \u001b[0mself\u001b[0m\u001b[0;34m.\u001b[0m\u001b[0m_populate_initial_space\u001b[0m\u001b[0;34m(\u001b[0m\u001b[0;34m)\u001b[0m\u001b[0;34m\u001b[0m\u001b[0;34m\u001b[0m\u001b[0m\n\u001b[0m\u001b[1;32m    104\u001b[0m \u001b[0;34m\u001b[0m\u001b[0m\n\u001b[1;32m    105\u001b[0m         \u001b[0;32mif\u001b[0m \u001b[0;32mnot\u001b[0m \u001b[0moverwrite\u001b[0m \u001b[0;32mand\u001b[0m \u001b[0mtf\u001b[0m\u001b[0;34m.\u001b[0m\u001b[0mio\u001b[0m\u001b[0;34m.\u001b[0m\u001b[0mgfile\u001b[0m\u001b[0;34m.\u001b[0m\u001b[0mexists\u001b[0m\u001b[0;34m(\u001b[0m\u001b[0mself\u001b[0m\u001b[0;34m.\u001b[0m\u001b[0m_get_tuner_fname\u001b[0m\u001b[0;34m(\u001b[0m\u001b[0;34m)\u001b[0m\u001b[0;34m)\u001b[0m\u001b[0;34m:\u001b[0m\u001b[0;34m\u001b[0m\u001b[0;34m\u001b[0m\u001b[0m\n",
            "\u001b[0;32m/usr/local/lib/python3.7/dist-packages/keras_tuner/engine/base_tuner.py\u001b[0m in \u001b[0;36m_populate_initial_space\u001b[0;34m(self)\u001b[0m\n\u001b[1;32m    130\u001b[0m \u001b[0;34m\u001b[0m\u001b[0m\n\u001b[1;32m    131\u001b[0m         \u001b[0;32mwhile\u001b[0m \u001b[0;32mTrue\u001b[0m\u001b[0;34m:\u001b[0m\u001b[0;34m\u001b[0m\u001b[0;34m\u001b[0m\u001b[0m\n\u001b[0;32m--> 132\u001b[0;31m             \u001b[0mself\u001b[0m\u001b[0;34m.\u001b[0m\u001b[0mhypermodel\u001b[0m\u001b[0;34m.\u001b[0m\u001b[0mbuild\u001b[0m\u001b[0;34m(\u001b[0m\u001b[0mhp\u001b[0m\u001b[0;34m)\u001b[0m\u001b[0;34m\u001b[0m\u001b[0;34m\u001b[0m\u001b[0m\n\u001b[0m\u001b[1;32m    133\u001b[0m \u001b[0;34m\u001b[0m\u001b[0m\n\u001b[1;32m    134\u001b[0m             \u001b[0;31m# Update the recored scopes.\u001b[0m\u001b[0;34m\u001b[0m\u001b[0;34m\u001b[0m\u001b[0;34m\u001b[0m\u001b[0m\n",
            "\u001b[0;32m<ipython-input-25-e92de4704ef5>\u001b[0m in \u001b[0;36mbuild_model\u001b[0;34m(hp)\u001b[0m\n\u001b[1;32m     19\u001b[0m \u001b[0;32mdef\u001b[0m \u001b[0mbuild_model\u001b[0m\u001b[0;34m(\u001b[0m\u001b[0mhp\u001b[0m\u001b[0;34m)\u001b[0m\u001b[0;34m:\u001b[0m\u001b[0;34m\u001b[0m\u001b[0;34m\u001b[0m\u001b[0m\n\u001b[1;32m     20\u001b[0m       model = tf.keras.Sequential([\n\u001b[0;32m---> 21\u001b[0;31m           \u001b[0mhub\u001b[0m\u001b[0;34m.\u001b[0m\u001b[0mKerasLayer\u001b[0m\u001b[0;34m(\u001b[0m\u001b[0;34m\"https://tfhub.dev/google/experts/bit/r50x1/in21k/plant/1\"\u001b[0m\u001b[0;34m)\u001b[0m\u001b[0;34m,\u001b[0m\u001b[0;34m\u001b[0m\u001b[0;34m\u001b[0m\u001b[0m\n\u001b[0m\u001b[1;32m     22\u001b[0m           \u001b[0mDropout\u001b[0m\u001b[0;34m(\u001b[0m\u001b[0mhp\u001b[0m\u001b[0;34m.\u001b[0m\u001b[0mFloat\u001b[0m\u001b[0;34m(\u001b[0m\u001b[0;34m'dropout'\u001b[0m\u001b[0;34m,\u001b[0m \u001b[0mmin_value\u001b[0m\u001b[0;34m=\u001b[0m\u001b[0;36m0.1\u001b[0m\u001b[0;34m,\u001b[0m \u001b[0mmax_value\u001b[0m\u001b[0;34m=\u001b[0m\u001b[0;36m0.5\u001b[0m\u001b[0;34m,\u001b[0m \u001b[0mstep\u001b[0m\u001b[0;34m=\u001b[0m\u001b[0;36m0.1\u001b[0m\u001b[0;34m)\u001b[0m\u001b[0;34m)\u001b[0m\u001b[0;34m,\u001b[0m\u001b[0;34m\u001b[0m\u001b[0;34m\u001b[0m\u001b[0m\n\u001b[1;32m     23\u001b[0m           \u001b[0;31m# Dense(units=32,activation='relu',kernel_initializer=tf.keras.initializers.glorot_normal(seed=32),name='FC1'),\u001b[0m\u001b[0;34m\u001b[0m\u001b[0;34m\u001b[0m\u001b[0;34m\u001b[0m\u001b[0m\n",
            "\u001b[0;32m/usr/local/lib/python3.7/dist-packages/tensorflow_hub/keras_layer.py\u001b[0m in \u001b[0;36m__init__\u001b[0;34m(self, handle, trainable, arguments, _sentinel, tags, signature, signature_outputs_as_dict, output_key, output_shape, load_options, **kwargs)\u001b[0m\n\u001b[1;32m    151\u001b[0m \u001b[0;34m\u001b[0m\u001b[0m\n\u001b[1;32m    152\u001b[0m     \u001b[0mself\u001b[0m\u001b[0;34m.\u001b[0m\u001b[0m_load_options\u001b[0m \u001b[0;34m=\u001b[0m \u001b[0mload_options\u001b[0m\u001b[0;34m\u001b[0m\u001b[0;34m\u001b[0m\u001b[0m\n\u001b[0;32m--> 153\u001b[0;31m     \u001b[0mself\u001b[0m\u001b[0;34m.\u001b[0m\u001b[0m_func\u001b[0m \u001b[0;34m=\u001b[0m \u001b[0mload_module\u001b[0m\u001b[0;34m(\u001b[0m\u001b[0mhandle\u001b[0m\u001b[0;34m,\u001b[0m \u001b[0mtags\u001b[0m\u001b[0;34m,\u001b[0m \u001b[0mself\u001b[0m\u001b[0;34m.\u001b[0m\u001b[0m_load_options\u001b[0m\u001b[0;34m)\u001b[0m\u001b[0;34m\u001b[0m\u001b[0;34m\u001b[0m\u001b[0m\n\u001b[0m\u001b[1;32m    154\u001b[0m     \u001b[0mself\u001b[0m\u001b[0;34m.\u001b[0m\u001b[0m_has_training_argument\u001b[0m \u001b[0;34m=\u001b[0m \u001b[0mfunc_has_training_argument\u001b[0m\u001b[0;34m(\u001b[0m\u001b[0mself\u001b[0m\u001b[0;34m.\u001b[0m\u001b[0m_func\u001b[0m\u001b[0;34m)\u001b[0m\u001b[0;34m\u001b[0m\u001b[0;34m\u001b[0m\u001b[0m\n\u001b[1;32m    155\u001b[0m     \u001b[0mself\u001b[0m\u001b[0;34m.\u001b[0m\u001b[0m_is_hub_module_v1\u001b[0m \u001b[0;34m=\u001b[0m \u001b[0mgetattr\u001b[0m\u001b[0;34m(\u001b[0m\u001b[0mself\u001b[0m\u001b[0;34m.\u001b[0m\u001b[0m_func\u001b[0m\u001b[0;34m,\u001b[0m \u001b[0;34m\"_is_hub_module_v1\"\u001b[0m\u001b[0;34m,\u001b[0m \u001b[0;32mFalse\u001b[0m\u001b[0;34m)\u001b[0m\u001b[0;34m\u001b[0m\u001b[0;34m\u001b[0m\u001b[0m\n",
            "\u001b[0;32m/usr/local/lib/python3.7/dist-packages/tensorflow_hub/keras_layer.py\u001b[0m in \u001b[0;36mload_module\u001b[0;34m(handle, tags, load_options)\u001b[0m\n\u001b[1;32m    447\u001b[0m       \u001b[0;32mexcept\u001b[0m \u001b[0mImportError\u001b[0m\u001b[0;34m:\u001b[0m  \u001b[0;31m# Expected before TF2.4.\u001b[0m\u001b[0;34m\u001b[0m\u001b[0;34m\u001b[0m\u001b[0m\n\u001b[1;32m    448\u001b[0m         \u001b[0mset_load_options\u001b[0m \u001b[0;34m=\u001b[0m \u001b[0mload_options\u001b[0m\u001b[0;34m\u001b[0m\u001b[0;34m\u001b[0m\u001b[0m\n\u001b[0;32m--> 449\u001b[0;31m     \u001b[0;32mreturn\u001b[0m \u001b[0mmodule_v2\u001b[0m\u001b[0;34m.\u001b[0m\u001b[0mload\u001b[0m\u001b[0;34m(\u001b[0m\u001b[0mhandle\u001b[0m\u001b[0;34m,\u001b[0m \u001b[0mtags\u001b[0m\u001b[0;34m=\u001b[0m\u001b[0mtags\u001b[0m\u001b[0;34m,\u001b[0m \u001b[0moptions\u001b[0m\u001b[0;34m=\u001b[0m\u001b[0mset_load_options\u001b[0m\u001b[0;34m)\u001b[0m\u001b[0;34m\u001b[0m\u001b[0;34m\u001b[0m\u001b[0m\n\u001b[0m\u001b[1;32m    450\u001b[0m \u001b[0;34m\u001b[0m\u001b[0m\n\u001b[1;32m    451\u001b[0m \u001b[0;34m\u001b[0m\u001b[0m\n",
            "\u001b[0;32m/usr/local/lib/python3.7/dist-packages/tensorflow_hub/module_v2.py\u001b[0m in \u001b[0;36mload\u001b[0;34m(handle, tags, options)\u001b[0m\n\u001b[1;32m    104\u001b[0m         module_path, tags=tags, options=options)\n\u001b[1;32m    105\u001b[0m   \u001b[0;32melse\u001b[0m\u001b[0;34m:\u001b[0m\u001b[0;34m\u001b[0m\u001b[0;34m\u001b[0m\u001b[0m\n\u001b[0;32m--> 106\u001b[0;31m     \u001b[0mobj\u001b[0m \u001b[0;34m=\u001b[0m \u001b[0mtf\u001b[0m\u001b[0;34m.\u001b[0m\u001b[0mcompat\u001b[0m\u001b[0;34m.\u001b[0m\u001b[0mv1\u001b[0m\u001b[0;34m.\u001b[0m\u001b[0msaved_model\u001b[0m\u001b[0;34m.\u001b[0m\u001b[0mload_v2\u001b[0m\u001b[0;34m(\u001b[0m\u001b[0mmodule_path\u001b[0m\u001b[0;34m,\u001b[0m \u001b[0mtags\u001b[0m\u001b[0;34m=\u001b[0m\u001b[0mtags\u001b[0m\u001b[0;34m)\u001b[0m\u001b[0;34m\u001b[0m\u001b[0;34m\u001b[0m\u001b[0m\n\u001b[0m\u001b[1;32m    107\u001b[0m   \u001b[0mobj\u001b[0m\u001b[0;34m.\u001b[0m\u001b[0m_is_hub_module_v1\u001b[0m \u001b[0;34m=\u001b[0m \u001b[0mis_hub_module_v1\u001b[0m  \u001b[0;31m# pylint: disable=protected-access\u001b[0m\u001b[0;34m\u001b[0m\u001b[0;34m\u001b[0m\u001b[0m\n\u001b[1;32m    108\u001b[0m   \u001b[0;32mreturn\u001b[0m \u001b[0mobj\u001b[0m\u001b[0;34m\u001b[0m\u001b[0;34m\u001b[0m\u001b[0m\n",
            "\u001b[0;32m/usr/local/lib/python3.7/dist-packages/tensorflow/python/saved_model/load.py\u001b[0m in \u001b[0;36mload\u001b[0;34m(export_dir, tags, options)\u001b[0m\n\u001b[1;32m    934\u001b[0m     \u001b[0mValueError\u001b[0m\u001b[0;34m:\u001b[0m \u001b[0mIf\u001b[0m\u001b[0;31m \u001b[0m\u001b[0;31m`\u001b[0m\u001b[0mtags\u001b[0m\u001b[0;31m`\u001b[0m \u001b[0mdon\u001b[0m\u001b[0;31m'\u001b[0m\u001b[0mt\u001b[0m \u001b[0mmatch\u001b[0m \u001b[0ma\u001b[0m \u001b[0mMetaGraph\u001b[0m \u001b[0;32min\u001b[0m \u001b[0mthe\u001b[0m \u001b[0mSavedModel\u001b[0m\u001b[0;34m.\u001b[0m\u001b[0;34m\u001b[0m\u001b[0;34m\u001b[0m\u001b[0m\n\u001b[1;32m    935\u001b[0m   \"\"\"\n\u001b[0;32m--> 936\u001b[0;31m   \u001b[0mresult\u001b[0m \u001b[0;34m=\u001b[0m \u001b[0mload_internal\u001b[0m\u001b[0;34m(\u001b[0m\u001b[0mexport_dir\u001b[0m\u001b[0;34m,\u001b[0m \u001b[0mtags\u001b[0m\u001b[0;34m,\u001b[0m \u001b[0moptions\u001b[0m\u001b[0;34m)\u001b[0m\u001b[0;34m[\u001b[0m\u001b[0;34m\"root\"\u001b[0m\u001b[0;34m]\u001b[0m\u001b[0;34m\u001b[0m\u001b[0;34m\u001b[0m\u001b[0m\n\u001b[0m\u001b[1;32m    937\u001b[0m   \u001b[0;32mreturn\u001b[0m \u001b[0mresult\u001b[0m\u001b[0;34m\u001b[0m\u001b[0;34m\u001b[0m\u001b[0m\n\u001b[1;32m    938\u001b[0m \u001b[0;34m\u001b[0m\u001b[0m\n",
            "\u001b[0;32m/usr/local/lib/python3.7/dist-packages/tensorflow/python/saved_model/load.py\u001b[0m in \u001b[0;36mload_internal\u001b[0;34m(export_dir, tags, options, loader_cls, filters)\u001b[0m\n\u001b[1;32m    973\u001b[0m       \u001b[0;32mtry\u001b[0m\u001b[0;34m:\u001b[0m\u001b[0;34m\u001b[0m\u001b[0;34m\u001b[0m\u001b[0m\n\u001b[1;32m    974\u001b[0m         loader = loader_cls(object_graph_proto, saved_model_proto, export_dir,\n\u001b[0;32m--> 975\u001b[0;31m                             ckpt_options, options, filters)\n\u001b[0m\u001b[1;32m    976\u001b[0m       \u001b[0;32mexcept\u001b[0m \u001b[0merrors\u001b[0m\u001b[0;34m.\u001b[0m\u001b[0mNotFoundError\u001b[0m \u001b[0;32mas\u001b[0m \u001b[0merr\u001b[0m\u001b[0;34m:\u001b[0m\u001b[0;34m\u001b[0m\u001b[0;34m\u001b[0m\u001b[0m\n\u001b[1;32m    977\u001b[0m         raise FileNotFoundError(\n",
            "\u001b[0;32m/usr/local/lib/python3.7/dist-packages/tensorflow/python/saved_model/load.py\u001b[0m in \u001b[0;36m__init__\u001b[0;34m(self, object_graph_proto, saved_model_proto, export_dir, ckpt_options, save_options, filters)\u001b[0m\n\u001b[1;32m    150\u001b[0m             \u001b[0mlibrary\u001b[0m\u001b[0;34m=\u001b[0m\u001b[0mmeta_graph\u001b[0m\u001b[0;34m.\u001b[0m\u001b[0mgraph_def\u001b[0m\u001b[0;34m.\u001b[0m\u001b[0mlibrary\u001b[0m\u001b[0;34m,\u001b[0m\u001b[0;34m\u001b[0m\u001b[0;34m\u001b[0m\u001b[0m\n\u001b[1;32m    151\u001b[0m             \u001b[0msaved_object_graph\u001b[0m\u001b[0;34m=\u001b[0m\u001b[0mself\u001b[0m\u001b[0;34m.\u001b[0m\u001b[0m_proto\u001b[0m\u001b[0;34m,\u001b[0m\u001b[0;34m\u001b[0m\u001b[0;34m\u001b[0m\u001b[0m\n\u001b[0;32m--> 152\u001b[0;31m             wrapper_function=_WrapperFunction))\n\u001b[0m\u001b[1;32m    153\u001b[0m     \u001b[0;31m# Store a set of all concrete functions that have been set up with\u001b[0m\u001b[0;34m\u001b[0m\u001b[0;34m\u001b[0m\u001b[0;34m\u001b[0m\u001b[0m\n\u001b[1;32m    154\u001b[0m     \u001b[0;31m# captures.\u001b[0m\u001b[0;34m\u001b[0m\u001b[0;34m\u001b[0m\u001b[0;34m\u001b[0m\u001b[0m\n",
            "\u001b[0;32m/usr/local/lib/python3.7/dist-packages/tensorflow/python/saved_model/function_deserialization.py\u001b[0m in \u001b[0;36mload_function_def_library\u001b[0;34m(library, saved_object_graph, load_shared_name_suffix, wrapper_function)\u001b[0m\n\u001b[1;32m    407\u001b[0m           \u001b[0mcopy\u001b[0m\u001b[0;34m,\u001b[0m\u001b[0;34m\u001b[0m\u001b[0;34m\u001b[0m\u001b[0m\n\u001b[1;32m    408\u001b[0m           \u001b[0mstructured_input_signature\u001b[0m\u001b[0;34m=\u001b[0m\u001b[0mstructured_input_signature\u001b[0m\u001b[0;34m,\u001b[0m\u001b[0;34m\u001b[0m\u001b[0;34m\u001b[0m\u001b[0m\n\u001b[0;32m--> 409\u001b[0;31m           structured_outputs=structured_outputs)\n\u001b[0m\u001b[1;32m    410\u001b[0m     \u001b[0;31m# Restores gradients for function-call ops (not the same as ops that use\u001b[0m\u001b[0;34m\u001b[0m\u001b[0;34m\u001b[0m\u001b[0;34m\u001b[0m\u001b[0m\n\u001b[1;32m    411\u001b[0m     \u001b[0;31m# custom gradients)\u001b[0m\u001b[0;34m\u001b[0m\u001b[0;34m\u001b[0m\u001b[0;34m\u001b[0m\u001b[0m\n",
            "\u001b[0;32m/usr/local/lib/python3.7/dist-packages/tensorflow/python/framework/function_def_to_graph.py\u001b[0m in \u001b[0;36mfunction_def_to_graph\u001b[0;34m(fdef, structured_input_signature, structured_outputs, input_shapes)\u001b[0m\n\u001b[1;32m     88\u001b[0m     output_tensor_names = [\n\u001b[1;32m     89\u001b[0m         \u001b[0mnested_to_flat_tensor_name\u001b[0m\u001b[0;34m[\u001b[0m\u001b[0mfdef\u001b[0m\u001b[0;34m.\u001b[0m\u001b[0mret\u001b[0m\u001b[0;34m[\u001b[0m\u001b[0marg\u001b[0m\u001b[0;34m.\u001b[0m\u001b[0mname\u001b[0m\u001b[0;34m]\u001b[0m\u001b[0;34m]\u001b[0m\u001b[0;34m\u001b[0m\u001b[0;34m\u001b[0m\u001b[0m\n\u001b[0;32m---> 90\u001b[0;31m         \u001b[0;32mfor\u001b[0m \u001b[0marg\u001b[0m \u001b[0;32min\u001b[0m \u001b[0mfdef\u001b[0m\u001b[0;34m.\u001b[0m\u001b[0msignature\u001b[0m\u001b[0;34m.\u001b[0m\u001b[0moutput_arg\u001b[0m\u001b[0;34m\u001b[0m\u001b[0;34m\u001b[0m\u001b[0m\n\u001b[0m\u001b[1;32m     91\u001b[0m     ]\n\u001b[1;32m     92\u001b[0m     func_graph.outputs = [\n",
            "\u001b[0;32m/usr/local/lib/python3.7/dist-packages/tensorflow/python/framework/function_def_to_graph.py\u001b[0m in \u001b[0;36m<listcomp>\u001b[0;34m(.0)\u001b[0m\n\u001b[1;32m     88\u001b[0m     output_tensor_names = [\n\u001b[1;32m     89\u001b[0m         \u001b[0mnested_to_flat_tensor_name\u001b[0m\u001b[0;34m[\u001b[0m\u001b[0mfdef\u001b[0m\u001b[0;34m.\u001b[0m\u001b[0mret\u001b[0m\u001b[0;34m[\u001b[0m\u001b[0marg\u001b[0m\u001b[0;34m.\u001b[0m\u001b[0mname\u001b[0m\u001b[0;34m]\u001b[0m\u001b[0;34m]\u001b[0m\u001b[0;34m\u001b[0m\u001b[0;34m\u001b[0m\u001b[0m\n\u001b[0;32m---> 90\u001b[0;31m         \u001b[0;32mfor\u001b[0m \u001b[0marg\u001b[0m \u001b[0;32min\u001b[0m \u001b[0mfdef\u001b[0m\u001b[0;34m.\u001b[0m\u001b[0msignature\u001b[0m\u001b[0;34m.\u001b[0m\u001b[0moutput_arg\u001b[0m\u001b[0;34m\u001b[0m\u001b[0;34m\u001b[0m\u001b[0m\n\u001b[0m\u001b[1;32m     91\u001b[0m     ]\n\u001b[1;32m     92\u001b[0m     func_graph.outputs = [\n",
            "\u001b[0;31mKeyboardInterrupt\u001b[0m: "
          ]
        }
      ]
    },
    {
      "cell_type": "code",
      "source": [
        "\n",
        "tuner_search.search(tr_dataset, \n",
        "          steps_per_epoch=steps_per_epoch_tr, \n",
        "          epochs=3, validation_data = cv_dataset,\n",
        "          validation_steps=steps_per_epoch_cv, \n",
        "    )"
      ],
      "metadata": {
        "id": "Eb9nbnprb2V3"
      },
      "execution_count": null,
      "outputs": []
    },
    {
      "cell_type": "code",
      "source": [
        "best_hps = tuner_search.get_best_hyperparameters(num_trials=1)[0]"
      ],
      "metadata": {
        "id": "QjO29wcsb2an"
      },
      "execution_count": null,
      "outputs": []
    },
    {
      "cell_type": "code",
      "source": [
        "print(f\"\"\"\n",
        "The hyperparameter search is complete. The optimal number of units in the first densely-connected\n",
        "layer is {best_hps.get('dropout')} and the optimal learning rate for the optimizer\n",
        "is {best_hps.get('learning_rate')}.\n",
        "\"\"\")"
      ],
      "metadata": {
        "id": "I4pFuN_9b2fV"
      },
      "execution_count": null,
      "outputs": []
    },
    {
      "cell_type": "markdown",
      "source": [
        "# **Quantization aware training and Pruning***"
      ],
      "metadata": {
        "id": "FybudzG8vOll"
      }
    },
    {
      "cell_type": "code",
      "source": [
        "!pip3 install -q tensorflow-model-optimization\n",
        "import tensorflow_model_optimization as tfmot"
      ],
      "metadata": {
        "colab": {
          "base_uri": "https://localhost:8080/"
        },
        "id": "LxoUAMP3TQHo",
        "outputId": "37895533-b313-4d02-dedc-a213b0535fb0"
      },
      "execution_count": null,
      "outputs": [
        {
          "output_type": "stream",
          "name": "stdout",
          "text": [
            "\u001b[?25l\r\u001b[K     |█▍                              | 10 kB 25.6 MB/s eta 0:00:01\r\u001b[K     |██▊                             | 20 kB 11.4 MB/s eta 0:00:01\r\u001b[K     |████▏                           | 30 kB 9.5 MB/s eta 0:00:01\r\u001b[K     |█████▌                          | 40 kB 8.6 MB/s eta 0:00:01\r\u001b[K     |███████                         | 51 kB 4.6 MB/s eta 0:00:01\r\u001b[K     |████████▎                       | 61 kB 5.4 MB/s eta 0:00:01\r\u001b[K     |█████████▋                      | 71 kB 5.3 MB/s eta 0:00:01\r\u001b[K     |███████████                     | 81 kB 5.4 MB/s eta 0:00:01\r\u001b[K     |████████████▍                   | 92 kB 6.0 MB/s eta 0:00:01\r\u001b[K     |█████████████▉                  | 102 kB 5.2 MB/s eta 0:00:01\r\u001b[K     |███████████████▏                | 112 kB 5.2 MB/s eta 0:00:01\r\u001b[K     |████████████████▌               | 122 kB 5.2 MB/s eta 0:00:01\r\u001b[K     |██████████████████              | 133 kB 5.2 MB/s eta 0:00:01\r\u001b[K     |███████████████████▎            | 143 kB 5.2 MB/s eta 0:00:01\r\u001b[K     |████████████████████▊           | 153 kB 5.2 MB/s eta 0:00:01\r\u001b[K     |██████████████████████          | 163 kB 5.2 MB/s eta 0:00:01\r\u001b[K     |███████████████████████▌        | 174 kB 5.2 MB/s eta 0:00:01\r\u001b[K     |████████████████████████▉       | 184 kB 5.2 MB/s eta 0:00:01\r\u001b[K     |██████████████████████████▏     | 194 kB 5.2 MB/s eta 0:00:01\r\u001b[K     |███████████████████████████▋    | 204 kB 5.2 MB/s eta 0:00:01\r\u001b[K     |█████████████████████████████   | 215 kB 5.2 MB/s eta 0:00:01\r\u001b[K     |██████████████████████████████▍ | 225 kB 5.2 MB/s eta 0:00:01\r\u001b[K     |███████████████████████████████▊| 235 kB 5.2 MB/s eta 0:00:01\r\u001b[K     |████████████████████████████████| 237 kB 5.2 MB/s \n",
            "\u001b[?25h"
          ]
        }
      ]
    },
    {
      "cell_type": "code",
      "source": [
        "#compiling \n",
        "model.compile(optimizer=tf.keras.optimizers.Adam(learning_rate=0.01),\n",
        "              loss='categorical_crossentropy',\n",
        "              metrics=['accuracy'])\n",
        "\n",
        "##fitting generator\n",
        "model.fit(tr_dataset, \n",
        "          steps_per_epoch=steps_per_epoch_tr, \n",
        "          epochs=1, validation_data = te_dataset,\n",
        "          validation_steps=steps_per_epoch_te, \n",
        "          callbacks=callbacks,\n",
        "          verbose=1)"
      ],
      "metadata": {
        "id": "P87D2H9LvNKo",
        "colab": {
          "base_uri": "https://localhost:8080/"
        },
        "outputId": "83e62d15-6a91-4914-b4f2-78206cca8006"
      },
      "execution_count": null,
      "outputs": [
        {
          "output_type": "stream",
          "name": "stdout",
          "text": [
            "48/48 [==============================] - ETA: 0s - loss: 1.8376 - accuracy: 0.9453\n",
            "Epoch 1: val_loss improved from inf to 1.46879, saving model to model_save_final/mobileNet_v3/weights-01-0.97.hdf5\n",
            "48/48 [==============================] - 143s 3s/step - loss: 1.8376 - accuracy: 0.9453 - val_loss: 1.4688 - val_accuracy: 0.9709 - lr: 0.0100\n"
          ]
        },
        {
          "output_type": "execute_result",
          "data": {
            "text/plain": [
              "<keras.callbacks.History at 0x7f397fbe1550>"
            ]
          },
          "metadata": {},
          "execution_count": 39
        }
      ]
    },
    {
      "cell_type": "markdown",
      "source": [
        "**Clone and fine-tune pre-trained model with quantization aware training**"
      ],
      "metadata": {
        "id": "gXGFpnF0vtzv"
      }
    },
    {
      "cell_type": "code",
      "source": [
        "LastValueQuantizer = tfmot.quantization.keras.quantizers.LastValueQuantizer\n",
        "MovingAverageQuantizer = tfmot.quantization.keras.quantizers.MovingAverageQuantizer\n",
        "\n",
        "class DefaultDenseQuantizeConfig(tfmot.quantization.keras.QuantizeConfig):\n",
        "    # Configure how to quantize weights.\n",
        "    def get_weights_and_quantizers(self, layer):\n",
        "      return [(layer.kernel, LastValueQuantizer(num_bits=8, symmetric=True, narrow_range=False, per_axis=False))]\n",
        "\n",
        "    # Configure how to quantize activations.\n",
        "    def get_activations_and_quantizers(self, layer):\n",
        "      return [(layer.activation, MovingAverageQuantizer(num_bits=8, symmetric=False, narrow_range=False, per_axis=False))]\n",
        "\n",
        "    def set_quantize_weights(self, layer, quantize_weights):\n",
        "      # Add this line for each item returned in `get_weights_and_quantizers`\n",
        "      # , in the same order\n",
        "      layer.kernel = quantize_weights[0]\n",
        "\n",
        "    def set_quantize_activations(self, layer, quantize_activations):\n",
        "      # Add this line for each item returned in `get_activations_and_quantizers`\n",
        "      # , in the same order.\n",
        "      layer.activation = quantize_activations[0]\n",
        "\n",
        "    # Configure how to quantize outputs (may be equivalent to activations).\n",
        "    def get_output_quantizers(self, layer):\n",
        "      return []\n",
        "\n",
        "    def get_config(self):\n",
        "      return {}"
      ],
      "metadata": {
        "id": "3VHYJodlYZKz"
      },
      "execution_count": null,
      "outputs": []
    },
    {
      "cell_type": "code",
      "source": [
        "\n",
        "# TF2 version\n",
        "import tensorflow.compat.v2 as tf\n",
        "import tensorflow_hub as hub\n",
        "\n",
        "import os\n",
        "os.environ['PYTHONHASHSEED'] = '0'\n",
        "\n",
        "##https://keras.io/getting-started/faq/#how-can-i-obtain-reproducible-results-using-keras-during-development\n",
        "## Have to clear the session. If you are not clearing, Graph will create again and again and graph size will increses. \n",
        "## Varibles will also set to some value from before session\n",
        "tf.keras.backend.clear_session()\n",
        "\n",
        "## Set the random seed values to regenerate the model.\n",
        "np.random.seed(0)\n",
        "rn.seed(0)\n",
        "\n",
        "\n",
        "input = tf.keras.layers.Input(shape = (224,224,3))\n",
        "mobile_net = hub.KerasLayer(\"https://tfhub.dev/google/experts/bit/r50x1/in21k/plant/1\")\n",
        "\n",
        "transfer_layer = mobile_net(input)\n",
        "dropout= Dropout(0.2)(transfer_layer)\n",
        "output = Dense(units=2, activation='softmax',\n",
        "            kernel_initializer=tf.keras.initializers.HeNormal(seed=32), \n",
        "            name='output',\n",
        "            kernel_regularizer=regularizers.l1(0.01), bias_regularizer=regularizers.l2(0.01) )(dropout)\n",
        "model = tf.keras.Model(input,output,name = 'Transfer_learning_USE')\n",
        "model.summary()\n"
      ],
      "metadata": {
        "colab": {
          "base_uri": "https://localhost:8080/"
        },
        "id": "sUBREZnfezuM",
        "outputId": "bcd3421a-358c-4403-cbc8-ca7198e8bc87"
      },
      "execution_count": null,
      "outputs": [
        {
          "output_type": "stream",
          "name": "stdout",
          "text": [
            "Model: \"Transfer_learning_USE\"\n",
            "_________________________________________________________________\n",
            " Layer (type)                Output Shape              Param #   \n",
            "=================================================================\n",
            " input_1 (InputLayer)        [(None, 224, 224, 3)]     0         \n",
            "                                                                 \n",
            " keras_layer (KerasLayer)    (None, 2048)              23500352  \n",
            "                                                                 \n",
            " dropout (Dropout)           (None, 2048)              0         \n",
            "                                                                 \n",
            " output (Dense)              (None, 2)                 4098      \n",
            "                                                                 \n",
            "=================================================================\n",
            "Total params: 23,504,450\n",
            "Trainable params: 4,098\n",
            "Non-trainable params: 23,500,352\n",
            "_________________________________________________________________\n"
          ]
        }
      ]
    },
    {
      "cell_type": "code",
      "source": [
        "import tensorflow_model_optimization as tfmot\n",
        "\n",
        "quantize_model = tfmot.quantization.keras.quantize_model\n",
        "\n",
        "# q_aware stands for for quantization aware.\n",
        "q_aware_model = quantize_model(model)\n",
        "\n",
        "# `quantize_model` requires a recompile.\n",
        "q_aware_model.compile(loss=keras.losses.categorical_crossentropy, \n",
        "              optimizer='adam', \n",
        "              metrics=['accuracy'])\n"
      ],
      "metadata": {
        "colab": {
          "base_uri": "https://localhost:8080/",
          "height": 502
        },
        "id": "sf89pL1fgqWL",
        "outputId": "6fef3c37-fa12-492c-9839-7bdd86214e0d"
      },
      "execution_count": null,
      "outputs": [
        {
          "output_type": "error",
          "ename": "ValueError",
          "evalue": "ignored",
          "traceback": [
            "\u001b[0;31m---------------------------------------------------------------------------\u001b[0m",
            "\u001b[0;31mValueError\u001b[0m                                Traceback (most recent call last)",
            "\u001b[0;32m/usr/local/lib/python3.7/dist-packages/tensorflow_model_optimization/python/core/quantization/keras/quantize.py\u001b[0m in \u001b[0;36mquantize_apply\u001b[0;34m(model, scheme)\u001b[0m\n\u001b[1;32m    437\u001b[0m   \u001b[0;32mtry\u001b[0m\u001b[0;34m:\u001b[0m\u001b[0;34m\u001b[0m\u001b[0;34m\u001b[0m\u001b[0m\n\u001b[0;32m--> 438\u001b[0;31m     \u001b[0mmodel_copy\u001b[0m \u001b[0;34m=\u001b[0m \u001b[0m_clone_model_with_weights\u001b[0m\u001b[0;34m(\u001b[0m\u001b[0mmodel\u001b[0m\u001b[0;34m)\u001b[0m\u001b[0;34m\u001b[0m\u001b[0;34m\u001b[0m\u001b[0m\n\u001b[0m\u001b[1;32m    439\u001b[0m   \u001b[0;32mexcept\u001b[0m \u001b[0mValueError\u001b[0m\u001b[0;34m:\u001b[0m\u001b[0;34m\u001b[0m\u001b[0;34m\u001b[0m\u001b[0m\n",
            "\u001b[0;32m/usr/local/lib/python3.7/dist-packages/tensorflow_model_optimization/python/core/quantization/keras/quantize.py\u001b[0m in \u001b[0;36m_clone_model_with_weights\u001b[0;34m(model_to_clone)\u001b[0m\n\u001b[1;32m    351\u001b[0m   \u001b[0;32mdef\u001b[0m \u001b[0m_clone_model_with_weights\u001b[0m\u001b[0;34m(\u001b[0m\u001b[0mmodel_to_clone\u001b[0m\u001b[0;34m)\u001b[0m\u001b[0;34m:\u001b[0m\u001b[0;34m\u001b[0m\u001b[0;34m\u001b[0m\u001b[0m\n\u001b[0;32m--> 352\u001b[0;31m     \u001b[0mcloned_model\u001b[0m \u001b[0;34m=\u001b[0m \u001b[0mkeras\u001b[0m\u001b[0;34m.\u001b[0m\u001b[0mmodels\u001b[0m\u001b[0;34m.\u001b[0m\u001b[0mclone_model\u001b[0m\u001b[0;34m(\u001b[0m\u001b[0mmodel_to_clone\u001b[0m\u001b[0;34m)\u001b[0m\u001b[0;34m\u001b[0m\u001b[0;34m\u001b[0m\u001b[0m\n\u001b[0m\u001b[1;32m    353\u001b[0m     \u001b[0mcloned_model\u001b[0m\u001b[0;34m.\u001b[0m\u001b[0mset_weights\u001b[0m\u001b[0;34m(\u001b[0m\u001b[0mmodel_to_clone\u001b[0m\u001b[0;34m.\u001b[0m\u001b[0mget_weights\u001b[0m\u001b[0;34m(\u001b[0m\u001b[0;34m)\u001b[0m\u001b[0;34m)\u001b[0m\u001b[0;34m\u001b[0m\u001b[0;34m\u001b[0m\u001b[0m\n",
            "\u001b[0;32m/usr/local/lib/python3.7/dist-packages/keras/models.py\u001b[0m in \u001b[0;36mclone_model\u001b[0;34m(model, input_tensors, clone_function)\u001b[0m\n\u001b[1;32m    456\u001b[0m       return _clone_functional_model(\n\u001b[0;32m--> 457\u001b[0;31m           model, input_tensors=input_tensors, layer_fn=clone_function)\n\u001b[0m\u001b[1;32m    458\u001b[0m \u001b[0;34m\u001b[0m\u001b[0m\n",
            "\u001b[0;32m/usr/local/lib/python3.7/dist-packages/keras/models.py\u001b[0m in \u001b[0;36m_clone_functional_model\u001b[0;34m(model, input_tensors, layer_fn)\u001b[0m\n\u001b[1;32m    193\u001b[0m   model_configs, created_layers = _clone_layers_and_model_config(\n\u001b[0;32m--> 194\u001b[0;31m       model, new_input_layers, layer_fn)\n\u001b[0m\u001b[1;32m    195\u001b[0m   \u001b[0;31m# Reconstruct model from the config, using the cloned layers.\u001b[0m\u001b[0;34m\u001b[0m\u001b[0;34m\u001b[0m\u001b[0;34m\u001b[0m\u001b[0m\n",
            "\u001b[0;32m/usr/local/lib/python3.7/dist-packages/keras/models.py\u001b[0m in \u001b[0;36m_clone_layers_and_model_config\u001b[0;34m(model, input_layers, layer_fn)\u001b[0m\n\u001b[1;32m    246\u001b[0m   config = functional.get_network_config(\n\u001b[0;32m--> 247\u001b[0;31m       model, serialize_layer_fn=_copy_layer)\n\u001b[0m\u001b[1;32m    248\u001b[0m   \u001b[0;32mreturn\u001b[0m \u001b[0mconfig\u001b[0m\u001b[0;34m,\u001b[0m \u001b[0mcreated_layers\u001b[0m\u001b[0;34m\u001b[0m\u001b[0;34m\u001b[0m\u001b[0m\n",
            "\u001b[0;32m/usr/local/lib/python3.7/dist-packages/keras/engine/functional.py\u001b[0m in \u001b[0;36mget_network_config\u001b[0;34m(network, serialize_layer_fn)\u001b[0m\n\u001b[1;32m   1409\u001b[0m \u001b[0;34m\u001b[0m\u001b[0m\n\u001b[0;32m-> 1410\u001b[0;31m       \u001b[0mlayer_config\u001b[0m \u001b[0;34m=\u001b[0m \u001b[0mserialize_layer_fn\u001b[0m\u001b[0;34m(\u001b[0m\u001b[0mlayer\u001b[0m\u001b[0;34m)\u001b[0m\u001b[0;34m\u001b[0m\u001b[0;34m\u001b[0m\u001b[0m\n\u001b[0m\u001b[1;32m   1411\u001b[0m       \u001b[0mlayer_config\u001b[0m\u001b[0;34m[\u001b[0m\u001b[0;34m'name'\u001b[0m\u001b[0;34m]\u001b[0m \u001b[0;34m=\u001b[0m \u001b[0mlayer\u001b[0m\u001b[0;34m.\u001b[0m\u001b[0mname\u001b[0m\u001b[0;34m\u001b[0m\u001b[0;34m\u001b[0m\u001b[0m\n",
            "\u001b[0;32m/usr/local/lib/python3.7/dist-packages/keras/models.py\u001b[0m in \u001b[0;36m_copy_layer\u001b[0;34m(layer)\u001b[0m\n\u001b[1;32m    242\u001b[0m     \u001b[0;32melse\u001b[0m\u001b[0;34m:\u001b[0m\u001b[0;34m\u001b[0m\u001b[0;34m\u001b[0m\u001b[0m\n\u001b[0;32m--> 243\u001b[0;31m       \u001b[0mcreated_layers\u001b[0m\u001b[0;34m[\u001b[0m\u001b[0mlayer\u001b[0m\u001b[0;34m.\u001b[0m\u001b[0mname\u001b[0m\u001b[0;34m]\u001b[0m \u001b[0;34m=\u001b[0m \u001b[0mlayer_fn\u001b[0m\u001b[0;34m(\u001b[0m\u001b[0mlayer\u001b[0m\u001b[0;34m)\u001b[0m\u001b[0;34m\u001b[0m\u001b[0;34m\u001b[0m\u001b[0m\n\u001b[0m\u001b[1;32m    244\u001b[0m     \u001b[0;32mreturn\u001b[0m \u001b[0;34m{\u001b[0m\u001b[0;34m}\u001b[0m\u001b[0;34m\u001b[0m\u001b[0;34m\u001b[0m\u001b[0m\n",
            "\u001b[0;32m/usr/local/lib/python3.7/dist-packages/keras/models.py\u001b[0m in \u001b[0;36m_clone_layer\u001b[0;34m(layer)\u001b[0m\n\u001b[1;32m     55\u001b[0m \u001b[0;32mdef\u001b[0m \u001b[0m_clone_layer\u001b[0m\u001b[0;34m(\u001b[0m\u001b[0mlayer\u001b[0m\u001b[0;34m)\u001b[0m\u001b[0;34m:\u001b[0m\u001b[0;34m\u001b[0m\u001b[0;34m\u001b[0m\u001b[0m\n\u001b[0;32m---> 56\u001b[0;31m   \u001b[0;32mreturn\u001b[0m \u001b[0mlayer\u001b[0m\u001b[0;34m.\u001b[0m\u001b[0m__class__\u001b[0m\u001b[0;34m.\u001b[0m\u001b[0mfrom_config\u001b[0m\u001b[0;34m(\u001b[0m\u001b[0mlayer\u001b[0m\u001b[0;34m.\u001b[0m\u001b[0mget_config\u001b[0m\u001b[0;34m(\u001b[0m\u001b[0;34m)\u001b[0m\u001b[0;34m)\u001b[0m\u001b[0;34m\u001b[0m\u001b[0;34m\u001b[0m\u001b[0m\n\u001b[0m\u001b[1;32m     57\u001b[0m \u001b[0;34m\u001b[0m\u001b[0m\n",
            "\u001b[0;32m/usr/local/lib/python3.7/dist-packages/tensorflow_model_optimization/python/core/quantization/keras/quantize_annotate.py\u001b[0m in \u001b[0;36mfrom_config\u001b[0;34m(cls, config)\u001b[0m\n\u001b[1;32m    114\u001b[0m \u001b[0;34m\u001b[0m\u001b[0m\n\u001b[0;32m--> 115\u001b[0;31m     \u001b[0mlayer\u001b[0m \u001b[0;34m=\u001b[0m \u001b[0mtf\u001b[0m\u001b[0;34m.\u001b[0m\u001b[0mkeras\u001b[0m\u001b[0;34m.\u001b[0m\u001b[0mlayers\u001b[0m\u001b[0;34m.\u001b[0m\u001b[0mdeserialize\u001b[0m\u001b[0;34m(\u001b[0m\u001b[0mconfig\u001b[0m\u001b[0;34m.\u001b[0m\u001b[0mpop\u001b[0m\u001b[0;34m(\u001b[0m\u001b[0;34m'layer'\u001b[0m\u001b[0;34m)\u001b[0m\u001b[0;34m)\u001b[0m\u001b[0;34m\u001b[0m\u001b[0;34m\u001b[0m\u001b[0m\n\u001b[0m\u001b[1;32m    116\u001b[0m \u001b[0;34m\u001b[0m\u001b[0m\n",
            "\u001b[0;32m/usr/local/lib/python3.7/dist-packages/keras/layers/serialization.py\u001b[0m in \u001b[0;36mdeserialize\u001b[0;34m(config, custom_objects)\u001b[0m\n\u001b[1;32m    210\u001b[0m       \u001b[0mcustom_objects\u001b[0m\u001b[0;34m=\u001b[0m\u001b[0mcustom_objects\u001b[0m\u001b[0;34m,\u001b[0m\u001b[0;34m\u001b[0m\u001b[0;34m\u001b[0m\u001b[0m\n\u001b[0;32m--> 211\u001b[0;31m       printable_module_name='layer')\n\u001b[0m\u001b[1;32m    212\u001b[0m \u001b[0;34m\u001b[0m\u001b[0m\n",
            "\u001b[0;32m/usr/local/lib/python3.7/dist-packages/keras/utils/generic_utils.py\u001b[0m in \u001b[0;36mdeserialize_keras_object\u001b[0;34m(identifier, module_objects, custom_objects, printable_module_name)\u001b[0m\n\u001b[1;32m    664\u001b[0m     (cls, cls_config) = class_and_config_for_serialized_keras_object(\n\u001b[0;32m--> 665\u001b[0;31m         config, module_objects, custom_objects, printable_module_name)\n\u001b[0m\u001b[1;32m    666\u001b[0m \u001b[0;34m\u001b[0m\u001b[0m\n",
            "\u001b[0;32m/usr/local/lib/python3.7/dist-packages/keras/utils/generic_utils.py\u001b[0m in \u001b[0;36mclass_and_config_for_serialized_keras_object\u001b[0;34m(config, module_objects, custom_objects, printable_module_name)\u001b[0m\n\u001b[1;32m    562\u001b[0m     raise ValueError(\n\u001b[0;32m--> 563\u001b[0;31m         \u001b[0;34mf'Unknown {printable_module_name}: {class_name}. Please ensure this '\u001b[0m\u001b[0;34m\u001b[0m\u001b[0;34m\u001b[0m\u001b[0m\n\u001b[0m\u001b[1;32m    564\u001b[0m         \u001b[0;34m'object is passed to the `custom_objects` argument. See '\u001b[0m\u001b[0;34m\u001b[0m\u001b[0;34m\u001b[0m\u001b[0m\n",
            "\u001b[0;31mValueError\u001b[0m: Unknown layer: KerasLayer. Please ensure this object is passed to the `custom_objects` argument. See https://www.tensorflow.org/guide/keras/save_and_serialize#registering_the_custom_object for details.",
            "\nDuring handling of the above exception, another exception occurred:\n",
            "\u001b[0;31mValueError\u001b[0m                                Traceback (most recent call last)",
            "\u001b[0;32m<ipython-input-90-3cd054e746e5>\u001b[0m in \u001b[0;36m<module>\u001b[0;34m()\u001b[0m\n\u001b[1;32m      4\u001b[0m \u001b[0;34m\u001b[0m\u001b[0m\n\u001b[1;32m      5\u001b[0m \u001b[0;31m# q_aware stands for for quantization aware.\u001b[0m\u001b[0;34m\u001b[0m\u001b[0;34m\u001b[0m\u001b[0;34m\u001b[0m\u001b[0m\n\u001b[0;32m----> 6\u001b[0;31m \u001b[0mq_aware_model\u001b[0m \u001b[0;34m=\u001b[0m \u001b[0mquantize_model\u001b[0m\u001b[0;34m(\u001b[0m\u001b[0mmodel\u001b[0m\u001b[0;34m)\u001b[0m\u001b[0;34m\u001b[0m\u001b[0;34m\u001b[0m\u001b[0m\n\u001b[0m\u001b[1;32m      7\u001b[0m \u001b[0;34m\u001b[0m\u001b[0m\n\u001b[1;32m      8\u001b[0m \u001b[0;31m# `quantize_model` requires a recompile.\u001b[0m\u001b[0;34m\u001b[0m\u001b[0;34m\u001b[0m\u001b[0;34m\u001b[0m\u001b[0m\n",
            "\u001b[0;32m/usr/local/lib/python3.7/dist-packages/tensorflow_model_optimization/python/core/quantization/keras/quantize.py\u001b[0m in \u001b[0;36mquantize_model\u001b[0;34m(to_quantize)\u001b[0m\n\u001b[1;32m    139\u001b[0m \u001b[0;34m\u001b[0m\u001b[0m\n\u001b[1;32m    140\u001b[0m   \u001b[0mannotated_model\u001b[0m \u001b[0;34m=\u001b[0m \u001b[0mquantize_annotate_model\u001b[0m\u001b[0;34m(\u001b[0m\u001b[0mto_quantize\u001b[0m\u001b[0;34m)\u001b[0m\u001b[0;34m\u001b[0m\u001b[0;34m\u001b[0m\u001b[0m\n\u001b[0;32m--> 141\u001b[0;31m   \u001b[0;32mreturn\u001b[0m \u001b[0mquantize_apply\u001b[0m\u001b[0;34m(\u001b[0m\u001b[0mannotated_model\u001b[0m\u001b[0;34m)\u001b[0m\u001b[0;34m\u001b[0m\u001b[0;34m\u001b[0m\u001b[0m\n\u001b[0m\u001b[1;32m    142\u001b[0m \u001b[0;34m\u001b[0m\u001b[0m\n\u001b[1;32m    143\u001b[0m \u001b[0;34m\u001b[0m\u001b[0m\n",
            "\u001b[0;32m/usr/local/lib/python3.7/dist-packages/tensorflow_model_optimization/python/core/keras/metrics.py\u001b[0m in \u001b[0;36minner\u001b[0;34m(*args, **kwargs)\u001b[0m\n\u001b[1;32m     72\u001b[0m       \u001b[0;32mexcept\u001b[0m \u001b[0mException\u001b[0m \u001b[0;32mas\u001b[0m \u001b[0merror\u001b[0m\u001b[0;34m:\u001b[0m\u001b[0;34m\u001b[0m\u001b[0;34m\u001b[0m\u001b[0m\n\u001b[1;32m     73\u001b[0m         \u001b[0mself\u001b[0m\u001b[0;34m.\u001b[0m\u001b[0mbool_gauge\u001b[0m\u001b[0;34m.\u001b[0m\u001b[0mget_cell\u001b[0m\u001b[0;34m(\u001b[0m\u001b[0mMonitorBoolGauge\u001b[0m\u001b[0;34m.\u001b[0m\u001b[0m_FAILURE_LABEL\u001b[0m\u001b[0;34m)\u001b[0m\u001b[0;34m.\u001b[0m\u001b[0mset\u001b[0m\u001b[0;34m(\u001b[0m\u001b[0;32mTrue\u001b[0m\u001b[0;34m)\u001b[0m\u001b[0;34m\u001b[0m\u001b[0;34m\u001b[0m\u001b[0m\n\u001b[0;32m---> 74\u001b[0;31m         \u001b[0;32mraise\u001b[0m \u001b[0merror\u001b[0m\u001b[0;34m\u001b[0m\u001b[0;34m\u001b[0m\u001b[0m\n\u001b[0m\u001b[1;32m     75\u001b[0m \u001b[0;34m\u001b[0m\u001b[0m\n\u001b[1;32m     76\u001b[0m     \u001b[0;32mif\u001b[0m \u001b[0mself\u001b[0m\u001b[0;34m.\u001b[0m\u001b[0mbool_gauge\u001b[0m\u001b[0;34m:\u001b[0m\u001b[0;34m\u001b[0m\u001b[0;34m\u001b[0m\u001b[0m\n",
            "\u001b[0;32m/usr/local/lib/python3.7/dist-packages/tensorflow_model_optimization/python/core/keras/metrics.py\u001b[0m in \u001b[0;36minner\u001b[0;34m(*args, **kwargs)\u001b[0m\n\u001b[1;32m     67\u001b[0m     \u001b[0;32mdef\u001b[0m \u001b[0minner\u001b[0m\u001b[0;34m(\u001b[0m\u001b[0;34m*\u001b[0m\u001b[0margs\u001b[0m\u001b[0;34m,\u001b[0m \u001b[0;34m**\u001b[0m\u001b[0mkwargs\u001b[0m\u001b[0;34m)\u001b[0m\u001b[0;34m:\u001b[0m\u001b[0;34m\u001b[0m\u001b[0;34m\u001b[0m\u001b[0m\n\u001b[1;32m     68\u001b[0m       \u001b[0;32mtry\u001b[0m\u001b[0;34m:\u001b[0m\u001b[0;34m\u001b[0m\u001b[0;34m\u001b[0m\u001b[0m\n\u001b[0;32m---> 69\u001b[0;31m         \u001b[0mresults\u001b[0m \u001b[0;34m=\u001b[0m \u001b[0mfunc\u001b[0m\u001b[0;34m(\u001b[0m\u001b[0;34m*\u001b[0m\u001b[0margs\u001b[0m\u001b[0;34m,\u001b[0m \u001b[0;34m**\u001b[0m\u001b[0mkwargs\u001b[0m\u001b[0;34m)\u001b[0m\u001b[0;34m\u001b[0m\u001b[0;34m\u001b[0m\u001b[0m\n\u001b[0m\u001b[1;32m     70\u001b[0m         \u001b[0mself\u001b[0m\u001b[0;34m.\u001b[0m\u001b[0mbool_gauge\u001b[0m\u001b[0;34m.\u001b[0m\u001b[0mget_cell\u001b[0m\u001b[0;34m(\u001b[0m\u001b[0mMonitorBoolGauge\u001b[0m\u001b[0;34m.\u001b[0m\u001b[0m_SUCCESS_LABEL\u001b[0m\u001b[0;34m)\u001b[0m\u001b[0;34m.\u001b[0m\u001b[0mset\u001b[0m\u001b[0;34m(\u001b[0m\u001b[0;32mTrue\u001b[0m\u001b[0;34m)\u001b[0m\u001b[0;34m\u001b[0m\u001b[0;34m\u001b[0m\u001b[0m\n\u001b[1;32m     71\u001b[0m         \u001b[0;32mreturn\u001b[0m \u001b[0mresults\u001b[0m\u001b[0;34m\u001b[0m\u001b[0;34m\u001b[0m\u001b[0m\n",
            "\u001b[0;32m/usr/local/lib/python3.7/dist-packages/tensorflow_model_optimization/python/core/quantization/keras/quantize.py\u001b[0m in \u001b[0;36mquantize_apply\u001b[0;34m(model, scheme)\u001b[0m\n\u001b[1;32m    439\u001b[0m   \u001b[0;32mexcept\u001b[0m \u001b[0mValueError\u001b[0m\u001b[0;34m:\u001b[0m\u001b[0;34m\u001b[0m\u001b[0;34m\u001b[0m\u001b[0m\n\u001b[1;32m    440\u001b[0m     raise ValueError(\n\u001b[0;32m--> 441\u001b[0;31m         \u001b[0;34m'Unable to clone model. This generally happens if you used custom '\u001b[0m\u001b[0;34m\u001b[0m\u001b[0;34m\u001b[0m\u001b[0m\n\u001b[0m\u001b[1;32m    442\u001b[0m         \u001b[0;34m'Keras layers or objects in your model. Please specify them via '\u001b[0m\u001b[0;34m\u001b[0m\u001b[0;34m\u001b[0m\u001b[0m\n\u001b[1;32m    443\u001b[0m         \u001b[0;34m'`quantize_scope` for your calls to `quantize_model` and '\u001b[0m\u001b[0;34m\u001b[0m\u001b[0;34m\u001b[0m\u001b[0m\n",
            "\u001b[0;31mValueError\u001b[0m: Unable to clone model. This generally happens if you used custom Keras layers or objects in your model. Please specify them via `quantize_scope` for your calls to `quantize_model` and `quantize_apply`."
          ]
        }
      ]
    },
    {
      "cell_type": "code",
      "source": [
        "quantize_annotate_layer = tfmot.quantization.keras.quantize_annotate_layer\n",
        "quantize_annotate_model = tfmot.quantization.keras.quantize_annotate_model\n",
        "quantize_scope = tfmot.quantization.keras.quantize_scope\n",
        "\n",
        "class ModifiedDenseQuantizeConfig(DefaultDenseQuantizeConfig):\n",
        "    # Configure weights to quantize with 4-bit instead of 8-bits.\n",
        "    def get_weights_and_quantizers(self, layer):\n",
        "      return [(layer.kernel, LastValueQuantizer(num_bits=4, symmetric=True, narrow_range=False, per_axis=False))]\n",
        "\n",
        "model = quantize_annotate_model(model)\n",
        "\n",
        "model.build([32, 224,244,3])\n",
        "\n",
        "with quantize_scope({}):\n",
        "  # Use `quantize_apply` to actually make the model quantization aware.\n",
        "  quant_aware_model = tfmot.quantization.keras.quantize_apply(model)\n",
        "\n",
        "quant_aware_model.summary()"
      ],
      "metadata": {
        "id": "suBQUCSkvNHo",
        "colab": {
          "base_uri": "https://localhost:8080/",
          "height": 502
        },
        "outputId": "dae18dce-5561-400b-8fae-90e848af3039"
      },
      "execution_count": null,
      "outputs": [
        {
          "output_type": "error",
          "ename": "ValueError",
          "evalue": "ignored",
          "traceback": [
            "\u001b[0;31m---------------------------------------------------------------------------\u001b[0m",
            "\u001b[0;31mValueError\u001b[0m                                Traceback (most recent call last)",
            "\u001b[0;32m/usr/local/lib/python3.7/dist-packages/tensorflow_model_optimization/python/core/quantization/keras/quantize.py\u001b[0m in \u001b[0;36mquantize_apply\u001b[0;34m(model, scheme)\u001b[0m\n\u001b[1;32m    437\u001b[0m   \u001b[0;32mtry\u001b[0m\u001b[0;34m:\u001b[0m\u001b[0;34m\u001b[0m\u001b[0;34m\u001b[0m\u001b[0m\n\u001b[0;32m--> 438\u001b[0;31m     \u001b[0mmodel_copy\u001b[0m \u001b[0;34m=\u001b[0m \u001b[0m_clone_model_with_weights\u001b[0m\u001b[0;34m(\u001b[0m\u001b[0mmodel\u001b[0m\u001b[0;34m)\u001b[0m\u001b[0;34m\u001b[0m\u001b[0;34m\u001b[0m\u001b[0m\n\u001b[0m\u001b[1;32m    439\u001b[0m   \u001b[0;32mexcept\u001b[0m \u001b[0mValueError\u001b[0m\u001b[0;34m:\u001b[0m\u001b[0;34m\u001b[0m\u001b[0;34m\u001b[0m\u001b[0m\n",
            "\u001b[0;32m/usr/local/lib/python3.7/dist-packages/tensorflow_model_optimization/python/core/quantization/keras/quantize.py\u001b[0m in \u001b[0;36m_clone_model_with_weights\u001b[0;34m(model_to_clone)\u001b[0m\n\u001b[1;32m    351\u001b[0m   \u001b[0;32mdef\u001b[0m \u001b[0m_clone_model_with_weights\u001b[0m\u001b[0;34m(\u001b[0m\u001b[0mmodel_to_clone\u001b[0m\u001b[0;34m)\u001b[0m\u001b[0;34m:\u001b[0m\u001b[0;34m\u001b[0m\u001b[0;34m\u001b[0m\u001b[0m\n\u001b[0;32m--> 352\u001b[0;31m     \u001b[0mcloned_model\u001b[0m \u001b[0;34m=\u001b[0m \u001b[0mkeras\u001b[0m\u001b[0;34m.\u001b[0m\u001b[0mmodels\u001b[0m\u001b[0;34m.\u001b[0m\u001b[0mclone_model\u001b[0m\u001b[0;34m(\u001b[0m\u001b[0mmodel_to_clone\u001b[0m\u001b[0;34m)\u001b[0m\u001b[0;34m\u001b[0m\u001b[0;34m\u001b[0m\u001b[0m\n\u001b[0m\u001b[1;32m    353\u001b[0m     \u001b[0mcloned_model\u001b[0m\u001b[0;34m.\u001b[0m\u001b[0mset_weights\u001b[0m\u001b[0;34m(\u001b[0m\u001b[0mmodel_to_clone\u001b[0m\u001b[0;34m.\u001b[0m\u001b[0mget_weights\u001b[0m\u001b[0;34m(\u001b[0m\u001b[0;34m)\u001b[0m\u001b[0;34m)\u001b[0m\u001b[0;34m\u001b[0m\u001b[0;34m\u001b[0m\u001b[0m\n",
            "\u001b[0;32m/usr/local/lib/python3.7/dist-packages/keras/models.py\u001b[0m in \u001b[0;36mclone_model\u001b[0;34m(model, input_tensors, clone_function)\u001b[0m\n\u001b[1;32m    456\u001b[0m       return _clone_functional_model(\n\u001b[0;32m--> 457\u001b[0;31m           model, input_tensors=input_tensors, layer_fn=clone_function)\n\u001b[0m\u001b[1;32m    458\u001b[0m \u001b[0;34m\u001b[0m\u001b[0m\n",
            "\u001b[0;32m/usr/local/lib/python3.7/dist-packages/keras/models.py\u001b[0m in \u001b[0;36m_clone_functional_model\u001b[0;34m(model, input_tensors, layer_fn)\u001b[0m\n\u001b[1;32m    193\u001b[0m   model_configs, created_layers = _clone_layers_and_model_config(\n\u001b[0;32m--> 194\u001b[0;31m       model, new_input_layers, layer_fn)\n\u001b[0m\u001b[1;32m    195\u001b[0m   \u001b[0;31m# Reconstruct model from the config, using the cloned layers.\u001b[0m\u001b[0;34m\u001b[0m\u001b[0;34m\u001b[0m\u001b[0;34m\u001b[0m\u001b[0m\n",
            "\u001b[0;32m/usr/local/lib/python3.7/dist-packages/keras/models.py\u001b[0m in \u001b[0;36m_clone_layers_and_model_config\u001b[0;34m(model, input_layers, layer_fn)\u001b[0m\n\u001b[1;32m    246\u001b[0m   config = functional.get_network_config(\n\u001b[0;32m--> 247\u001b[0;31m       model, serialize_layer_fn=_copy_layer)\n\u001b[0m\u001b[1;32m    248\u001b[0m   \u001b[0;32mreturn\u001b[0m \u001b[0mconfig\u001b[0m\u001b[0;34m,\u001b[0m \u001b[0mcreated_layers\u001b[0m\u001b[0;34m\u001b[0m\u001b[0;34m\u001b[0m\u001b[0m\n",
            "\u001b[0;32m/usr/local/lib/python3.7/dist-packages/keras/engine/functional.py\u001b[0m in \u001b[0;36mget_network_config\u001b[0;34m(network, serialize_layer_fn)\u001b[0m\n\u001b[1;32m   1409\u001b[0m \u001b[0;34m\u001b[0m\u001b[0m\n\u001b[0;32m-> 1410\u001b[0;31m       \u001b[0mlayer_config\u001b[0m \u001b[0;34m=\u001b[0m \u001b[0mserialize_layer_fn\u001b[0m\u001b[0;34m(\u001b[0m\u001b[0mlayer\u001b[0m\u001b[0;34m)\u001b[0m\u001b[0;34m\u001b[0m\u001b[0;34m\u001b[0m\u001b[0m\n\u001b[0m\u001b[1;32m   1411\u001b[0m       \u001b[0mlayer_config\u001b[0m\u001b[0;34m[\u001b[0m\u001b[0;34m'name'\u001b[0m\u001b[0;34m]\u001b[0m \u001b[0;34m=\u001b[0m \u001b[0mlayer\u001b[0m\u001b[0;34m.\u001b[0m\u001b[0mname\u001b[0m\u001b[0;34m\u001b[0m\u001b[0;34m\u001b[0m\u001b[0m\n",
            "\u001b[0;32m/usr/local/lib/python3.7/dist-packages/keras/models.py\u001b[0m in \u001b[0;36m_copy_layer\u001b[0;34m(layer)\u001b[0m\n\u001b[1;32m    242\u001b[0m     \u001b[0;32melse\u001b[0m\u001b[0;34m:\u001b[0m\u001b[0;34m\u001b[0m\u001b[0;34m\u001b[0m\u001b[0m\n\u001b[0;32m--> 243\u001b[0;31m       \u001b[0mcreated_layers\u001b[0m\u001b[0;34m[\u001b[0m\u001b[0mlayer\u001b[0m\u001b[0;34m.\u001b[0m\u001b[0mname\u001b[0m\u001b[0;34m]\u001b[0m \u001b[0;34m=\u001b[0m \u001b[0mlayer_fn\u001b[0m\u001b[0;34m(\u001b[0m\u001b[0mlayer\u001b[0m\u001b[0;34m)\u001b[0m\u001b[0;34m\u001b[0m\u001b[0;34m\u001b[0m\u001b[0m\n\u001b[0m\u001b[1;32m    244\u001b[0m     \u001b[0;32mreturn\u001b[0m \u001b[0;34m{\u001b[0m\u001b[0;34m}\u001b[0m\u001b[0;34m\u001b[0m\u001b[0;34m\u001b[0m\u001b[0m\n",
            "\u001b[0;32m/usr/local/lib/python3.7/dist-packages/keras/models.py\u001b[0m in \u001b[0;36m_clone_layer\u001b[0;34m(layer)\u001b[0m\n\u001b[1;32m     55\u001b[0m \u001b[0;32mdef\u001b[0m \u001b[0m_clone_layer\u001b[0m\u001b[0;34m(\u001b[0m\u001b[0mlayer\u001b[0m\u001b[0;34m)\u001b[0m\u001b[0;34m:\u001b[0m\u001b[0;34m\u001b[0m\u001b[0;34m\u001b[0m\u001b[0m\n\u001b[0;32m---> 56\u001b[0;31m   \u001b[0;32mreturn\u001b[0m \u001b[0mlayer\u001b[0m\u001b[0;34m.\u001b[0m\u001b[0m__class__\u001b[0m\u001b[0;34m.\u001b[0m\u001b[0mfrom_config\u001b[0m\u001b[0;34m(\u001b[0m\u001b[0mlayer\u001b[0m\u001b[0;34m.\u001b[0m\u001b[0mget_config\u001b[0m\u001b[0;34m(\u001b[0m\u001b[0;34m)\u001b[0m\u001b[0;34m)\u001b[0m\u001b[0;34m\u001b[0m\u001b[0;34m\u001b[0m\u001b[0m\n\u001b[0m\u001b[1;32m     57\u001b[0m \u001b[0;34m\u001b[0m\u001b[0m\n",
            "\u001b[0;32m/usr/local/lib/python3.7/dist-packages/tensorflow_model_optimization/python/core/quantization/keras/quantize_annotate.py\u001b[0m in \u001b[0;36mfrom_config\u001b[0;34m(cls, config)\u001b[0m\n\u001b[1;32m    114\u001b[0m \u001b[0;34m\u001b[0m\u001b[0m\n\u001b[0;32m--> 115\u001b[0;31m     \u001b[0mlayer\u001b[0m \u001b[0;34m=\u001b[0m \u001b[0mtf\u001b[0m\u001b[0;34m.\u001b[0m\u001b[0mkeras\u001b[0m\u001b[0;34m.\u001b[0m\u001b[0mlayers\u001b[0m\u001b[0;34m.\u001b[0m\u001b[0mdeserialize\u001b[0m\u001b[0;34m(\u001b[0m\u001b[0mconfig\u001b[0m\u001b[0;34m.\u001b[0m\u001b[0mpop\u001b[0m\u001b[0;34m(\u001b[0m\u001b[0;34m'layer'\u001b[0m\u001b[0;34m)\u001b[0m\u001b[0;34m)\u001b[0m\u001b[0;34m\u001b[0m\u001b[0;34m\u001b[0m\u001b[0m\n\u001b[0m\u001b[1;32m    116\u001b[0m \u001b[0;34m\u001b[0m\u001b[0m\n",
            "\u001b[0;32m/usr/local/lib/python3.7/dist-packages/keras/layers/serialization.py\u001b[0m in \u001b[0;36mdeserialize\u001b[0;34m(config, custom_objects)\u001b[0m\n\u001b[1;32m    210\u001b[0m       \u001b[0mcustom_objects\u001b[0m\u001b[0;34m=\u001b[0m\u001b[0mcustom_objects\u001b[0m\u001b[0;34m,\u001b[0m\u001b[0;34m\u001b[0m\u001b[0;34m\u001b[0m\u001b[0m\n\u001b[0;32m--> 211\u001b[0;31m       printable_module_name='layer')\n\u001b[0m\u001b[1;32m    212\u001b[0m \u001b[0;34m\u001b[0m\u001b[0m\n",
            "\u001b[0;32m/usr/local/lib/python3.7/dist-packages/keras/utils/generic_utils.py\u001b[0m in \u001b[0;36mdeserialize_keras_object\u001b[0;34m(identifier, module_objects, custom_objects, printable_module_name)\u001b[0m\n\u001b[1;32m    664\u001b[0m     (cls, cls_config) = class_and_config_for_serialized_keras_object(\n\u001b[0;32m--> 665\u001b[0;31m         config, module_objects, custom_objects, printable_module_name)\n\u001b[0m\u001b[1;32m    666\u001b[0m \u001b[0;34m\u001b[0m\u001b[0m\n",
            "\u001b[0;32m/usr/local/lib/python3.7/dist-packages/keras/utils/generic_utils.py\u001b[0m in \u001b[0;36mclass_and_config_for_serialized_keras_object\u001b[0;34m(config, module_objects, custom_objects, printable_module_name)\u001b[0m\n\u001b[1;32m    562\u001b[0m     raise ValueError(\n\u001b[0;32m--> 563\u001b[0;31m         \u001b[0;34mf'Unknown {printable_module_name}: {class_name}. Please ensure this '\u001b[0m\u001b[0;34m\u001b[0m\u001b[0;34m\u001b[0m\u001b[0m\n\u001b[0m\u001b[1;32m    564\u001b[0m         \u001b[0;34m'object is passed to the `custom_objects` argument. See '\u001b[0m\u001b[0;34m\u001b[0m\u001b[0;34m\u001b[0m\u001b[0m\n",
            "\u001b[0;31mValueError\u001b[0m: Unknown layer: KerasLayer. Please ensure this object is passed to the `custom_objects` argument. See https://www.tensorflow.org/guide/keras/save_and_serialize#registering_the_custom_object for details.",
            "\nDuring handling of the above exception, another exception occurred:\n",
            "\u001b[0;31mValueError\u001b[0m                                Traceback (most recent call last)",
            "\u001b[0;32m<ipython-input-86-8154a8a2c094>\u001b[0m in \u001b[0;36m<module>\u001b[0;34m()\u001b[0m\n\u001b[1;32m     14\u001b[0m \u001b[0;32mwith\u001b[0m \u001b[0mquantize_scope\u001b[0m\u001b[0;34m(\u001b[0m\u001b[0;34m{\u001b[0m\u001b[0;34m}\u001b[0m\u001b[0;34m)\u001b[0m\u001b[0;34m:\u001b[0m\u001b[0;34m\u001b[0m\u001b[0;34m\u001b[0m\u001b[0m\n\u001b[1;32m     15\u001b[0m   \u001b[0;31m# Use `quantize_apply` to actually make the model quantization aware.\u001b[0m\u001b[0;34m\u001b[0m\u001b[0;34m\u001b[0m\u001b[0;34m\u001b[0m\u001b[0m\n\u001b[0;32m---> 16\u001b[0;31m   \u001b[0mquant_aware_model\u001b[0m \u001b[0;34m=\u001b[0m \u001b[0mtfmot\u001b[0m\u001b[0;34m.\u001b[0m\u001b[0mquantization\u001b[0m\u001b[0;34m.\u001b[0m\u001b[0mkeras\u001b[0m\u001b[0;34m.\u001b[0m\u001b[0mquantize_apply\u001b[0m\u001b[0;34m(\u001b[0m\u001b[0mmodel\u001b[0m\u001b[0;34m)\u001b[0m\u001b[0;34m\u001b[0m\u001b[0;34m\u001b[0m\u001b[0m\n\u001b[0m\u001b[1;32m     17\u001b[0m \u001b[0;34m\u001b[0m\u001b[0m\n\u001b[1;32m     18\u001b[0m \u001b[0mquant_aware_model\u001b[0m\u001b[0;34m.\u001b[0m\u001b[0msummary\u001b[0m\u001b[0;34m(\u001b[0m\u001b[0;34m)\u001b[0m\u001b[0;34m\u001b[0m\u001b[0;34m\u001b[0m\u001b[0m\n",
            "\u001b[0;32m/usr/local/lib/python3.7/dist-packages/tensorflow_model_optimization/python/core/keras/metrics.py\u001b[0m in \u001b[0;36minner\u001b[0;34m(*args, **kwargs)\u001b[0m\n\u001b[1;32m     72\u001b[0m       \u001b[0;32mexcept\u001b[0m \u001b[0mException\u001b[0m \u001b[0;32mas\u001b[0m \u001b[0merror\u001b[0m\u001b[0;34m:\u001b[0m\u001b[0;34m\u001b[0m\u001b[0;34m\u001b[0m\u001b[0m\n\u001b[1;32m     73\u001b[0m         \u001b[0mself\u001b[0m\u001b[0;34m.\u001b[0m\u001b[0mbool_gauge\u001b[0m\u001b[0;34m.\u001b[0m\u001b[0mget_cell\u001b[0m\u001b[0;34m(\u001b[0m\u001b[0mMonitorBoolGauge\u001b[0m\u001b[0;34m.\u001b[0m\u001b[0m_FAILURE_LABEL\u001b[0m\u001b[0;34m)\u001b[0m\u001b[0;34m.\u001b[0m\u001b[0mset\u001b[0m\u001b[0;34m(\u001b[0m\u001b[0;32mTrue\u001b[0m\u001b[0;34m)\u001b[0m\u001b[0;34m\u001b[0m\u001b[0;34m\u001b[0m\u001b[0m\n\u001b[0;32m---> 74\u001b[0;31m         \u001b[0;32mraise\u001b[0m \u001b[0merror\u001b[0m\u001b[0;34m\u001b[0m\u001b[0;34m\u001b[0m\u001b[0m\n\u001b[0m\u001b[1;32m     75\u001b[0m \u001b[0;34m\u001b[0m\u001b[0m\n\u001b[1;32m     76\u001b[0m     \u001b[0;32mif\u001b[0m \u001b[0mself\u001b[0m\u001b[0;34m.\u001b[0m\u001b[0mbool_gauge\u001b[0m\u001b[0;34m:\u001b[0m\u001b[0;34m\u001b[0m\u001b[0;34m\u001b[0m\u001b[0m\n",
            "\u001b[0;32m/usr/local/lib/python3.7/dist-packages/tensorflow_model_optimization/python/core/keras/metrics.py\u001b[0m in \u001b[0;36minner\u001b[0;34m(*args, **kwargs)\u001b[0m\n\u001b[1;32m     67\u001b[0m     \u001b[0;32mdef\u001b[0m \u001b[0minner\u001b[0m\u001b[0;34m(\u001b[0m\u001b[0;34m*\u001b[0m\u001b[0margs\u001b[0m\u001b[0;34m,\u001b[0m \u001b[0;34m**\u001b[0m\u001b[0mkwargs\u001b[0m\u001b[0;34m)\u001b[0m\u001b[0;34m:\u001b[0m\u001b[0;34m\u001b[0m\u001b[0;34m\u001b[0m\u001b[0m\n\u001b[1;32m     68\u001b[0m       \u001b[0;32mtry\u001b[0m\u001b[0;34m:\u001b[0m\u001b[0;34m\u001b[0m\u001b[0;34m\u001b[0m\u001b[0m\n\u001b[0;32m---> 69\u001b[0;31m         \u001b[0mresults\u001b[0m \u001b[0;34m=\u001b[0m \u001b[0mfunc\u001b[0m\u001b[0;34m(\u001b[0m\u001b[0;34m*\u001b[0m\u001b[0margs\u001b[0m\u001b[0;34m,\u001b[0m \u001b[0;34m**\u001b[0m\u001b[0mkwargs\u001b[0m\u001b[0;34m)\u001b[0m\u001b[0;34m\u001b[0m\u001b[0;34m\u001b[0m\u001b[0m\n\u001b[0m\u001b[1;32m     70\u001b[0m         \u001b[0mself\u001b[0m\u001b[0;34m.\u001b[0m\u001b[0mbool_gauge\u001b[0m\u001b[0;34m.\u001b[0m\u001b[0mget_cell\u001b[0m\u001b[0;34m(\u001b[0m\u001b[0mMonitorBoolGauge\u001b[0m\u001b[0;34m.\u001b[0m\u001b[0m_SUCCESS_LABEL\u001b[0m\u001b[0;34m)\u001b[0m\u001b[0;34m.\u001b[0m\u001b[0mset\u001b[0m\u001b[0;34m(\u001b[0m\u001b[0;32mTrue\u001b[0m\u001b[0;34m)\u001b[0m\u001b[0;34m\u001b[0m\u001b[0;34m\u001b[0m\u001b[0m\n\u001b[1;32m     71\u001b[0m         \u001b[0;32mreturn\u001b[0m \u001b[0mresults\u001b[0m\u001b[0;34m\u001b[0m\u001b[0;34m\u001b[0m\u001b[0m\n",
            "\u001b[0;32m/usr/local/lib/python3.7/dist-packages/tensorflow_model_optimization/python/core/quantization/keras/quantize.py\u001b[0m in \u001b[0;36mquantize_apply\u001b[0;34m(model, scheme)\u001b[0m\n\u001b[1;32m    439\u001b[0m   \u001b[0;32mexcept\u001b[0m \u001b[0mValueError\u001b[0m\u001b[0;34m:\u001b[0m\u001b[0;34m\u001b[0m\u001b[0;34m\u001b[0m\u001b[0m\n\u001b[1;32m    440\u001b[0m     raise ValueError(\n\u001b[0;32m--> 441\u001b[0;31m         \u001b[0;34m'Unable to clone model. This generally happens if you used custom '\u001b[0m\u001b[0;34m\u001b[0m\u001b[0;34m\u001b[0m\u001b[0m\n\u001b[0m\u001b[1;32m    442\u001b[0m         \u001b[0;34m'Keras layers or objects in your model. Please specify them via '\u001b[0m\u001b[0;34m\u001b[0m\u001b[0;34m\u001b[0m\u001b[0m\n\u001b[1;32m    443\u001b[0m         \u001b[0;34m'`quantize_scope` for your calls to `quantize_model` and '\u001b[0m\u001b[0;34m\u001b[0m\u001b[0;34m\u001b[0m\u001b[0m\n",
            "\u001b[0;31mValueError\u001b[0m: Unable to clone model. This generally happens if you used custom Keras layers or objects in your model. Please specify them via `quantize_scope` for your calls to `quantize_model` and `quantize_apply`."
          ]
        }
      ]
    },
    {
      "cell_type": "markdown",
      "source": [
        "## **Pruning**"
      ],
      "metadata": {
        "id": "wj6h1JuPxaIO"
      }
    },
    {
      "cell_type": "code",
      "source": [
        "import tensorflow_model_optimization as tfmot\n",
        "initial_sparsity = 0.0\n",
        "final_sparsity = 0.75\n",
        "begin_step = 1000\n",
        "end_step = 5000\n",
        "pruning_params = {\n",
        "        'pruning_schedule': tfmot.sparsity.keras.PolynomialDecay(\n",
        "            initial_sparsity=initial_sparsity,\n",
        "            final_sparsity=final_sparsity,\n",
        "            begin_step=begin_step,\n",
        "            end_step=end_step)\n",
        "    }\n",
        "model = tfmot.sparsity.keras.prune_low_magnitude(model, pruning_params)\n",
        "pruning_callback = tfmot.sparsity.keras.UpdatePruningStep()"
      ],
      "metadata": {
        "id": "Zxu0dwkwxZUA",
        "colab": {
          "base_uri": "https://localhost:8080/",
          "height": 415
        },
        "outputId": "69f2c773-521c-4f1f-e336-47e08a9fa50d"
      },
      "execution_count": null,
      "outputs": [
        {
          "output_type": "error",
          "ename": "ValueError",
          "evalue": "ignored",
          "traceback": [
            "\u001b[0;31m---------------------------------------------------------------------------\u001b[0m",
            "\u001b[0;31mValueError\u001b[0m                                Traceback (most recent call last)",
            "\u001b[0;32m<ipython-input-63-94660992956b>\u001b[0m in \u001b[0;36m<module>\u001b[0;34m()\u001b[0m\n\u001b[1;32m     11\u001b[0m             end_step=end_step)\n\u001b[1;32m     12\u001b[0m     }\n\u001b[0;32m---> 13\u001b[0;31m \u001b[0mmodel\u001b[0m \u001b[0;34m=\u001b[0m \u001b[0mtfmot\u001b[0m\u001b[0;34m.\u001b[0m\u001b[0msparsity\u001b[0m\u001b[0;34m.\u001b[0m\u001b[0mkeras\u001b[0m\u001b[0;34m.\u001b[0m\u001b[0mprune_low_magnitude\u001b[0m\u001b[0;34m(\u001b[0m\u001b[0mmodel\u001b[0m\u001b[0;34m,\u001b[0m \u001b[0mpruning_params\u001b[0m\u001b[0;34m)\u001b[0m\u001b[0;34m\u001b[0m\u001b[0;34m\u001b[0m\u001b[0m\n\u001b[0m\u001b[1;32m     14\u001b[0m \u001b[0mpruning_callback\u001b[0m \u001b[0;34m=\u001b[0m \u001b[0mtfmot\u001b[0m\u001b[0;34m.\u001b[0m\u001b[0msparsity\u001b[0m\u001b[0;34m.\u001b[0m\u001b[0mkeras\u001b[0m\u001b[0;34m.\u001b[0m\u001b[0mUpdatePruningStep\u001b[0m\u001b[0;34m(\u001b[0m\u001b[0;34m)\u001b[0m\u001b[0;34m\u001b[0m\u001b[0;34m\u001b[0m\u001b[0m\n",
            "\u001b[0;32m/usr/local/lib/python3.7/dist-packages/tensorflow_model_optimization/python/core/keras/metrics.py\u001b[0m in \u001b[0;36minner\u001b[0;34m(*args, **kwargs)\u001b[0m\n\u001b[1;32m     72\u001b[0m       \u001b[0;32mexcept\u001b[0m \u001b[0mException\u001b[0m \u001b[0;32mas\u001b[0m \u001b[0merror\u001b[0m\u001b[0;34m:\u001b[0m\u001b[0;34m\u001b[0m\u001b[0;34m\u001b[0m\u001b[0m\n\u001b[1;32m     73\u001b[0m         \u001b[0mself\u001b[0m\u001b[0;34m.\u001b[0m\u001b[0mbool_gauge\u001b[0m\u001b[0;34m.\u001b[0m\u001b[0mget_cell\u001b[0m\u001b[0;34m(\u001b[0m\u001b[0mMonitorBoolGauge\u001b[0m\u001b[0;34m.\u001b[0m\u001b[0m_FAILURE_LABEL\u001b[0m\u001b[0;34m)\u001b[0m\u001b[0;34m.\u001b[0m\u001b[0mset\u001b[0m\u001b[0;34m(\u001b[0m\u001b[0;32mTrue\u001b[0m\u001b[0;34m)\u001b[0m\u001b[0;34m\u001b[0m\u001b[0;34m\u001b[0m\u001b[0m\n\u001b[0;32m---> 74\u001b[0;31m         \u001b[0;32mraise\u001b[0m \u001b[0merror\u001b[0m\u001b[0;34m\u001b[0m\u001b[0;34m\u001b[0m\u001b[0m\n\u001b[0m\u001b[1;32m     75\u001b[0m \u001b[0;34m\u001b[0m\u001b[0m\n\u001b[1;32m     76\u001b[0m     \u001b[0;32mif\u001b[0m \u001b[0mself\u001b[0m\u001b[0;34m.\u001b[0m\u001b[0mbool_gauge\u001b[0m\u001b[0;34m:\u001b[0m\u001b[0;34m\u001b[0m\u001b[0;34m\u001b[0m\u001b[0m\n",
            "\u001b[0;32m/usr/local/lib/python3.7/dist-packages/tensorflow_model_optimization/python/core/keras/metrics.py\u001b[0m in \u001b[0;36minner\u001b[0;34m(*args, **kwargs)\u001b[0m\n\u001b[1;32m     67\u001b[0m     \u001b[0;32mdef\u001b[0m \u001b[0minner\u001b[0m\u001b[0;34m(\u001b[0m\u001b[0;34m*\u001b[0m\u001b[0margs\u001b[0m\u001b[0;34m,\u001b[0m \u001b[0;34m**\u001b[0m\u001b[0mkwargs\u001b[0m\u001b[0;34m)\u001b[0m\u001b[0;34m:\u001b[0m\u001b[0;34m\u001b[0m\u001b[0;34m\u001b[0m\u001b[0m\n\u001b[1;32m     68\u001b[0m       \u001b[0;32mtry\u001b[0m\u001b[0;34m:\u001b[0m\u001b[0;34m\u001b[0m\u001b[0;34m\u001b[0m\u001b[0m\n\u001b[0;32m---> 69\u001b[0;31m         \u001b[0mresults\u001b[0m \u001b[0;34m=\u001b[0m \u001b[0mfunc\u001b[0m\u001b[0;34m(\u001b[0m\u001b[0;34m*\u001b[0m\u001b[0margs\u001b[0m\u001b[0;34m,\u001b[0m \u001b[0;34m**\u001b[0m\u001b[0mkwargs\u001b[0m\u001b[0;34m)\u001b[0m\u001b[0;34m\u001b[0m\u001b[0;34m\u001b[0m\u001b[0m\n\u001b[0m\u001b[1;32m     70\u001b[0m         \u001b[0mself\u001b[0m\u001b[0;34m.\u001b[0m\u001b[0mbool_gauge\u001b[0m\u001b[0;34m.\u001b[0m\u001b[0mget_cell\u001b[0m\u001b[0;34m(\u001b[0m\u001b[0mMonitorBoolGauge\u001b[0m\u001b[0;34m.\u001b[0m\u001b[0m_SUCCESS_LABEL\u001b[0m\u001b[0;34m)\u001b[0m\u001b[0;34m.\u001b[0m\u001b[0mset\u001b[0m\u001b[0;34m(\u001b[0m\u001b[0;32mTrue\u001b[0m\u001b[0;34m)\u001b[0m\u001b[0;34m\u001b[0m\u001b[0;34m\u001b[0m\u001b[0m\n\u001b[1;32m     71\u001b[0m         \u001b[0;32mreturn\u001b[0m \u001b[0mresults\u001b[0m\u001b[0;34m\u001b[0m\u001b[0;34m\u001b[0m\u001b[0m\n",
            "\u001b[0;32m/usr/local/lib/python3.7/dist-packages/tensorflow_model_optimization/python/core/sparsity/keras/prune.py\u001b[0m in \u001b[0;36mprune_low_magnitude\u001b[0;34m(to_prune, pruning_schedule, block_size, block_pooling_type, pruning_policy, sparsity_m_by_n, **kwargs)\u001b[0m\n\u001b[1;32m    208\u001b[0m     \u001b[0;32mif\u001b[0m \u001b[0mpruning_policy\u001b[0m\u001b[0;34m:\u001b[0m\u001b[0;34m\u001b[0m\u001b[0;34m\u001b[0m\u001b[0m\n\u001b[1;32m    209\u001b[0m       \u001b[0mpruning_policy\u001b[0m\u001b[0;34m.\u001b[0m\u001b[0mensure_model_supports_pruning\u001b[0m\u001b[0;34m(\u001b[0m\u001b[0mto_prune\u001b[0m\u001b[0;34m)\u001b[0m\u001b[0;34m\u001b[0m\u001b[0;34m\u001b[0m\u001b[0m\n\u001b[0;32m--> 210\u001b[0;31m     \u001b[0;32mreturn\u001b[0m \u001b[0m_add_pruning_wrapper\u001b[0m\u001b[0;34m(\u001b[0m\u001b[0mto_prune\u001b[0m\u001b[0;34m)\u001b[0m\u001b[0;34m\u001b[0m\u001b[0;34m\u001b[0m\u001b[0m\n\u001b[0m\u001b[1;32m    211\u001b[0m   \u001b[0;32melif\u001b[0m \u001b[0mis_keras_layer\u001b[0m\u001b[0;34m:\u001b[0m\u001b[0;34m\u001b[0m\u001b[0;34m\u001b[0m\u001b[0m\n\u001b[1;32m    212\u001b[0m     \u001b[0mparams\u001b[0m\u001b[0;34m.\u001b[0m\u001b[0mupdate\u001b[0m\u001b[0;34m(\u001b[0m\u001b[0mkwargs\u001b[0m\u001b[0;34m)\u001b[0m\u001b[0;34m\u001b[0m\u001b[0;34m\u001b[0m\u001b[0m\n",
            "\u001b[0;32m/usr/local/lib/python3.7/dist-packages/tensorflow_model_optimization/python/core/sparsity/keras/prune.py\u001b[0m in \u001b[0;36m_add_pruning_wrapper\u001b[0;34m(layer)\u001b[0m\n\u001b[1;32m    180\u001b[0m \u001b[0;34m\u001b[0m\u001b[0m\n\u001b[1;32m    181\u001b[0m       return keras.models.clone_model(\n\u001b[0;32m--> 182\u001b[0;31m           layer, input_tensors=None, clone_function=_add_pruning_wrapper)\n\u001b[0m\u001b[1;32m    183\u001b[0m     \u001b[0;32mif\u001b[0m \u001b[0misinstance\u001b[0m\u001b[0;34m(\u001b[0m\u001b[0mlayer\u001b[0m\u001b[0;34m,\u001b[0m \u001b[0mpruning_wrapper\u001b[0m\u001b[0;34m.\u001b[0m\u001b[0mPruneLowMagnitude\u001b[0m\u001b[0;34m)\u001b[0m\u001b[0;34m:\u001b[0m\u001b[0;34m\u001b[0m\u001b[0;34m\u001b[0m\u001b[0m\n\u001b[1;32m    184\u001b[0m       \u001b[0;32mreturn\u001b[0m \u001b[0mlayer\u001b[0m\u001b[0;34m\u001b[0m\u001b[0;34m\u001b[0m\u001b[0m\n",
            "\u001b[0;32m/usr/local/lib/python3.7/dist-packages/keras/models.py\u001b[0m in \u001b[0;36mclone_model\u001b[0;34m(model, input_tensors, clone_function)\u001b[0m\n\u001b[1;32m    452\u001b[0m     \u001b[0;32mif\u001b[0m \u001b[0misinstance\u001b[0m\u001b[0;34m(\u001b[0m\u001b[0mmodel\u001b[0m\u001b[0;34m,\u001b[0m \u001b[0mSequential\u001b[0m\u001b[0;34m)\u001b[0m\u001b[0;34m:\u001b[0m\u001b[0;34m\u001b[0m\u001b[0;34m\u001b[0m\u001b[0m\n\u001b[1;32m    453\u001b[0m       return _clone_sequential_model(\n\u001b[0;32m--> 454\u001b[0;31m           model, input_tensors=input_tensors, layer_fn=clone_function)\n\u001b[0m\u001b[1;32m    455\u001b[0m     \u001b[0;32melse\u001b[0m\u001b[0;34m:\u001b[0m\u001b[0;34m\u001b[0m\u001b[0;34m\u001b[0m\u001b[0m\n\u001b[1;32m    456\u001b[0m       return _clone_functional_model(\n",
            "\u001b[0;32m/usr/local/lib/python3.7/dist-packages/keras/models.py\u001b[0m in \u001b[0;36m_clone_sequential_model\u001b[0;34m(model, input_tensors, layer_fn)\u001b[0m\n\u001b[1;32m    328\u001b[0m     cloned_layer = (\n\u001b[1;32m    329\u001b[0m         \u001b[0m_clone_layer\u001b[0m\u001b[0;34m(\u001b[0m\u001b[0mlayer\u001b[0m\u001b[0;34m)\u001b[0m\u001b[0;34m\u001b[0m\u001b[0;34m\u001b[0m\u001b[0m\n\u001b[0;32m--> 330\u001b[0;31m         if isinstance(layer, InputLayer) else layer_fn(layer))\n\u001b[0m\u001b[1;32m    331\u001b[0m     \u001b[0mlayers\u001b[0m\u001b[0;34m.\u001b[0m\u001b[0mappend\u001b[0m\u001b[0;34m(\u001b[0m\u001b[0mcloned_layer\u001b[0m\u001b[0;34m)\u001b[0m\u001b[0;34m\u001b[0m\u001b[0;34m\u001b[0m\u001b[0m\n\u001b[1;32m    332\u001b[0m     \u001b[0mlayer_map\u001b[0m\u001b[0;34m[\u001b[0m\u001b[0mlayer\u001b[0m\u001b[0;34m]\u001b[0m \u001b[0;34m=\u001b[0m \u001b[0mcloned_layer\u001b[0m\u001b[0;34m\u001b[0m\u001b[0;34m\u001b[0m\u001b[0m\n",
            "\u001b[0;32m/usr/local/lib/python3.7/dist-packages/tensorflow_model_optimization/python/core/sparsity/keras/prune.py\u001b[0m in \u001b[0;36m_add_pruning_wrapper\u001b[0;34m(layer)\u001b[0m\n\u001b[1;32m    186\u001b[0m       \u001b[0;32mreturn\u001b[0m \u001b[0mlayer\u001b[0m\u001b[0;34m\u001b[0m\u001b[0;34m\u001b[0m\u001b[0m\n\u001b[1;32m    187\u001b[0m     \u001b[0;32melse\u001b[0m\u001b[0;34m:\u001b[0m\u001b[0;34m\u001b[0m\u001b[0;34m\u001b[0m\u001b[0m\n\u001b[0;32m--> 188\u001b[0;31m       \u001b[0;32mreturn\u001b[0m \u001b[0mpruning_wrapper\u001b[0m\u001b[0;34m.\u001b[0m\u001b[0mPruneLowMagnitude\u001b[0m\u001b[0;34m(\u001b[0m\u001b[0mlayer\u001b[0m\u001b[0;34m,\u001b[0m \u001b[0;34m**\u001b[0m\u001b[0mparams\u001b[0m\u001b[0;34m)\u001b[0m\u001b[0;34m\u001b[0m\u001b[0;34m\u001b[0m\u001b[0m\n\u001b[0m\u001b[1;32m    189\u001b[0m \u001b[0;34m\u001b[0m\u001b[0m\n\u001b[1;32m    190\u001b[0m   params = {\n",
            "\u001b[0;32m/usr/local/lib/python3.7/dist-packages/tensorflow_model_optimization/python/core/sparsity/keras/pruning_wrapper.py\u001b[0m in \u001b[0;36m__init__\u001b[0;34m(self, layer, pruning_schedule, block_size, block_pooling_type, sparsity_m_by_n, **kwargs)\u001b[0m\n\u001b[1;32m    170\u001b[0m           \u001b[0;34m'should be a `PrunableLayer` instance, or should has a customer '\u001b[0m\u001b[0;34m\u001b[0m\u001b[0;34m\u001b[0m\u001b[0m\n\u001b[1;32m    171\u001b[0m           \u001b[0;34m'defined `get_prunable_weights` method. You passed: '\u001b[0m\u001b[0;34m\u001b[0m\u001b[0;34m\u001b[0m\u001b[0m\n\u001b[0;32m--> 172\u001b[0;31m           '{input}'.format(input=layer.__class__))\n\u001b[0m\u001b[1;32m    173\u001b[0m \u001b[0;34m\u001b[0m\u001b[0m\n\u001b[1;32m    174\u001b[0m     \u001b[0mself\u001b[0m\u001b[0;34m.\u001b[0m\u001b[0m_track_trackable\u001b[0m\u001b[0;34m(\u001b[0m\u001b[0mlayer\u001b[0m\u001b[0;34m,\u001b[0m \u001b[0mname\u001b[0m\u001b[0;34m=\u001b[0m\u001b[0;34m'layer'\u001b[0m\u001b[0;34m)\u001b[0m\u001b[0;34m\u001b[0m\u001b[0;34m\u001b[0m\u001b[0m\n",
            "\u001b[0;31mValueError\u001b[0m: Please initialize `Prune` with a supported layer. Layers should either be supported by the PruneRegistry (built-in keras layers) or should be a `PrunableLayer` instance, or should has a customer defined `get_prunable_weights` method. You passed: <class 'tensorflow_hub.keras_layer.KerasLayer'>"
          ]
        }
      ]
    },
    {
      "cell_type": "markdown",
      "source": [
        "**Train and evaluate the model**"
      ],
      "metadata": {
        "id": "ZXyETP39wDGk"
      }
    },
    {
      "cell_type": "code",
      "source": [
        "from sklearn.model_selection import KFold\n",
        "#compiling \n",
        "\n",
        "q_aware_model.compile(optimizer=tf.keras.optimizers.Adam(learning_rate=0.01),\n",
        "              loss='categorical_crossentropy',\n",
        "              metrics=METRICS\n",
        "              )\n",
        "\n",
        "# Define the K-fold Cross Validator\n",
        "fold=1\n",
        "kfold = KFold(n_splits = 5, shuffle=True)\n",
        "\n",
        "for train_idx, test_idx in kfold.split(x_train, y_train):\n",
        "\n",
        "    print(\"Fold:\", fold)\n",
        "    print(\"train size:\",len(train_idx))\n",
        "    print(\"test size:\",len(test_idx))\n",
        "    print(\"\\n\")\n",
        "\n",
        "    tr_dataset = tfdata_generator([x_train[i] for i in train_idx],\n",
        "                                  [y_train[i] for i in train_idx] ,\n",
        "                                  is_training=True, batch_size=32\n",
        "                                  )\n",
        "    cv_dataset = tfdata_generator([x_train[i] for i in test_idx],\n",
        "                                  [y_train[i] for i in test_idx] ,\n",
        "                                  is_training=True, batch_size=32\n",
        "                                  )\n",
        "\n",
        "    steps_per_epoch_tr=np.ceil(len(train_idx)/32)\n",
        "    steps_per_epoch_cv=np.ceil(len(test_idx)/32)\n",
        "\n",
        "    ##fitting generator\n",
        "    q_aware_model.fit(tr_dataset, \n",
        "          steps_per_epoch=steps_per_epoch_tr, \n",
        "          epochs = 5, validation_data = cv_dataset,\n",
        "          validation_steps=steps_per_epoch_cv, \n",
        "          callbacks=callbacks.append(pruning_callback),\n",
        "          verbose=1)\n",
        "    \n",
        "    fold+=1\n",
        "    print(\"***************************************************\\n\\n\\n\")"
      ],
      "metadata": {
        "id": "L8xPXmXFvNEI",
        "colab": {
          "base_uri": "https://localhost:8080/",
          "height": 235
        },
        "outputId": "fbba5985-9c78-4dfe-a1b2-e6b467142a71"
      },
      "execution_count": null,
      "outputs": [
        {
          "output_type": "error",
          "ename": "NameError",
          "evalue": "ignored",
          "traceback": [
            "\u001b[0;31m---------------------------------------------------------------------------\u001b[0m",
            "\u001b[0;31mNameError\u001b[0m                                 Traceback (most recent call last)",
            "\u001b[0;32m<ipython-input-101-f3021fd4c100>\u001b[0m in \u001b[0;36m<module>\u001b[0;34m()\u001b[0m\n\u001b[1;32m      2\u001b[0m \u001b[0;31m#compiling\u001b[0m\u001b[0;34m\u001b[0m\u001b[0;34m\u001b[0m\u001b[0;34m\u001b[0m\u001b[0m\n\u001b[1;32m      3\u001b[0m \u001b[0;34m\u001b[0m\u001b[0m\n\u001b[0;32m----> 4\u001b[0;31m q_aware_model.compile(optimizer=tf.keras.optimizers.Adam(learning_rate=0.01),\n\u001b[0m\u001b[1;32m      5\u001b[0m               \u001b[0mloss\u001b[0m\u001b[0;34m=\u001b[0m\u001b[0;34m'categorical_crossentropy'\u001b[0m\u001b[0;34m,\u001b[0m\u001b[0;34m\u001b[0m\u001b[0;34m\u001b[0m\u001b[0m\n\u001b[1;32m      6\u001b[0m               \u001b[0mmetrics\u001b[0m\u001b[0;34m=\u001b[0m\u001b[0mMETRICS\u001b[0m\u001b[0;34m\u001b[0m\u001b[0;34m\u001b[0m\u001b[0m\n",
            "\u001b[0;31mNameError\u001b[0m: name 'q_aware_model' is not defined"
          ]
        }
      ]
    },
    {
      "cell_type": "markdown",
      "source": [
        "**Now you have an actually quantized model with int8 weights and uint8 activations.**"
      ],
      "metadata": {
        "id": "H3XsWQkewZHT"
      }
    },
    {
      "cell_type": "code",
      "source": [
        "converter = tf.lite.TFLiteConverter.from_keras_model(q_aware_model)\n",
        "converter.optimizations = [tf.lite.Optimize.DEFAULT]\n",
        "\n",
        "quantized_tflite_model = converter.convert()"
      ],
      "metadata": {
        "id": "990nE8H9vNAZ"
      },
      "execution_count": null,
      "outputs": []
    },
    {
      "cell_type": "code",
      "source": [
        ""
      ],
      "metadata": {
        "id": "stMRHGi_vM8o"
      },
      "execution_count": null,
      "outputs": []
    },
    {
      "cell_type": "code",
      "source": [
        ""
      ],
      "metadata": {
        "id": "mZx4O0sEvMwI"
      },
      "execution_count": null,
      "outputs": []
    },
    {
      "cell_type": "code",
      "source": [
        ""
      ],
      "metadata": {
        "id": "wSerbRUAvMsa"
      },
      "execution_count": null,
      "outputs": []
    },
    {
      "cell_type": "code",
      "source": [
        ""
      ],
      "metadata": {
        "id": "Age-i5u-vMo4"
      },
      "execution_count": null,
      "outputs": []
    },
    {
      "cell_type": "code",
      "source": [
        ""
      ],
      "metadata": {
        "id": "QiPDbtjovMlQ"
      },
      "execution_count": null,
      "outputs": []
    },
    {
      "cell_type": "code",
      "source": [
        ""
      ],
      "metadata": {
        "id": "KYsrsiXWvMho"
      },
      "execution_count": null,
      "outputs": []
    },
    {
      "cell_type": "code",
      "source": [
        ""
      ],
      "metadata": {
        "id": "06mR6oHBvLQh"
      },
      "execution_count": null,
      "outputs": []
    },
    {
      "cell_type": "markdown",
      "source": [
        "# **K fold crossval**"
      ],
      "metadata": {
        "id": "Oj6hzuUCFPsS"
      }
    },
    {
      "cell_type": "code",
      "source": [
        "from sklearn.model_selection import KFold\n",
        "#compiling \n",
        "\n",
        "model.compile(optimizer=tf.keras.optimizers.Adam(learning_rate=0.01),\n",
        "              loss='categorical_crossentropy',\n",
        "              metrics=METRICS\n",
        "              )\n",
        "\n",
        "# Define the K-fold Cross Validator\n",
        "fold=1\n",
        "kfold = KFold(n_splits = 5, shuffle=True)\n",
        "\n",
        "for train_idx, test_idx in kfold.split(x_train, y_train):\n",
        "\n",
        "    print(\"Fold:\", fold)\n",
        "    print(\"train size:\",len(train_idx))\n",
        "    print(\"test size:\",len(test_idx))\n",
        "    print(\"\\n\")\n",
        "\n",
        "    tr_dataset = tfdata_generator([x_train[i] for i in train_idx],\n",
        "                                  [y_train[i] for i in train_idx] ,\n",
        "                                  is_training=True, batch_size=32\n",
        "                                  )\n",
        "    cv_dataset = tfdata_generator([x_train[i] for i in test_idx],\n",
        "                                  [y_train[i] for i in test_idx] ,\n",
        "                                  is_training=True, batch_size=32\n",
        "                                  )\n",
        "\n",
        "    steps_per_epoch_tr=np.ceil(len(train_idx)/32)\n",
        "    steps_per_epoch_cv=np.ceil(len(test_idx)/32)\n",
        "\n",
        "    ##fitting generator\n",
        "    model.fit(tr_dataset, \n",
        "          steps_per_epoch=steps_per_epoch_tr, \n",
        "          epochs = 5, validation_data = cv_dataset,\n",
        "          validation_steps=steps_per_epoch_cv, \n",
        "          callbacks=callbacks,\n",
        "          verbose=1)\n",
        "    \n",
        "    fold+=1\n",
        "    print(\"***************************************************\\n\\n\\n\")"
      ],
      "metadata": {
        "id": "KB2CV6DSwNhh",
        "colab": {
          "base_uri": "https://localhost:8080/"
        },
        "outputId": "3509fd94-9049-4f37-b15f-a69170d4da1e"
      },
      "execution_count": null,
      "outputs": [
        {
          "output_type": "stream",
          "name": "stdout",
          "text": [
            "Fold: 1\n",
            "train size: 1227\n",
            "test size: 307\n",
            "\n",
            "\n",
            "Epoch 1/5\n",
            "39/39 [==============================] - ETA: 0s - loss: 3.4017 - accuracy: 0.8795 - auc: 0.8984\n",
            "Epoch 1: val_loss did not improve from 0.11101\n",
            "39/39 [==============================] - 143s 3s/step - loss: 3.4017 - accuracy: 0.8795 - auc: 0.8984 - val_loss: 1.3924 - val_accuracy: 0.9844 - val_auc: 0.9905 - lr: 0.0100\n",
            "Epoch 2/5\n",
            "39/39 [==============================] - ETA: 0s - loss: 1.1255 - accuracy: 0.9880 - auc: 0.9927\n",
            "Epoch 2: val_loss did not improve from 0.11101\n",
            "39/39 [==============================] - 113s 3s/step - loss: 1.1255 - accuracy: 0.9880 - auc: 0.9927 - val_loss: 0.8500 - val_accuracy: 0.9875 - val_auc: 0.9967 - lr: 0.0100\n",
            "Epoch 3/5\n",
            "39/39 [==============================] - ETA: 0s - loss: 0.8168 - accuracy: 0.9824 - auc: 0.9885\n",
            "Epoch 3: val_loss did not improve from 0.11101\n",
            "\n",
            "Epoch 3: ReduceLROnPlateau reducing learning rate to 0.008999999798834325.\n",
            "39/39 [==============================] - 106s 3s/step - loss: 0.8168 - accuracy: 0.9824 - auc: 0.9885 - val_loss: 0.7125 - val_accuracy: 0.9875 - val_auc: 0.9874 - lr: 0.0100\n",
            "Epoch 4/5\n",
            "39/39 [==============================] - ETA: 0s - loss: 0.5447 - accuracy: 0.9904 - auc: 0.9958\n",
            "Epoch 4: val_loss did not improve from 0.11101\n",
            "39/39 [==============================] - 99s 3s/step - loss: 0.5447 - accuracy: 0.9904 - auc: 0.9958 - val_loss: 0.4617 - val_accuracy: 0.9906 - val_auc: 0.9966 - lr: 0.0085\n",
            "Epoch 5/5\n",
            "39/39 [==============================] - ETA: 0s - loss: 0.3878 - accuracy: 0.9912 - auc: 0.9997\n",
            "Epoch 5: val_loss did not improve from 0.11101\n",
            "\n",
            "Epoch 5: ReduceLROnPlateau reducing learning rate to 0.007694999501109123.\n",
            "39/39 [==============================] - 94s 2s/step - loss: 0.3878 - accuracy: 0.9912 - auc: 0.9997 - val_loss: 0.3957 - val_accuracy: 0.9875 - val_auc: 0.9964 - lr: 0.0085\n",
            "***************************************************\n",
            "\n",
            "\n",
            "\n",
            "Fold: 2\n",
            "train size: 1227\n",
            "test size: 307\n",
            "\n",
            "\n",
            "Epoch 1/5\n",
            "39/39 [==============================] - ETA: 0s - loss: 0.2997 - accuracy: 0.9928 - auc: 0.9990\n",
            "Epoch 1: val_loss did not improve from 0.11101\n",
            "39/39 [==============================] - 117s 3s/step - loss: 0.2997 - accuracy: 0.9928 - auc: 0.9990 - val_loss: 0.2433 - val_accuracy: 0.9937 - val_auc: 0.9968 - lr: 0.0077\n",
            "Epoch 2/5\n",
            "39/39 [==============================] - ETA: 0s - loss: 0.3016 - accuracy: 0.9824 - auc: 0.9944\n",
            "Epoch 2: val_loss did not improve from 0.11101\n",
            "\n",
            "Epoch 2: ReduceLROnPlateau reducing learning rate to 0.0069254997186362745.\n",
            "39/39 [==============================] - 113s 3s/step - loss: 0.3016 - accuracy: 0.9824 - auc: 0.9944 - val_loss: 0.3368 - val_accuracy: 0.9937 - val_auc: 0.9999 - lr: 0.0077\n",
            "Epoch 3/5\n",
            "39/39 [==============================] - ETA: 0s - loss: 0.4956 - accuracy: 0.9808 - auc: 0.9906\n",
            "Epoch 3: val_loss did not improve from 0.11101\n",
            "39/39 [==============================] - 108s 3s/step - loss: 0.4956 - accuracy: 0.9808 - auc: 0.9906 - val_loss: 0.3720 - val_accuracy: 0.9969 - val_auc: 0.9968 - lr: 0.0069\n",
            "Epoch 3: early stopping\n",
            "***************************************************\n",
            "\n",
            "\n",
            "\n",
            "Fold: 3\n",
            "train size: 1227\n",
            "test size: 307\n",
            "\n",
            "\n",
            "Epoch 1/5\n",
            "39/39 [==============================] - ETA: 0s - loss: 0.4627 - accuracy: 0.9784 - auc: 0.9913\n",
            "Epoch 1: val_loss did not improve from 0.11101\n",
            "39/39 [==============================] - 119s 3s/step - loss: 0.4627 - accuracy: 0.9784 - auc: 0.9913 - val_loss: 0.3357 - val_accuracy: 0.9937 - val_auc: 1.0000 - lr: 0.0069\n",
            "Epoch 2/5\n",
            "39/39 [==============================] - ETA: 0s - loss: 0.3443 - accuracy: 0.9896 - auc: 0.9965\n",
            "Epoch 2: val_loss did not improve from 0.11101\n",
            "\n",
            "Epoch 2: ReduceLROnPlateau reducing learning rate to 0.006232949579134584.\n",
            "39/39 [==============================] - 110s 3s/step - loss: 0.3443 - accuracy: 0.9896 - auc: 0.9965 - val_loss: 0.2357 - val_accuracy: 0.9937 - val_auc: 0.9999 - lr: 0.0069\n",
            "Epoch 3/5\n",
            "39/39 [==============================] - ETA: 0s - loss: 0.2668 - accuracy: 0.9824 - auc: 0.9969\n",
            "Epoch 3: val_loss did not improve from 0.11101\n",
            "\n",
            "Epoch 3: ReduceLROnPlateau reducing learning rate to 0.005609654495492578.\n",
            "39/39 [==============================] - 109s 3s/step - loss: 0.2668 - accuracy: 0.9824 - auc: 0.9969 - val_loss: 0.3420 - val_accuracy: 0.9531 - val_auc: 0.9956 - lr: 0.0062\n",
            "Epoch 4/5\n",
            "39/39 [==============================] - ETA: 0s - loss: 0.3472 - accuracy: 0.9808 - auc: 0.9951\n",
            "Epoch 4: val_loss did not improve from 0.11101\n",
            "\n",
            "Epoch 4: ReduceLROnPlateau reducing learning rate to 0.004796254495158791.\n",
            "39/39 [==============================] - 99s 3s/step - loss: 0.3472 - accuracy: 0.9808 - auc: 0.9951 - val_loss: 0.3343 - val_accuracy: 0.9812 - val_auc: 0.9991 - lr: 0.0053\n",
            "Epoch 4: early stopping\n",
            "***************************************************\n",
            "\n",
            "\n",
            "\n",
            "Fold: 4\n",
            "train size: 1227\n",
            "test size: 307\n",
            "\n",
            "\n",
            "Epoch 1/5\n",
            "39/39 [==============================] - ETA: 0s - loss: 0.3569 - accuracy: 0.9760 - auc: 0.9950\n",
            "Epoch 1: val_loss did not improve from 0.11101\n",
            "39/39 [==============================] - 118s 3s/step - loss: 0.3569 - accuracy: 0.9760 - auc: 0.9950 - val_loss: 0.3392 - val_accuracy: 0.9875 - val_auc: 0.9934 - lr: 0.0048\n",
            "Epoch 2/5\n",
            "39/39 [==============================] - ETA: 0s - loss: 0.3197 - accuracy: 0.9848 - auc: 0.9963\n",
            "Epoch 2: val_loss did not improve from 0.11101\n",
            "39/39 [==============================] - 109s 3s/step - loss: 0.3197 - accuracy: 0.9848 - auc: 0.9963 - val_loss: 0.2628 - val_accuracy: 0.9906 - val_auc: 0.9998 - lr: 0.0048\n",
            "Epoch 3/5\n",
            "39/39 [==============================] - ETA: 0s - loss: 0.2659 - accuracy: 0.9880 - auc: 0.9972\n",
            "Epoch 3: val_loss did not improve from 0.11101\n",
            "\n",
            "Epoch 3: ReduceLROnPlateau reducing learning rate to 0.004316629003733397.\n",
            "39/39 [==============================] - 106s 3s/step - loss: 0.2659 - accuracy: 0.9880 - auc: 0.9972 - val_loss: 0.2004 - val_accuracy: 0.9906 - val_auc: 0.9998 - lr: 0.0048\n",
            "Epoch 4/5\n",
            "39/39 [==============================] - ETA: 0s - loss: 0.1468 - accuracy: 0.9976 - auc: 1.0000\n",
            "Epoch 4: val_loss did not improve from 0.11101\n",
            "\n",
            "Epoch 4: ReduceLROnPlateau reducing learning rate to 0.0036907179281115534.\n",
            "39/39 [==============================] - 99s 3s/step - loss: 0.1468 - accuracy: 0.9976 - auc: 1.0000 - val_loss: 0.1236 - val_accuracy: 0.9906 - val_auc: 0.9998 - lr: 0.0041\n",
            "Epoch 5/5\n",
            "39/39 [==============================] - ETA: 0s - loss: 0.1459 - accuracy: 0.9880 - auc: 0.9996\n",
            "Epoch 5: val_loss did not improve from 0.11101\n",
            "39/39 [==============================] - 97s 3s/step - loss: 0.1459 - accuracy: 0.9880 - auc: 0.9996 - val_loss: 0.1516 - val_accuracy: 0.9937 - val_auc: 0.9998 - lr: 0.0037\n",
            "***************************************************\n",
            "\n",
            "\n",
            "\n",
            "Fold: 5\n",
            "train size: 1228\n",
            "test size: 306\n",
            "\n",
            "\n",
            "Epoch 1/5\n",
            "39/39 [==============================] - ETA: 0s - loss: 0.1522 - accuracy: 0.9864 - auc: 0.9996\n",
            "Epoch 1: val_loss did not improve from 0.11101\n",
            "39/39 [==============================] - 116s 3s/step - loss: 0.1522 - accuracy: 0.9864 - auc: 0.9996 - val_loss: 0.1638 - val_accuracy: 0.9937 - val_auc: 0.9994 - lr: 0.0037\n",
            "Epoch 2/5\n",
            "39/39 [==============================] - ETA: 0s - loss: 0.2229 - accuracy: 0.9840 - auc: 0.9966\n",
            "Epoch 2: val_loss did not improve from 0.11101\n",
            "39/39 [==============================] - 110s 3s/step - loss: 0.2229 - accuracy: 0.9840 - auc: 0.9966 - val_loss: 0.1708 - val_accuracy: 1.0000 - val_auc: 1.0000 - lr: 0.0037\n",
            "Epoch 3/5\n",
            "39/39 [==============================] - ETA: 0s - loss: 0.1601 - accuracy: 0.9896 - auc: 0.9995\n",
            "Epoch 3: val_loss did not improve from 0.11101\n",
            "\n",
            "Epoch 3: ReduceLROnPlateau reducing learning rate to 0.003321646177209914.\n",
            "39/39 [==============================] - 109s 3s/step - loss: 0.1601 - accuracy: 0.9896 - auc: 0.9995 - val_loss: 0.1848 - val_accuracy: 0.9875 - val_auc: 0.9996 - lr: 0.0037\n",
            "Epoch 3: early stopping\n",
            "***************************************************\n",
            "\n",
            "\n",
            "\n"
          ]
        }
      ]
    },
    {
      "cell_type": "code",
      "source": [
        "model.save('saved_model/mobile_net_98_v2_2.h5')\n",
        "print(\"Saved model to disk\")"
      ],
      "metadata": {
        "id": "p4ljAbENIL-J",
        "colab": {
          "base_uri": "https://localhost:8080/"
        },
        "outputId": "4b949f21-3779-4cda-d230-b759db39a8d3"
      },
      "execution_count": null,
      "outputs": [
        {
          "output_type": "stream",
          "name": "stdout",
          "text": [
            "Saved model to disk\n"
          ]
        }
      ]
    },
    {
      "cell_type": "markdown",
      "source": [
        "# testing"
      ],
      "metadata": {
        "id": "gYdt2f8rR2D8"
      }
    },
    {
      "cell_type": "code",
      "source": [
        "from tensorflow.keras.preprocessing import image\n",
        "from tensorflow.keras.applications.resnet50 import preprocess_input, decode_predictions\n",
        "\n",
        "# Helper libraries\n",
        "import numpy as np\n",
        "import matplotlib.pyplot as pl\n",
        "import cv2 as cv\n",
        "from matplotlib import pyplot as plt\n",
        "\n",
        "print(tf.__version__)"
      ],
      "metadata": {
        "colab": {
          "base_uri": "https://localhost:8080/"
        },
        "id": "kkM_eP2qCN84",
        "outputId": "25ec322f-c070-4c51-fed6-2c12625544a8"
      },
      "execution_count": null,
      "outputs": [
        {
          "output_type": "stream",
          "name": "stdout",
          "text": [
            "2.8.0\n"
          ]
        }
      ]
    },
    {
      "cell_type": "code",
      "source": [
        "def display(img_path = \"/content/brinjal_chilli_model_data/Chilli/IMG_20220411_110117.jpg\"):\n",
        "    img = cv.imread(img_path) \n",
        "    plt.imshow(img)\n",
        "\n",
        "display( \"/content/brinjal_chilli_model_data/Chilli/IMG_20220411_110117.jpg\")"
      ],
      "metadata": {
        "colab": {
          "base_uri": "https://localhost:8080/",
          "height": 269
        },
        "id": "RP6dDV64R4T6",
        "outputId": "1efd3fba-c3c1-40cb-8c7a-f893c29c48ff"
      },
      "execution_count": null,
      "outputs": [
        {
          "output_type": "display_data",
          "data": {
            "text/plain": [
              "<Figure size 432x288 with 1 Axes>"
            ],
            "image/png": "[encoded data removed]"
          },
          "metadata": {
            "needs_background": "light"
          }
        }
      ]
    },
    {
      "cell_type": "code",
      "source": [
        "\n",
        "def prepare(filepath):\n",
        "  IMG_SIZE = 224\n",
        "  img_array = cv.imread(filepath)\n",
        "  resized_img_array = cv.resize(img_array, (IMG_SIZE ,IMG_SIZE)) \n",
        "  resized_scaled_img_array = resized_img_array/255.0\n",
        "  # plt.imshow(resized_scaled_img_array) \n",
        "  return resized_scaled_img_array.reshape(-1,IMG_SIZE,IMG_SIZE,3 )\n",
        "  \n",
        "# model.predict([prepare(\"/content/brinjal_chilli_model_data/Chilli/IMG20220411110032.jpg\")])"
      ],
      "metadata": {
        "id": "hmbXJ7ZXR4ri"
      },
      "execution_count": null,
      "outputs": []
    },
    {
      "cell_type": "markdown",
      "source": [
        "## **Testing vs train accuracy**"
      ],
      "metadata": {
        "id": "190ndrpniiMI"
      }
    },
    {
      "cell_type": "code",
      "source": [
        "from sklearn.metrics import accuracy_score\n",
        "from sklearn.metrics import log_loss\n",
        "\n",
        "preds = []\n",
        "preds_log_loss = []\n",
        "for i, image in enumerate(x_test):\n",
        "    pred_y = model.predict([prepare(image)])\n",
        "    preds_log_loss.append(pred_y.ravel())\n",
        "    preds.append(np.argmax(pred_y))\n",
        "\n",
        "print(\"test accuracy:\",accuracy_score(y_test, preds))\n",
        "print(\"test log loss:\",log_loss(y_test, preds_log_loss))\n",
        "\n",
        "preds = []\n",
        "preds_log_loss = []\n",
        "for i, image in enumerate(x_train):\n",
        "    pred_y = model.predict([prepare(image)])\n",
        "    preds_log_loss.append(pred_y.ravel())\n",
        "    preds.append(np.argmax(pred_y))\n",
        "\n",
        "print(\"train accuracy:\",accuracy_score(y_train, preds))\n",
        "print(\"train log loss:\",log_loss(y_train, preds_log_loss))"
      ],
      "metadata": {
        "colab": {
          "base_uri": "https://localhost:8080/"
        },
        "id": "DUBjmn6sR4vp",
        "outputId": "501be5ef-6465-43ed-f4bd-aac8c6fa07ff"
      },
      "execution_count": null,
      "outputs": [
        {
          "output_type": "stream",
          "name": "stdout",
          "text": [
            "test accuracy: 0.9824561403508771\n",
            "test log loss: 0.07318871231293683\n",
            "train accuracy: 0.9928292046936115\n",
            "train log loss: 0.01760426766610912\n"
          ]
        }
      ]
    },
    {
      "cell_type": "markdown",
      "source": [
        "# Testing on internet **images**"
      ],
      "metadata": {
        "id": "VFUflIbjh_fy"
      }
    },
    {
      "cell_type": "code",
      "source": [
        "#importing pathlib\n",
        "#please check https://docs.python.org/3/library/pathlib.html  to know about pathlib\n",
        "import pathlib\n",
        "data_root = pathlib.Path(\"/content/testing\")\n",
        "\n",
        "##Getting all image paths\n",
        "import random\n",
        "all_test_image_paths = list(data_root.glob('*'))\n",
        "all_test_image_paths = [str(path) for path in all_test_image_paths]\n",
        "# ##shuffling the images \n",
        "# random.shuffle(all_test_image_paths)\n",
        "\n",
        "image_count = len(all_test_image_paths)\n",
        "print(\"images:\",image_count)\n",
        "\n",
        "y_test_labels = []\n",
        "for file_path in all_test_image_paths:\n",
        "    # print(file_path.split('/')[3][0].lower() )\n",
        "    if file_path.split('/')[3][0].lower() !='b' and file_path.split('/')[3][0].lower() !='c':\n",
        "      pass\n",
        "    else:\n",
        "      y_test_labels.append(0 if file_path.split('/')[3][0].lower() =='b' else 1)\n",
        "\n",
        "y_test_labels,all_test_image_paths"
      ],
      "metadata": {
        "colab": {
          "base_uri": "https://localhost:8080/"
        },
        "id": "JTkfI4urSnPw",
        "outputId": "bf294d6c-41dc-4356-adc1-993130cdc20b"
      },
      "execution_count": null,
      "outputs": [
        {
          "output_type": "stream",
          "name": "stdout",
          "text": [
            "images: 3\n"
          ]
        },
        {
          "output_type": "execute_result",
          "data": {
            "text/plain": [
              "([0, 0, 0],\n",
              " ['/content/testing/b2.jpg',\n",
              "  '/content/testing/b1.jpg',\n",
              "  '/content/testing/b3.jpeg'])"
            ]
          },
          "metadata": {},
          "execution_count": 34
        }
      ]
    },
    {
      "cell_type": "code",
      "source": [
        "from sklearn.metrics import accuracy_score\n",
        "from sklearn.metrics import log_loss\n",
        "\n",
        "\n",
        "preds = []\n",
        "preds_log_loss = []\n",
        "for i, image in enumerate(all_test_image_paths):\n",
        "    try:\n",
        "      pred_y = model.predict([prepare(image)])\n",
        "      preds_log_loss.append(pred_y.ravel())\n",
        "      preds.append(np.argmax(pred_y))\n",
        "\n",
        "    except:\n",
        "      continue\n",
        "\n",
        "\n",
        "print(\"test accuracy:\",accuracy_score(y_test_labels, preds))\n",
        "print(\"test log loss:\",log_loss(y_test_labels, preds_log_loss))\n",
        "\n",
        "\n",
        "misclassfied_pts = []\n",
        "for i, label in enumerate(y_test_labels):\n",
        "  if y_test_labels[i]!=preds[i]:\n",
        "    misclassfied_pts.append(all_test_image_paths[i])\n",
        "\n",
        "print(\"POINTS MISCLASSIFIED:\",len(misclassfied_pts),\"/\",len(all_test_image_paths),\"\\n\")\n",
        "from google.colab.patches import cv2_imshow\n",
        "for image in  misclassfied_pts:\n",
        "  print(image)   \n",
        "  img = cv.imread(image, cv.IMREAD_UNCHANGED)\n",
        "  cv2_imshow(img)\n",
        "  print(\"\\n\\n\")\n",
        "  cv.waitKey(0)\n",
        "  cv.destroyAllWindows()"
      ],
      "metadata": {
        "colab": {
          "base_uri": "https://localhost:8080/",
          "height": 391
        },
        "id": "cTebnvtpS6v4",
        "outputId": "a597e34a-f822-4c2f-d104-d261d25198ab"
      },
      "execution_count": null,
      "outputs": [
        {
          "output_type": "stream",
          "name": "stdout",
          "text": [
            "test accuracy: 0.3333333333333333\n"
          ]
        },
        {
          "output_type": "error",
          "ename": "ValueError",
          "evalue": "ignored",
          "traceback": [
            "\u001b[0;31m---------------------------------------------------------------------------\u001b[0m",
            "\u001b[0;31mValueError\u001b[0m                                Traceback (most recent call last)",
            "\u001b[0;32m<ipython-input-35-ce9dfabed3d9>\u001b[0m in \u001b[0;36m<module>\u001b[0;34m()\u001b[0m\n\u001b[1;32m     16\u001b[0m \u001b[0;34m\u001b[0m\u001b[0m\n\u001b[1;32m     17\u001b[0m \u001b[0mprint\u001b[0m\u001b[0;34m(\u001b[0m\u001b[0;34m\"test accuracy:\"\u001b[0m\u001b[0;34m,\u001b[0m\u001b[0maccuracy_score\u001b[0m\u001b[0;34m(\u001b[0m\u001b[0my_test_labels\u001b[0m\u001b[0;34m,\u001b[0m \u001b[0mpreds\u001b[0m\u001b[0;34m)\u001b[0m\u001b[0;34m)\u001b[0m\u001b[0;34m\u001b[0m\u001b[0;34m\u001b[0m\u001b[0m\n\u001b[0;32m---> 18\u001b[0;31m \u001b[0mprint\u001b[0m\u001b[0;34m(\u001b[0m\u001b[0;34m\"test log loss:\"\u001b[0m\u001b[0;34m,\u001b[0m\u001b[0mlog_loss\u001b[0m\u001b[0;34m(\u001b[0m\u001b[0my_test_labels\u001b[0m\u001b[0;34m,\u001b[0m \u001b[0mpreds_log_loss\u001b[0m\u001b[0;34m)\u001b[0m\u001b[0;34m)\u001b[0m\u001b[0;34m\u001b[0m\u001b[0;34m\u001b[0m\u001b[0m\n\u001b[0m\u001b[1;32m     19\u001b[0m \u001b[0;34m\u001b[0m\u001b[0m\n\u001b[1;32m     20\u001b[0m \u001b[0;34m\u001b[0m\u001b[0m\n",
            "\u001b[0;32m/usr/local/lib/python3.7/dist-packages/sklearn/metrics/_classification.py\u001b[0m in \u001b[0;36mlog_loss\u001b[0;34m(y_true, y_pred, eps, normalize, sample_weight, labels)\u001b[0m\n\u001b[1;32m   2392\u001b[0m                 \u001b[0;34m\"y_true contains only one label ({0}). Please \"\u001b[0m\u001b[0;34m\u001b[0m\u001b[0;34m\u001b[0m\u001b[0m\n\u001b[1;32m   2393\u001b[0m                 \u001b[0;34m\"provide the true labels explicitly through the \"\u001b[0m\u001b[0;34m\u001b[0m\u001b[0;34m\u001b[0m\u001b[0m\n\u001b[0;32m-> 2394\u001b[0;31m                 \u001b[0;34m\"labels argument.\"\u001b[0m\u001b[0;34m.\u001b[0m\u001b[0mformat\u001b[0m\u001b[0;34m(\u001b[0m\u001b[0mlb\u001b[0m\u001b[0;34m.\u001b[0m\u001b[0mclasses_\u001b[0m\u001b[0;34m[\u001b[0m\u001b[0;36m0\u001b[0m\u001b[0;34m]\u001b[0m\u001b[0;34m)\u001b[0m\u001b[0;34m\u001b[0m\u001b[0;34m\u001b[0m\u001b[0m\n\u001b[0m\u001b[1;32m   2395\u001b[0m             )\n\u001b[1;32m   2396\u001b[0m         \u001b[0;32melse\u001b[0m\u001b[0;34m:\u001b[0m\u001b[0;34m\u001b[0m\u001b[0;34m\u001b[0m\u001b[0m\n",
            "\u001b[0;31mValueError\u001b[0m: y_true contains only one label (0). Please provide the true labels explicitly through the labels argument."
          ]
        }
      ]
    },
    {
      "cell_type": "markdown",
      "source": [
        "# **Saving model**"
      ],
      "metadata": {
        "id": "gv8OLHDtiGs6"
      }
    },
    {
      "cell_type": "code",
      "source": [
        "model.save('saved_model/mobile_net_98_v2')"
      ],
      "metadata": {
        "id": "nji-9HJbCOFA",
        "colab": {
          "base_uri": "https://localhost:8080/"
        },
        "outputId": "9a6c8771-b216-417c-bdd1-8addf0ac1e96"
      },
      "execution_count": null,
      "outputs": [
        {
          "output_type": "stream",
          "name": "stderr",
          "text": [
            "WARNING:absl:Found untraced functions such as restored_function_body, restored_function_body, restored_function_body, restored_function_body, restored_function_body while saving (showing 5 of 40). These functions will not be directly callable after loading.\n"
          ]
        },
        {
          "output_type": "stream",
          "name": "stdout",
          "text": [
            "INFO:tensorflow:Assets written to: saved_model/mobile_net_98_v2/assets\n"
          ]
        },
        {
          "output_type": "stream",
          "name": "stderr",
          "text": [
            "INFO:tensorflow:Assets written to: saved_model/mobile_net_98_v2/assets\n"
          ]
        }
      ]
    },
    {
      "cell_type": "markdown",
      "source": [
        "**Uploading model to drive**"
      ],
      "metadata": {
        "id": "hRKyfOqhiOtb"
      }
    },
    {
      "cell_type": "code",
      "source": [
        "!gsutil cp -r \"/content/saved_model/mobile_net_98_v2.h5\" \"/content/gdrive/MyDrive/saved model\""
      ],
      "metadata": {
        "colab": {
          "base_uri": "https://localhost:8080/"
        },
        "id": "HWuQebY1w8fU",
        "outputId": "00af04ed-c5d8-4c74-b798-cf09a3d1b996"
      },
      "execution_count": null,
      "outputs": [
        {
          "output_type": "stream",
          "name": "stdout",
          "text": [
            "Copying file:///content/saved_model/mobile_net_98_v2.h5...\n",
            "/ [1 files][ 89.9 MiB/ 89.9 MiB]                                                \n",
            "Operation completed over 1 objects/89.9 MiB.                                     \n"
          ]
        }
      ]
    },
    {
      "cell_type": "markdown",
      "source": [
        "Loading saved model from drive"
      ],
      "metadata": {
        "id": "UMuaFC3stAQa"
      }
    },
    {
      "cell_type": "code",
      "source": [
        "import shutil\n",
        "!gsutil cp -r \"/content/gdrive/MyDrive/saved model/mobile_net_98_v2_2.h5\" \"/content\" "
      ],
      "metadata": {
        "colab": {
          "base_uri": "https://localhost:8080/"
        },
        "id": "z4viN_AVynVw",
        "outputId": "7f0a214f-40c8-4f55-f48b-b1494959b717"
      },
      "execution_count": null,
      "outputs": [
        {
          "output_type": "stream",
          "name": "stdout",
          "text": [
            "Copying file:///content/gdrive/MyDrive/saved model/mobile_net_98_v2_2.h5...\n",
            "-\n",
            "Operation completed over 1 objects/89.9 MiB.                                     \n"
          ]
        }
      ]
    },
    {
      "cell_type": "code",
      "source": [
        "import shutil\n",
        "!gsutil cp -r \"/content/gdrive/MyDrive/saved model/tflite_model.tflite\" \"/content\" "
      ],
      "metadata": {
        "colab": {
          "base_uri": "https://localhost:8080/"
        },
        "id": "rxdSqdF-tInC",
        "outputId": "cf74ccdc-b83e-447d-e947-08cda2a98994"
      },
      "execution_count": null,
      "outputs": [
        {
          "output_type": "stream",
          "name": "stdout",
          "text": [
            "Copying file:///content/gdrive/MyDrive/saved model/tflite_model.tflite...\n",
            "-\n",
            "Operation completed over 1 objects/45.4 MiB.                                     \n"
          ]
        }
      ]
    },
    {
      "cell_type": "code",
      "source": [
        "from tensorflow.keras.models import load_model\n",
        "model = load_model(\"/content/mobile_net_98\")"
      ],
      "metadata": {
        "id": "mGWIWU0Hw8mb"
      },
      "execution_count": null,
      "outputs": []
    },
    {
      "cell_type": "code",
      "source": [
        "model.summary()"
      ],
      "metadata": {
        "id": "1NkQ3MxMw8qD",
        "colab": {
          "base_uri": "https://localhost:8080/"
        },
        "outputId": "f55c8bf3-bc84-477f-958b-e8edabd4c92b"
      },
      "execution_count": null,
      "outputs": [
        {
          "output_type": "stream",
          "name": "stdout",
          "text": [
            "Model: \"sequential\"\n",
            "_________________________________________________________________\n",
            " Layer (type)                Output Shape              Param #   \n",
            "=================================================================\n",
            " keras_layer (KerasLayer)    (32, 2048)                23500352  \n",
            "                                                                 \n",
            " dropout (Dropout)           (32, 2048)                0         \n",
            "                                                                 \n",
            " output (Dense)              (32, 2)                   4098      \n",
            "                                                                 \n",
            "=================================================================\n",
            "Total params: 23,504,450\n",
            "Trainable params: 4,098\n",
            "Non-trainable params: 23,500,352\n",
            "_________________________________________________________________\n"
          ]
        }
      ]
    },
    {
      "cell_type": "code",
      "source": [
        "#save\n",
        "model.save('saved_model/mobile_net_98.h5')\n",
        "!gsutil cp -r \"/content/saved_model/mobile_net_98.h5\" \"/content/gdrive/MyDrive/test saved models\" "
      ],
      "metadata": {
        "id": "BF6zkx4Bw8uL",
        "colab": {
          "base_uri": "https://localhost:8080/"
        },
        "outputId": "0d40b57a-1cfb-49ff-9447-0e0b7657a354"
      },
      "execution_count": null,
      "outputs": [
        {
          "output_type": "stream",
          "name": "stdout",
          "text": [
            "Copying file:///content/saved_model/mobile_net_98.h5...\n",
            "-\n",
            "Operation completed over 1 objects/89.9 MiB.                                     \n"
          ]
        }
      ]
    },
    {
      "cell_type": "code",
      "source": [
        "#save_weights\n",
        "model.save_weights('/content/saved_model/weights.h5')\n",
        "!gsutil cp -r \"/content/saved_model/weights.h5\" \"/content/gdrive/MyDrive/test saved models\" "
      ],
      "metadata": {
        "id": "IQo_MuM5w8yM",
        "colab": {
          "base_uri": "https://localhost:8080/"
        },
        "outputId": "2633b5dd-397d-44fa-ce7b-18a0c036324c"
      },
      "execution_count": null,
      "outputs": [
        {
          "output_type": "stream",
          "name": "stdout",
          "text": [
            "Copying file:///content/saved_model/weights.h5...\n",
            "-\n",
            "Operation completed over 1 objects/89.9 MiB.                                     \n"
          ]
        }
      ]
    },
    {
      "cell_type": "code",
      "source": [
        "import os\n",
        "# Get file size in bytes for a given model\n",
        "print(\"model size\",os.stat('/content/saved_model/mobile_net_98.h5').st_size*1e-6,\"mb\")"
      ],
      "metadata": {
        "id": "AcLQ_S5g-XKy",
        "colab": {
          "base_uri": "https://localhost:8080/"
        },
        "outputId": "ff24d17a-e5ad-44fa-f80f-0beaa13201a5"
      },
      "execution_count": null,
      "outputs": [
        {
          "output_type": "stream",
          "name": "stdout",
          "text": [
            "model size 94.265552 mb\n"
          ]
        }
      ]
    },
    {
      "cell_type": "markdown",
      "source": [
        "Reducing size of model (TFlite)"
      ],
      "metadata": {
        "id": "goWcCuX6yIp1"
      }
    },
    {
      "cell_type": "code",
      "source": [
        "!gsutil cp -r \"/content/tflite_model.tflite\" \"/content/gdrive/MyDrive/saved model\""
      ],
      "metadata": {
        "colab": {
          "base_uri": "https://localhost:8080/"
        },
        "id": "5Y_J8Q0WzGXA",
        "outputId": "1f7d830f-bae9-4841-8e70-29c35522c909"
      },
      "execution_count": null,
      "outputs": [
        {
          "output_type": "stream",
          "name": "stdout",
          "text": [
            "Copying file:///content/tflite_model.tflite...\n",
            "-\n",
            "Operation completed over 1 objects/45.4 MiB.                                     \n"
          ]
        }
      ]
    },
    {
      "cell_type": "markdown",
      "source": [
        "# **Post Training Quantization**"
      ],
      "metadata": {
        "id": "tBLH_lK-HzLy"
      }
    },
    {
      "cell_type": "code",
      "source": [
        "from tensorflow.keras.models import load_model\n",
        "import tensorflow_hub as hub\n",
        "\n",
        "model = load_model(\"/content/mobile_net_98_v2_2.h5\",custom_objects={'KerasLayer':hub.KerasLayer})\n",
        "converter = tf.lite.TFLiteConverter.from_keras_model(model)\n",
        "converter.optimizations = [tf.lite.Optimize.DEFAULT]\n",
        "converter.target_spec.supported_ops = [\n",
        "  tf.lite.OpsSet.TFLITE_BUILTINS, # enable TensorFlow Lite ops.\n",
        "  tf.lite.OpsSet.SELECT_TF_OPS # enable TensorFlow ops.\n",
        "  ]\n",
        "tf_lite = converter.convert()"
      ],
      "metadata": {
        "id": "IkzFQ5vL-XPK",
        "colab": {
          "base_uri": "https://localhost:8080/"
        },
        "outputId": "4ff6291e-5c22-4e9a-ebc1-d1535c187467"
      },
      "execution_count": null,
      "outputs": [
        {
          "output_type": "stream",
          "name": "stderr",
          "text": [
            "WARNING:absl:Found untraced functions such as restored_function_body, restored_function_body, restored_function_body, restored_function_body, restored_function_body while saving (showing 5 of 40). These functions will not be directly callable after loading.\n"
          ]
        },
        {
          "output_type": "stream",
          "name": "stdout",
          "text": [
            "INFO:tensorflow:Assets written to: /tmp/tmpprmc8abl/assets\n"
          ]
        },
        {
          "output_type": "stream",
          "name": "stderr",
          "text": [
            "INFO:tensorflow:Assets written to: /tmp/tmpprmc8abl/assets\n",
            "WARNING:absl:Buffer deduplication procedure will be skipped when flatbuffer library is not properly loaded\n"
          ]
        }
      ]
    },
    {
      "cell_type": "code",
      "source": [
        "print(\"model size\",len(tf_lite)*1e-6,\"mb\")"
      ],
      "metadata": {
        "id": "3aRdSvx3-XSq",
        "colab": {
          "base_uri": "https://localhost:8080/"
        },
        "outputId": "9d100bbe-62f7-4db1-905b-b900393f75ee"
      },
      "execution_count": null,
      "outputs": [
        {
          "output_type": "stream",
          "name": "stdout",
          "text": [
            "model size 47.651807999999996 mb\n"
          ]
        }
      ]
    },
    {
      "cell_type": "code",
      "source": [
        "with open(\"tflite_model.tflite\",'wb') as f:\n",
        "  f.write(tf_lite)"
      ],
      "metadata": {
        "id": "hXNbkjlG68I0"
      },
      "execution_count": null,
      "outputs": []
    },
    {
      "cell_type": "code",
      "source": [
        "!gsutil cp -r  \"/content/gdrive/MyDrive/saved model/tflite_model.tflite\" \"/content/\""
      ],
      "metadata": {
        "colab": {
          "base_uri": "https://localhost:8080/"
        },
        "id": "1r-Z3pZA2Ucd",
        "outputId": "81782682-b47d-46f0-ce30-e81efd070dff"
      },
      "execution_count": null,
      "outputs": [
        {
          "output_type": "stream",
          "name": "stdout",
          "text": [
            "Copying file:///content/gdrive/MyDrive/saved model/tflite_model.tflite...\n",
            "-\n",
            "Operation completed over 1 objects/45.4 MiB.                                     \n"
          ]
        }
      ]
    },
    {
      "cell_type": "code",
      "source": [
        "def test(processed_image):\n",
        "      # Load TFLite model and allocate tensors.\n",
        "      interpreter = tf.lite.Interpreter(model_path=\"/content/tflite_model.tflite\")\n",
        "      interpreter.allocate_tensors()\n",
        "\n",
        "      # Get input and output tensors.\n",
        "      input_details = interpreter.get_input_details()\n",
        "      output_details = interpreter.get_output_details()\n",
        "\n",
        "      # Test model on some input data.\n",
        "      input_shape = input_details[0]['shape']\n",
        "      \n",
        "      input_data = processed_image.astype('float32')\n",
        "      interpreter.set_tensor(input_details[0]['index'], input_data)\n",
        "      interpreter.invoke()\n",
        "      output_data = interpreter.get_tensor(output_details[0]['index'])\n",
        "      return output_data.flatten()\n",
        " \n",
        "\n",
        "print(test(prepare(x_test[3])))\n",
        "display(x_test[3])"
      ],
      "metadata": {
        "colab": {
          "base_uri": "https://localhost:8080/",
          "height": 286
        },
        "id": "BhAxmQBq_fjP",
        "outputId": "66472829-9ae0-4be2-d902-80f2a51e9501"
      },
      "execution_count": null,
      "outputs": [
        {
          "output_type": "stream",
          "name": "stdout",
          "text": [
            "[0.00136229 0.99863774]\n"
          ]
        },
        {
          "output_type": "display_data",
          "data": {
            "text/plain": [
              "<Figure size 432x288 with 1 Axes>"
            ],
            "image/png": "[encoded data removed]"
          },
          "metadata": {
            "needs_background": "light"
          }
        }
      ]
    },
    {
      "cell_type": "code",
      "source": [
        ""
      ],
      "metadata": {
        "id": "UMjrHluW2zLk"
      },
      "execution_count": null,
      "outputs": []
    },
    {
      "cell_type": "code",
      "source": [
        "\n",
        "\n",
        "# Load TFLite model and allocate tensors.\n",
        "interpreter = tf.lite.Interpreter(model_path=\"/content/tflite_model.tflite\")\n",
        "interpreter.allocate_tensors()\n",
        "\n",
        "# Get input and output tensors.\n",
        "input_details = interpreter.get_input_details()\n",
        "output_details = interpreter.get_output_details()\n",
        "\n",
        "# Test model on some input data.\n",
        "input_shape = input_details[0]['shape']\n",
        "acc=0\n",
        "for i in range(len(x_test)):\n",
        "    input_data = prepare(x_test[i]).astype('float32').reshape(input_shape)\n",
        "    interpreter.set_tensor(input_details[0]['index'], input_data)\n",
        "    interpreter.invoke()\n",
        "    output_data = interpreter.get_tensor(output_details[0]['index'])\n",
        "    if(np.argmax(output_data) == y_test[i]):\n",
        "        acc+=1\n",
        "acc = acc/len(x_test)\n",
        "print(acc*100)"
      ],
      "metadata": {
        "id": "erkxdD6swEQu"
      },
      "execution_count": null,
      "outputs": []
    },
    {
      "cell_type": "code",
      "source": [
        ""
      ],
      "metadata": {
        "id": "fh44wF2dxyOE"
      },
      "execution_count": null,
      "outputs": []
    }
  ]
}